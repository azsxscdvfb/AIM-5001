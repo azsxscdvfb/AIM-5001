{
 "cells": [
  {
   "cell_type": "code",
   "execution_count": 18,
   "id": "eef1b400",
   "metadata": {},
   "outputs": [
    {
     "name": "stdout",
     "output_type": "stream",
     "text": [
      "['high', 'high', 'high', 'high', 'vhigh', 'low', 'med', 'low', 'vhigh', 'vhigh', 'low', 'vhigh', 'high', 'low', 'high', 'vhigh', 'med', 'high', 'low', 'low', 'med', 'low', 'vhigh', 'med', 'low', 'vhigh', 'med', 'high', 'low', 'med', 'high', 'high', 'low', 'vhigh', 'high']\n",
      "['high', 'high', 'high', 'low', 'low', 'high', 'med', 'low', 'low', 'high', 'low', 'low', 'low', 'vhigh', 'low', 'high', 'med', 'low', 'low', 'low', 'high', 'low', 'high', 'vhigh', 'vhigh', 'low', 'vhigh', 'high', 'high', 'high', 'low', 'vhigh', 'low', 'vhigh', 'low']\n",
      "['4', 'more', 'more', 'more', '2', '2', 'more', '2', '2', '4', '2', 'more', '4', 'more', '2', 'more', '2', '4', 'more', '2', '2', '2', '4', '2', '4', 'more', '4', '4', '2', '2', '4', '4', '2', '2', '2']\n",
      "['2', '4', '4', '2', '3', '2', '4', '3', '2', '4', '2', '4', '2', '3', '5more', '2', '2', '5more', '3', '2', '4', '2', '5more', '2', '4', '3', '3', '3', '5more', '5more', '3', '5more', '5more', '4', '3']\n",
      "['med', 'small', 'big', 'big', 'med', 'small', 'med', 'big', 'small', 'med', 'med', 'small', 'big', 'big', 'big', 'med', 'small', 'med', 'med', 'big', 'big', 'small', 'med', 'big', 'big', 'big', 'small', 'med', 'big', 'med', 'med', 'med', 'med', 'big', 'big']\n",
      "['low', 'high', 'low', 'high', 'med', 'low', 'high', 'med', 'low', 'low', 'med', 'high', 'med', 'low', 'med', 'high', 'low', 'high', 'high', 'med', 'high', 'high', 'med', 'low', 'low', 'low', 'low', 'med', 'low', 'med', 'high', 'med', 'low', 'high', 'high']\n",
      "['unacc', 'acc', 'unacc', 'acc', 'unacc', 'unacc', 'vgood', 'unacc', 'unacc', 'unacc', 'unacc', 'acc', 'acc', 'unacc', 'unacc', 'unacc', 'unacc', 'acc', 'vgood', 'unacc', 'unacc', 'unacc', 'unacc', 'unacc', 'unacc', 'unacc', 'unacc', 'unacc', 'unacc', 'unacc', 'acc', 'unacc', 'unacc', 'unacc', 'unacc']\n"
     ]
    }
   ],
   "source": [
    "import csv\n",
    "\n",
    "#task1\n",
    "Price = []\n",
    "Maintenance_cost = []\n",
    "Number_of_doors = []\n",
    "Number_of_passengers = []\n",
    "Luggage_capacity = []\n",
    "Safety_rating = []\n",
    "Classification_of_vehicle = []\n",
    "list = []                                           #use \"list\" to store the whole file\n",
    "with open('cars-sample35.txt') as csvfile:          #read file and store data\n",
    "    readCSV = csv.reader(csvfile)\n",
    "    for row in readCSV:\n",
    "        list.append(row)                            #use \"list\" to store every line and other lists to store attributes\n",
    "        Price.append(row[0])\n",
    "        Maintenance_cost.append(row[1])\n",
    "        Number_of_doors.append(row[2])\n",
    "        Number_of_passengers.append(row[3])\n",
    "        Luggage_capacity.append(row[4])\n",
    "        Safety_rating.append(row[5])\n",
    "        Classification_of_vehicle.append(row[6])\n",
    "print(Price)                                        #print every attribute\n",
    "print(Maintenance_cost)\n",
    "print(Number_of_passengers)\n",
    "print(Number_of_doors)\n",
    "print(Luggage_capacity)\n",
    "print(Safety_rating)\n",
    "print(Classification_of_vehicle)\n",
    "\n",
    "\n"
   ]
  },
  {
   "cell_type": "code",
   "execution_count": 19,
   "id": "20986318",
   "metadata": {},
   "outputs": [
    {
     "name": "stdout",
     "output_type": "stream",
     "text": [
      "6:['med', 'med', '4', 'more', 'med', 'high', 'vgood']\n",
      "16:['med', 'med', '2', '2', 'small', 'low', 'unacc']\n",
      "20:['med', 'high', '4', '2', 'big', 'high', 'unacc']\n",
      "23:['med', 'vhigh', '2', '2', 'big', 'low', 'unacc']\n",
      "26:['med', 'vhigh', '3', '4', 'small', 'low', 'unacc']\n",
      "29:['med', 'high', '5more', '2', 'med', 'med', 'unacc']\n",
      "[6, 16, 20, 23, 26, 29]\n"
     ]
    }
   ],
   "source": [
    "\n",
    "#task2\n",
    "\n",
    "MedPriceIndex = []                                  #use MedPriceIndex to store the index values\n",
    "                                                    #index value count from 0\n",
    "for i,row in enumerate(Price):                      #traverse \"list\" which we get at task1\n",
    "    if(row =='med'):                                #once we find it, record the index value\n",
    "        MedPriceIndex.append(i)\n",
    "        print(str(i)+\":\"+str(list[i]))\n",
    "print(MedPriceIndex)"
   ]
  },
  {
   "cell_type": "code",
   "execution_count": 20,
   "id": "49cd2c76",
   "metadata": {},
   "outputs": [
    {
     "name": "stdout",
     "output_type": "stream",
     "text": [
      "['more', '2', '2', '2', '4', '2']\n"
     ]
    }
   ],
   "source": [
    "#task3\n",
    "NoPofMedPrice = []                                  #according to the index values which we find at task2, we can find it in NoP list\n",
    "for i in MedPriceIndex:\n",
    "    NoPofMedPrice.append(Number_of_passengers[i])\n",
    "print(NoPofMedPrice)\n"
   ]
  },
  {
   "cell_type": "code",
   "execution_count": 21,
   "id": "7075a270",
   "metadata": {},
   "outputs": [
    {
     "name": "stdout",
     "output_type": "stream",
     "text": [
      "0: ['high', 'high', '2', '4', 'med', 'low', 'unacc']\n",
      "1: ['high', 'high', '4', 'more', 'small', 'high', 'acc']\n",
      "2: ['high', 'high', '4', 'more', 'big', 'low', 'unacc']\n",
      "27: ['high', 'high', '3', '4', 'med', 'med', 'unacc']\n",
      "31: ['high', 'vhigh', '5more', '4', 'med', 'med', 'unacc']\n",
      "[0, 1, 2, 27, 31]\n"
     ]
    }
   ],
   "source": [
    "#task4\n",
    "PhMnlIndex = []                                     #use this list to store the index value\n",
    "for i, val in enumerate(Price):                     #search the data according to the number of Price\n",
    "    if(Price[i] == 'high' and Maintenance_cost[i] != 'low'):\n",
    "        PhMnlIndex.append(i)\n",
    "        print(str(i)+\":\",list[i])\n",
    "print(PhMnlIndex)"
   ]
  },
  {
   "cell_type": "code",
   "execution_count": 23,
   "id": "432c2dba",
   "metadata": {},
   "outputs": [
    {
     "name": "stdout",
     "output_type": "stream",
     "text": [
      "UniqueId: 3 ,Price: high ,Maintenance_cost: low ,Number_of_doors: 2 ,Number_of_passengers: more ,Luggage_capacity: big ,Safety_rating: high ,Classification_of_vehicle: acc\n",
      "None\n",
      "UniqueId: 12 ,Price: high ,Maintenance_cost: low ,Number_of_doors: 2 ,Number_of_passengers: 4 ,Luggage_capacity: big ,Safety_rating: med ,Classification_of_vehicle: acc\n",
      "None\n",
      "UniqueId: 19 ,Price: low ,Maintenance_cost: low ,Number_of_doors: 2 ,Number_of_passengers: 2 ,Luggage_capacity: big ,Safety_rating: med ,Classification_of_vehicle: unacc\n",
      "None\n",
      "UniqueId: 23 ,Price: med ,Maintenance_cost: vhigh ,Number_of_doors: 2 ,Number_of_passengers: 2 ,Luggage_capacity: big ,Safety_rating: low ,Classification_of_vehicle: unacc\n",
      "None\n",
      "[3, 12, 19, 23]\n"
     ]
    }
   ],
   "source": [
    "\n",
    "\n",
    "#tak5,6\n",
    "class CarData:\n",
    "    CarCount = 0                                                       #use carcount to calculate uniqueId\n",
    "    def __init__(self,                                                 #Initialize input 7 values and automatically calculate uniqueId\n",
    "                 Price,\n",
    "                 Maintenance_cost,\n",
    "                 Number_of_doors,\n",
    "                 Number_of_passengers,\n",
    "                 Luggage_capacity,\n",
    "                 Safety_rating,\n",
    "                 Classification_of_vehicle\n",
    "                 ):\n",
    "        self.Price = Price\n",
    "        self.Maintenance_cost = Maintenance_cost\n",
    "        self.Number_of_doors = Number_of_doors\n",
    "        self.Number_of_passengers = Number_of_passengers\n",
    "        self.Luggage_capacity = Luggage_capacity\n",
    "        self.Safety_rating = Safety_rating\n",
    "        self.Classification_of_vehicle = Classification_of_vehicle\n",
    "        self.uniqueId = self.CarCount\n",
    "        CarData.CarCount += 1\n",
    "\n",
    "    def displayCar(self):                                               #use this method to print information\n",
    "        print(\"UniqueId:\", self.uniqueId,\n",
    "              \",Price:\", self.Price,\n",
    "              \",Maintenance_cost:\", self.Maintenance_cost,\n",
    "              \",Number_of_doors:\", self.Number_of_doors,\n",
    "              \",Number_of_passengers:\", self.Number_of_passengers,\n",
    "              \",Luggage_capacity:\", self.Luggage_capacity,\n",
    "              \",Safety_rating:\", self.Safety_rating,\n",
    "              \",Classification_of_vehicle:\", self.Classification_of_vehicle\n",
    "              )\n",
    "\n",
    "Car = []                                                                #use this list to store the objectors\n",
    "for i in list:                                                          #input data in Car list\n",
    "    Car.append(CarData(i[0],i[1],i[2],i[3],i[4],i[5],i[6]))\n",
    "NoD2Lb = []                                                             #use this list to store uniqueId\n",
    "for i in Car:\n",
    "    if(i.Number_of_doors== '2' and i.Luggage_capacity=='big'):\n",
    "        NoD2Lb.append(i.uniqueId)\n",
    "        print(i.displayCar())\n",
    "print(NoD2Lb)"
   ]
  }
 ],
 "metadata": {
  "kernelspec": {
   "display_name": "Python 3 (ipykernel)",
   "language": "python",
   "name": "python3"
  },
  "language_info": {
   "codemirror_mode": {
    "name": "ipython",
    "version": 3
   },
   "file_extension": ".py",
   "mimetype": "text/x-python",
   "name": "python",
   "nbconvert_exporter": "python",
   "pygments_lexer": "ipython3",
   "version": "3.9.12"
  }
 },
 "nbformat": 4,
 "nbformat_minor": 5
}
