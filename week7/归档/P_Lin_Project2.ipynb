{
 "cells": [
  {
   "cell_type": "code",
   "execution_count": null,
   "metadata": {},
   "outputs": [],
   "source": [
    "import pandas as pd\n",
    "f = pd.read_csv('https://raw.githubusercontent.com/azsxscdvfb/AIM-5001/main/week7/Education.csv', skiprows=4, index_col=['State', 'Area name'],thousands=',')\n",
    "f\n"
   ]
  },
  {
   "cell_type": "code",
   "execution_count": null,
   "metadata": {},
   "outputs": [],
   "source": [
    "indices = list(range(9,50,8))\n",
    "less_than_highSchool = f.iloc[:,indices]\n",
    "less_than_highSchool"
   ]
  },
  {
   "cell_type": "code",
   "execution_count": null,
   "metadata": {},
   "outputs": [],
   "source": [
    "indices = list(range(10,51,8))\n",
    "highSchool_only = f.iloc[:,indices]\n",
    "highSchool_only"
   ]
  },
  {
   "cell_type": "code",
   "execution_count": null,
   "metadata": {},
   "outputs": [],
   "source": [
    "indices = list(range(11,52,8))\n",
    "less_than_4years_college = f.iloc[:, indices]\n",
    "less_than_4years_college"
   ]
  },
  {
   "cell_type": "code",
   "execution_count": null,
   "metadata": {},
   "outputs": [],
   "source": [
    "indices = list(range(12,53,8))\n",
    "fourYears_college_or_higher = f.iloc[:, indices]\n",
    "fourYears_college_or_higher"
   ]
  },
  {
   "cell_type": "code",
   "execution_count": null,
   "metadata": {},
   "outputs": [],
   "source": [
    "for idx,row in f.iterrows():\n",
    "    print(row)\n",
    "    break"
   ]
  },
  {
   "cell_type": "code",
   "execution_count": null,
   "metadata": {},
   "outputs": [],
   "source": [
    "temp = f.index[0][0]\n",
    "states = [temp]\n",
    "for i in f.index:\n",
    "    if(i[0] != temp):\n",
    "        temp = i[0]\n",
    "        states.append(temp)\n",
    "print(states)"
   ]
  },
  {
   "cell_type": "code",
   "execution_count": null,
   "metadata": {},
   "outputs": [],
   "source": [
    "def Sum_series(dfs,arg,n):\n",
    "    sum = 0\n",
    "    for i in range(arg,arg+n):\n",
    "        if(pd.isna(dfs[i])):\n",
    "            return None\n",
    "        sum +=int(dfs[i])\n",
    "    return sum"
   ]
  },
  {
   "cell_type": "code",
   "execution_count": null,
   "metadata": {},
   "outputs": [],
   "source": [
    "i ='1,1111,1'\n",
    "print(i.split(','))"
   ]
  },
  {
   "cell_type": "code",
   "execution_count": null,
   "metadata": {},
   "outputs": [],
   "source": [
    "state_total_educated_population = pd.DataFrame(columns = ['State','name','1970','1980','1990','2000','2007-11','2016-20'])\n",
    "for p in states:\n",
    "    for idx,row in f.iterrows():\n",
    "        if(idx[0] == p):\n",
    "            temp_series = pd.Series([idx[0],idx[1],Sum_series(row,5,4),Sum_series(row,13,4),Sum_series(row,21,4),Sum_series(row,29,4),Sum_series(row,37,4),Sum_series(row,45,4)],\n",
    "                                    index = ['State','name','1970','1980','1990','2000','2007-11','2016-20'])\n",
    "            state_total_educated_population.loc[len(state_total_educated_population)] = temp_series\n",
    "            break\n",
    "state_total_educated_population"
   ]
  },
  {
   "cell_type": "code",
   "execution_count": null,
   "metadata": {},
   "outputs": [],
   "source": [
    "def return_state_data(df):\n",
    "    r_df = pd.DataFrame(columns = ['State','name','1970','1980','1990','2000','2007-11','2016-20'])\n",
    "    for p in states:\n",
    "        for idx,row in df.iterrows():\n",
    "            if(idx[0] == p):\n",
    "                State_Series = pd.Series({'State' : idx[0],'name': idx[1]})\n",
    "                row.index = ['1970','1980','1990','2000','2007-11','2016-20']\n",
    "                row = pd.concat([State_Series,row])\n",
    "                r_df.loc[len(r_df)] = row\n",
    "                break\n",
    "    return r_df"
   ]
  },
  {
   "cell_type": "code",
   "execution_count": null,
   "metadata": {},
   "outputs": [],
   "source": [
    "state_less_than_highSchool = return_state_data(less_than_highSchool)\n",
    "state_less_than_highSchool"
   ]
  },
  {
   "cell_type": "code",
   "execution_count": null,
   "metadata": {},
   "outputs": [],
   "source": [
    "state_highSchool_only = return_state_data(highSchool_only)\n",
    "state_highSchool_only"
   ]
  },
  {
   "cell_type": "code",
   "execution_count": null,
   "metadata": {},
   "outputs": [],
   "source": [
    "state_less_than_4years_college = return_state_data(less_than_4years_college)\n",
    "state_less_than_4years_college"
   ]
  },
  {
   "cell_type": "code",
   "execution_count": null,
   "metadata": {},
   "outputs": [],
   "source": [
    "state_fourYears_college_or_higher = return_state_data(fourYears_college_or_higher)\n",
    "state_fourYears_college_or_higher"
   ]
  },
  {
   "cell_type": "code",
   "execution_count": null,
   "metadata": {},
   "outputs": [],
   "source": [
    "def return_us_status(df):\n",
    "    r_df = df.iloc[0]\n",
    "    r_df.index = ['1970','1980','1990','2000','2007-11','2016-20']\n",
    "    return r_df"
   ]
  },
  {
   "cell_type": "code",
   "execution_count": null,
   "metadata": {},
   "outputs": [],
   "source": [
    "import matplotlib.pyplot as plt\n",
    "US_less_than_high_school = return_us_status(less_than_highSchool)\n",
    "US_highSchool_only = return_us_status(highSchool_only)\n",
    "US_less_than_4years_college = return_us_status(less_than_4years_college)\n",
    "US_fourYears_college_or_higher = return_us_status(fourYears_college_or_higher)\n",
    "\n",
    "US_less_than_high_school.plot(figsize = (16, 12), label=\"less_than_high_school\") #默认将df中所有列的数据都绘成图，X轴默认为index列，figsize指图形尺寸\n",
    "US_highSchool_only.plot(label = \"highSchool_only\")\n",
    "US_less_than_4years_college.plot(label = \"less_than_4years_college\")\n",
    "US_fourYears_college_or_higher.plot(label = \"fourYears_college_or_higher\")\n",
    "plt.legend(loc = 'upper right')\n",
    "plt.show()\n",
    "plt.clf()\n"
   ]
  },
  {
   "cell_type": "code",
   "execution_count": null,
   "metadata": {},
   "outputs": [],
   "source": [
    "state_less_than_highSchool_increase_between_1970_2020 = pd.DataFrame(state_less_than_highSchool,columns=['State','2016-20'])\n",
    "for idx,row in state_less_than_highSchool.iterrows():\n",
    "    state_less_than_highSchool_increase_between_1970_2020.iloc[idx,1] -= row[2]\n",
    "state_less_than_highSchool_increase_between_1970_2020.set_index('State')\n",
    "state_less_than_highSchool_increase_between_1970_2020.sort_values('2016-20',inplace=True)\n",
    "state_less_than_highSchool_increase_between_1970_2020#.reset_index(inplace=True)\n",
    "plt.figure(figsize=(30, 20), dpi=180)\n",
    "state_less_than_highSchool_increase_between_1970_2020.plot(figsize = (30,20), kind = \"bar\", x = 'State',width=0.5)\n",
    "plt.xticks(fontsize=30)\n",
    "plt.show()\n",
    "plt.clf()"
   ]
  },
  {
   "cell_type": "code",
   "execution_count": null,
   "metadata": {},
   "outputs": [],
   "source": [
    "state_fourYears_college_or_higher_increase_between_1970_2020 = pd.DataFrame(state_fourYears_college_or_higher,columns=['State','2016-20'])\n",
    "for idx,row in state_fourYears_college_or_higher.iterrows():\n",
    "    state_fourYears_college_or_higher_increase_between_1970_2020.iloc[idx,1] -= row[2]\n",
    "state_fourYears_college_or_higher_increase_between_1970_2020.set_index('State')\n",
    "state_fourYears_college_or_higher_increase_between_1970_2020.sort_values('2016-20',inplace=True)\n",
    "state_fourYears_college_or_higher_increase_between_1970_2020#.reset_index(inplace=True)\n",
    "state_fourYears_college_or_higher_increase_between_1970_2020.plot(figsize = (30,20), kind = \"bar\", x = 'State',width=0.5)\n",
    "plt.xticks(fontsize=30)\n",
    "plt.show()\n",
    "plt.clf()"
   ]
  }
 ],
 "metadata": {
  "kernelspec": {
   "display_name": "Python 3.9.12 ('base')",
   "language": "python",
   "name": "python3"
  },
  "language_info": {
   "codemirror_mode": {
    "name": "ipython",
    "version": 3
   },
   "file_extension": ".py",
   "mimetype": "text/x-python",
   "name": "python",
   "nbconvert_exporter": "python",
   "pygments_lexer": "ipython3",
   "version": "3.9.12 (main, Jun  1 2022, 06:34:44) \n[Clang 12.0.0 ]"
  },
  "orig_nbformat": 4,
  "vscode": {
   "interpreter": {
    "hash": "40d3a090f54c6569ab1632332b64b2c03c39dcf918b08424e98f38b5ae0af88f"
   }
  }
 },
 "nbformat": 4,
 "nbformat_minor": 2
}
