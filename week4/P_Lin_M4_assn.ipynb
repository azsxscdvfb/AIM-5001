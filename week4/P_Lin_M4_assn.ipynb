{
 "cells": [
  {
   "cell_type": "code",
   "execution_count": 1,
   "id": "445bc213",
   "metadata": {},
   "outputs": [],
   "source": [
    "#read file and store data in list\n",
    "import csv\n",
    "Price = []\n",
    "Maintenance_cost = []\n",
    "Number_of_doors = []\n",
    "Number_of_passengers = []\n",
    "Luggage_capacity = []\n",
    "Safety_rating = []\n",
    "Classification_of_vehicle = []\n",
    "list = []                                           #store the whole file\n",
    "with open('cars-sample35.txt') as csvfile:          #read file and store data\n",
    "    readCSV = csv.reader(csvfile)\n",
    "    for row in readCSV:\n",
    "        list.append(row)\n",
    "        Price.append(row[0])\n",
    "        Maintenance_cost.append(row[1])\n",
    "        Number_of_doors.append(row[2])\n",
    "        Number_of_passengers.append(row[3])\n",
    "        Luggage_capacity.append(row[4])\n",
    "        Safety_rating.append(row[5])\n",
    "        Classification_of_vehicle.append(row[6])"
   ]
  },
  {
   "cell_type": "code",
   "execution_count": 2,
   "id": "c1f5bfb6",
   "metadata": {},
   "outputs": [
    {
     "name": "stdout",
     "output_type": "stream",
     "text": [
      "[6, 16, 20, 23, 26, 29]\n"
     ]
    }
   ],
   "source": [
    "#task1\n",
    "#using list comprehension\n",
    "MedPriceIndex = [i    for i, val in enumerate(Price)     if val =='med' ]\n",
    "print(MedPriceIndex)"
   ]
  },
  {
   "cell_type": "code",
   "execution_count": 3,
   "id": "732ad8e0",
   "metadata": {},
   "outputs": [
    {
     "name": "stdout",
     "output_type": "stream",
     "text": [
      "['more', '2', '2', '2', '4', '2']\n"
     ]
    }
   ],
   "source": [
    "#task2\n",
    "#using list comprehension\n",
    "NoPofMedPrice = [Number_of_passengers[i]    for i in MedPriceIndex ]\n",
    "print(NoPofMedPrice)"
   ]
  },
  {
   "cell_type": "code",
   "execution_count": 4,
   "id": "9e2c161b",
   "metadata": {},
   "outputs": [
    {
     "name": "stdout",
     "output_type": "stream",
     "text": [
      "[0, 1, 2, 27, 31]\n"
     ]
    }
   ],
   "source": [
    "#task3\n",
    "#using list comprehension\n",
    "PhMnlIndex = [i    for i, _ in enumerate(Price)    if Price[i] == 'high' and Maintenance_cost[i] != 'low' ]\n",
    "print(PhMnlIndex)"
   ]
  },
  {
   "cell_type": "code",
   "execution_count": 5,
   "id": "cc510f94",
   "metadata": {},
   "outputs": [
    {
     "name": "stdout",
     "output_type": "stream",
     "text": [
      "[1, 2, 3, 'A', 'B', 'C', 4, 5, 'D', 'E']\n"
     ]
    }
   ],
   "source": [
    "#task4\n",
    "#using nested list comprehension\n",
    "nlist = [ [1, 2, 3], ['A', 'B', 'C'], [4, 5], ['D', 'E'] ]\n",
    "flist = [y    for x in nlist    for y in x ]\n",
    "print(flist)"
   ]
  },
  {
   "cell_type": "code",
   "execution_count": 11,
   "id": "cdbd5bd3",
   "metadata": {},
   "outputs": [
    {
     "name": "stdout",
     "output_type": "stream",
     "text": [
      "{'A0': 'high', 'A1': 'high', 'A2': 'high', 'A3': 'high', 'A4': 'vhigh'}\n"
     ]
    },
    {
     "ename": "Exception",
     "evalue": "('Invalid length!', 1000)",
     "output_type": "error",
     "traceback": [
      "\u001b[0;31m---------------------------------------------------------------------------\u001b[0m",
      "\u001b[0;31mException\u001b[0m                                 Traceback (most recent call last)",
      "Input \u001b[0;32mIn [11]\u001b[0m, in \u001b[0;36m<cell line: 15>\u001b[0;34m()\u001b[0m\n\u001b[1;32m     13\u001b[0m \u001b[38;5;28mprint\u001b[39m(d1)\n\u001b[1;32m     14\u001b[0m \u001b[38;5;66;03m#test exception\u001b[39;00m\n\u001b[0;32m---> 15\u001b[0m d2 \u001b[38;5;241m=\u001b[39m \u001b[43mmakedict\u001b[49m\u001b[43m(\u001b[49m\u001b[43mPrice\u001b[49m\u001b[43m,\u001b[49m\u001b[43m \u001b[49m\u001b[38;5;241;43m1000\u001b[39;49m\u001b[43m)\u001b[49m\n",
      "Input \u001b[0;32mIn [11]\u001b[0m, in \u001b[0;36mmakedict\u001b[0;34m(mylist, x)\u001b[0m\n\u001b[1;32m      6\u001b[0m     \u001b[38;5;28;01mraise\u001b[39;00m \u001b[38;5;167;01mException\u001b[39;00m(\u001b[38;5;124m\"\u001b[39m\u001b[38;5;124mInvalid list!\u001b[39m\u001b[38;5;124m\"\u001b[39m)\n\u001b[1;32m      7\u001b[0m \u001b[38;5;28;01melif\u001b[39;00m(x\u001b[38;5;241m>\u001b[39m \u001b[38;5;28mlen\u001b[39m(\u001b[38;5;28mlist\u001b[39m) \u001b[38;5;129;01mor\u001b[39;00m x \u001b[38;5;241m==\u001b[39m \u001b[38;5;241m0\u001b[39m):\n\u001b[0;32m----> 8\u001b[0m     \u001b[38;5;28;01mraise\u001b[39;00m \u001b[38;5;167;01mException\u001b[39;00m(\u001b[38;5;124m\"\u001b[39m\u001b[38;5;124mInvalid length!\u001b[39m\u001b[38;5;124m\"\u001b[39m, x)\n\u001b[1;32m      9\u001b[0m \u001b[38;5;66;03m#using dict comprehension\u001b[39;00m\n\u001b[1;32m     10\u001b[0m newdict \u001b[38;5;241m=\u001b[39m { (\u001b[38;5;124m'\u001b[39m\u001b[38;5;124mA\u001b[39m\u001b[38;5;124m'\u001b[39m \u001b[38;5;241m+\u001b[39m \u001b[38;5;28mstr\u001b[39m(i)): mylist[i]    \u001b[38;5;28;01mfor\u001b[39;00m i \u001b[38;5;129;01min\u001b[39;00m \u001b[38;5;28mrange\u001b[39m(x)}\n",
      "\u001b[0;31mException\u001b[0m: ('Invalid length!', 1000)"
     ]
    }
   ],
   "source": [
    "#task5\n",
    "#using dict comprehension\n",
    "def makedict(mylist, x):\n",
    "    #exception situation\n",
    "    if(len(mylist) == 0):\n",
    "        raise Exception(\"Invalid list!\")\n",
    "    elif(x> len(list) or x == 0):\n",
    "        raise Exception(\"Invalid length!\", x)\n",
    "    #using dict comprehension\n",
    "    newdict = { ('A' + str(i)): mylist[i]    for i in range(x)}\n",
    "    return(newdict)\n",
    "d1 = makedict(Price, 5)\n",
    "print(d1)\n",
    "#test exception\n",
    "d2 = makedict(Price, 1000)\n"
   ]
  },
  {
   "cell_type": "code",
   "execution_count": 10,
   "id": "bd58e88b",
   "metadata": {},
   "outputs": [
    {
     "ename": "Exception",
     "evalue": "Invalid list!",
     "output_type": "error",
     "traceback": [
      "\u001b[0;31m---------------------------------------------------------------------------\u001b[0m",
      "\u001b[0;31mException\u001b[0m                                 Traceback (most recent call last)",
      "Input \u001b[0;32mIn [10]\u001b[0m, in \u001b[0;36m<cell line: 3>\u001b[0;34m()\u001b[0m\n\u001b[1;32m      1\u001b[0m \u001b[38;5;66;03m#test exception\u001b[39;00m\n\u001b[1;32m      2\u001b[0m EmptyList \u001b[38;5;241m=\u001b[39m []\n\u001b[0;32m----> 3\u001b[0m d3 \u001b[38;5;241m=\u001b[39m \u001b[43mmakedict\u001b[49m\u001b[43m(\u001b[49m\u001b[43mEmptyList\u001b[49m\u001b[43m,\u001b[49m\u001b[43m \u001b[49m\u001b[38;5;241;43m1\u001b[39;49m\u001b[43m)\u001b[49m\n",
      "Input \u001b[0;32mIn [9]\u001b[0m, in \u001b[0;36mmakedict\u001b[0;34m(mylist, x)\u001b[0m\n\u001b[1;32m      3\u001b[0m \u001b[38;5;28;01mdef\u001b[39;00m \u001b[38;5;21mmakedict\u001b[39m(mylist, x):\n\u001b[1;32m      4\u001b[0m     \u001b[38;5;66;03m#exception situation\u001b[39;00m\n\u001b[1;32m      5\u001b[0m     \u001b[38;5;28;01mif\u001b[39;00m(\u001b[38;5;28mlen\u001b[39m(mylist) \u001b[38;5;241m==\u001b[39m \u001b[38;5;241m0\u001b[39m):\n\u001b[0;32m----> 6\u001b[0m         \u001b[38;5;28;01mraise\u001b[39;00m \u001b[38;5;167;01mException\u001b[39;00m(\u001b[38;5;124m\"\u001b[39m\u001b[38;5;124mInvalid list!\u001b[39m\u001b[38;5;124m\"\u001b[39m)\n\u001b[1;32m      7\u001b[0m     \u001b[38;5;28;01melif\u001b[39;00m(x\u001b[38;5;241m>\u001b[39m \u001b[38;5;28mlen\u001b[39m(\u001b[38;5;28mlist\u001b[39m) \u001b[38;5;129;01mor\u001b[39;00m x \u001b[38;5;241m==\u001b[39m \u001b[38;5;241m0\u001b[39m):\n\u001b[1;32m      8\u001b[0m         \u001b[38;5;28;01mraise\u001b[39;00m \u001b[38;5;167;01mException\u001b[39;00m(\u001b[38;5;124m\"\u001b[39m\u001b[38;5;124mInvalid length!\u001b[39m\u001b[38;5;124m\"\u001b[39m, x)\n",
      "\u001b[0;31mException\u001b[0m: Invalid list!"
     ]
    }
   ],
   "source": [
    "#test exception\n",
    "EmptyList = []\n",
    "d3 = makedict(EmptyList, 1)"
   ]
  },
  {
   "cell_type": "code",
   "execution_count": 7,
   "id": "8fa85e5a",
   "metadata": {},
   "outputs": [
    {
     "name": "stdout",
     "output_type": "stream",
     "text": [
      "A4 Price =  vhigh ,A4 Luggage Capacity = med\n"
     ]
    }
   ],
   "source": [
    "#task6\n",
    "Price7Dict = makedict(Price, 7)\n",
    "Luggage7Dict = makedict(Luggage_capacity, 7)\n",
    "print(\"A4 Price = \", Price7Dict['A4'], \",A4 Luggage Capacity =\", Luggage7Dict['A4'])"
   ]
  }
 ],
 "metadata": {
  "kernelspec": {
   "display_name": "Python 3 (ipykernel)",
   "language": "python",
   "name": "python3"
  },
  "language_info": {
   "codemirror_mode": {
    "name": "ipython",
    "version": 3
   },
   "file_extension": ".py",
   "mimetype": "text/x-python",
   "name": "python",
   "nbconvert_exporter": "python",
   "pygments_lexer": "ipython3",
   "version": "3.9.12"
  }
 },
 "nbformat": 4,
 "nbformat_minor": 5
}
