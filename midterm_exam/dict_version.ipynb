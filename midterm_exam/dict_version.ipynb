{
 "cells": [
  {
   "cell_type": "code",
   "execution_count": null,
   "metadata": {},
   "outputs": [],
   "source": [
    "resident_data = []\n",
    "def Set_data(id,name,birth_date,birth_country,birth_town,start_residency,Address):          # define a function to add data to database\n",
    "    for i in range(len(resident_data)):                                                     # if the id is repetition, break out\n",
    "        if(resident_data[i][\"id\"] == id):\n",
    "            print(\"id repetition\")\n",
    "            return -1\n",
    "    temp = {\"id\":(id,),\n",
    "    \"name\":name,\n",
    "    \"birth_date\":(birth_date,),\n",
    "    \"birth_country\":(birth_country,),\n",
    "    \"birth_town\":(birth_town,),\n",
    "    \"start_residency\":(start_residency,),\n",
    "    \"Address\":[Address]}\n",
    "    temp = (id,[name],birth_date,birth_country,birth_town,start_residency,[Address])        # add data in tuple\n",
    "    resident_data.append(temp)    "
   ]
  }
 ],
 "metadata": {
  "kernelspec": {
   "display_name": "Python 3.9.12 ('base')",
   "language": "python",
   "name": "python3"
  },
  "language_info": {
   "codemirror_mode": {
    "name": "ipython",
    "version": 3
   },
   "file_extension": ".py",
   "mimetype": "text/x-python",
   "name": "python",
   "nbconvert_exporter": "python",
   "pygments_lexer": "ipython3",
   "version": "3.9.12 (main, Jun  1 2022, 06:34:44) \n[Clang 12.0.0 ]"
  },
  "orig_nbformat": 4,
  "vscode": {
   "interpreter": {
    "hash": "40d3a090f54c6569ab1632332b64b2c03c39dcf918b08424e98f38b5ae0af88f"
   }
  }
 },
 "nbformat": 4,
 "nbformat_minor": 2
}
