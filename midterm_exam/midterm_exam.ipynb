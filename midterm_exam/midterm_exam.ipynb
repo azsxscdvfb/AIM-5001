{
 "cells": [
  {
   "cell_type": "code",
   "execution_count": 110,
   "metadata": {},
   "outputs": [],
   "source": [
    "resident_data = []                              #use list to store all data"
   ]
  },
  {
   "cell_type": "code",
   "execution_count": 111,
   "metadata": {},
   "outputs": [],
   "source": [
    "\n",
    "def Set_data(id,name,birth_date,birth_country,birth_town,start_residency,Address):          # define a function to add data to database\n",
    "    for i in range(len(resident_data)):                                                     # if the id is repetition, break out\n",
    "        if(resident_data[i][0] == id):\n",
    "            print(\"id repetition\")\n",
    "            return -1\n",
    "    temp = (id,[name],birth_date,birth_country,birth_town,start_residency,[Address])        # add data in tuple\n",
    "    resident_data.append(temp)                                                              # add tuple to list"
   ]
  },
  {
   "cell_type": "code",
   "execution_count": 112,
   "metadata": {},
   "outputs": [],
   "source": [
    "Set_data(2,\"john\",1999,\"us\",\"queens\",2022,3620)"
   ]
  },
  {
   "cell_type": "code",
   "execution_count": 113,
   "metadata": {},
   "outputs": [
    {
     "name": "stdout",
     "output_type": "stream",
     "text": [
      "1\n",
      "Resident Registration Number: 2\n",
      "Name: john\n",
      "Date of Birth: 1999\n",
      "Country of Birth: us\n",
      "Town of Birth: queens\n",
      "Start date of residency: 2022\n",
      "Address 1 : 3620\n",
      "---------------------------------\n"
     ]
    }
   ],
   "source": [
    "def show_database():                                                                      # define a function to show database\n",
    "    for i in range(len(resident_data)):\n",
    "        print(i+1)\n",
    "        print(\"Resident Registration Number:\",resident_data[i][0])\n",
    "        print(\"Name:\",resident_data[i][1][0])\n",
    "        print(\"Date of Birth:\",resident_data[i][2])\n",
    "        print(\"Country of Birth:\",resident_data[i][3])\n",
    "        print(\"Town of Birth:\",resident_data[i][4])\n",
    "        print(\"Start date of residency:\",resident_data[i][5])\n",
    "        for p in range(len(resident_data[i][6])):\n",
    "            print(\"Address\",p+1,\":\",resident_data[i][6][p])\n",
    "        print(\"---------------------------------\")\n",
    "show_database()"
   ]
  },
  {
   "cell_type": "code",
   "execution_count": 115,
   "metadata": {},
   "outputs": [
    {
     "name": "stdout",
     "output_type": "stream",
     "text": [
      "not exist\n",
      "Resident Registration Number: 2\n",
      "Name: john\n",
      "Date of Birth: 1999\n",
      "Country of Birth: us\n",
      "Town of Birth: queens\n",
      "Start date of residency: 2022\n",
      "Address 1 : 3620\n"
     ]
    }
   ],
   "source": [
    "def show_by_id(id):                                                         # this function will find and show the data by id\n",
    "    find_flag = 0\n",
    "    for i in range(len(resident_data)):\n",
    "        if(resident_data[i][0] == id):                                      # compare with database and the given id\n",
    "            print(\"Resident Registration Number:\",resident_data[i][0])\n",
    "            print(\"Name:\",resident_data[i][1][0])\n",
    "            print(\"Date of Birth:\",resident_data[i][2])\n",
    "            print(\"Country of Birth:\",resident_data[i][3])\n",
    "            print(\"Town of Birth:\",resident_data[i][4])\n",
    "            print(\"Start date of residency:\",resident_data[i][5])\n",
    "            for p in range(len(resident_data[i][6])):\n",
    "                print(\"Address\",p+1,\":\",resident_data[i][6][p])\n",
    "            return                                                          # if found, print and return\n",
    "    print(\"not exist\")                                                      # if don't find it, print information\n",
    "show_by_id(3)\n",
    "show_by_id(2)"
   ]
  },
  {
   "cell_type": "code",
   "execution_count": 119,
   "metadata": {},
   "outputs": [
    {
     "name": "stdout",
     "output_type": "stream",
     "text": [
      "sucess\n"
     ]
    }
   ],
   "source": [
    "def update_name(id,new_name):                                               # use this function to update name\n",
    "    for i in range(len(resident_data)):\n",
    "        if(resident_data[i][0] == id):\n",
    "            resident_data[i][1][0] = new_name\n",
    "            print(\"sucess\")\n",
    "            return\n",
    "    print(\"not exist\")\n",
    "update_name(2,\"nier\")"
   ]
  },
  {
   "cell_type": "code",
   "execution_count": null,
   "metadata": {},
   "outputs": [],
   "source": [
    "def add_address(resident_data,id,address):                                  # use this function to add address\n",
    "    for i in range(len(resident_data)):\n",
    "        if(resident_data[i][0] == id):\n",
    "            resident_data[i][6].insert(0,address)\n",
    "            return resident_data\n",
    "    print(\"not exist\")\n",
    "    return -1"
   ]
  },
  {
   "cell_type": "code",
   "execution_count": 126,
   "metadata": {},
   "outputs": [
    {
     "data": {
      "text/plain": [
       "['jay.harmishton@yu.DAV.edu',\n",
       " 'adele.chintsworth@yu.AIM.edu',\n",
       " 'renfrew.swll@yu.QE.edu',\n",
       " 'kanafra.soapdi@yu.MAT.edu',\n",
       " 'xiaoli.kzhang@yu.CYB.edu']"
      ]
     },
     "execution_count": 126,
     "metadata": {},
     "output_type": "execute_result"
    }
   ],
   "source": [
    "import re\n",
    "str = '''ConnectionRefusedErrorJay Harmishton jay.harmishton@yu.DAV.edu\n",
    "\n",
    "Adele Chintsworth adele.chintsworth@yu.AIM.edu\n",
    "\n",
    "Renfrew Swill renfrew.swll@yu.QE.edu\n",
    "\n",
    "Kanafra Soapdi kanafra.soapdi@yu.MAT.edu\n",
    "\n",
    "Xiaoli Kzhang xiaoli.kzhang@yu.CYB.edu\n",
    "\n",
    "----\n",
    "\n",
    "----\n",
    "\n",
    "END OF SERVER EMAIL LIST”'''\n",
    "result = re.findall(\"[a-zA-Z]+\\.[a-zA-Z]+\\@yu\\.[A-Z]+\\.edu\",str)\n",
    "result"
   ]
  },
  {
   "cell_type": "code",
   "execution_count": 127,
   "metadata": {},
   "outputs": [
    {
     "data": {
      "text/plain": [
       "array([ 1,  7,  8, 15, 17, 27,  4,  6, 11, 14, 19])"
      ]
     },
     "execution_count": 127,
     "metadata": {},
     "output_type": "execute_result"
    }
   ],
   "source": [
    "import numpy as np\n",
    "a = np.array([27, 5, 12, 5, 7, 15, 3, 1, 8, 0, 17])\n",
    "\n",
    "b = np.array([11, 0, 14, 6, 3, 11, 19, 12, 4, 5])\n",
    "np.concatenate((np.setdiff1d(a,b),np.setdiff1d(b,a)),axis = 0)"
   ]
  }
 ],
 "metadata": {
  "kernelspec": {
   "display_name": "Python 3.9.12 ('base')",
   "language": "python",
   "name": "python3"
  },
  "language_info": {
   "codemirror_mode": {
    "name": "ipython",
    "version": 3
   },
   "file_extension": ".py",
   "mimetype": "text/x-python",
   "name": "python",
   "nbconvert_exporter": "python",
   "pygments_lexer": "ipython3",
   "version": "3.9.12 (main, Jun  1 2022, 06:34:44) \n[Clang 12.0.0 ]"
  },
  "orig_nbformat": 4,
  "vscode": {
   "interpreter": {
    "hash": "40d3a090f54c6569ab1632332b64b2c03c39dcf918b08424e98f38b5ae0af88f"
   }
  }
 },
 "nbformat": 4,
 "nbformat_minor": 2
}
