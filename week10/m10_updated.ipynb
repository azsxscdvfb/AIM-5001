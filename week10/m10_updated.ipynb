{
 "cells": [
  {
   "cell_type": "markdown",
   "id": "9a3f9e67",
   "metadata": {},
   "source": [
    "## Data Initialization:"
   ]
  },
  {
   "cell_type": "code",
   "execution_count": 2,
   "id": "97d67ac5",
   "metadata": {},
   "outputs": [],
   "source": [
    "import pandas as pd\n",
    "import numpy as np\n",
    "import matplotlib.pyplot as plt\n",
    "import seaborn as sns\n",
    "\n",
    "from sklearn.preprocessing import power_transform, StandardScaler, MinMaxScaler, RobustScaler"
   ]
  },
  {
   "cell_type": "code",
   "execution_count": 3,
   "id": "91b2cbce",
   "metadata": {},
   "outputs": [
    {
     "data": {
      "text/html": [
       "<div>\n",
       "<style scoped>\n",
       "    .dataframe tbody tr th:only-of-type {\n",
       "        vertical-align: middle;\n",
       "    }\n",
       "\n",
       "    .dataframe tbody tr th {\n",
       "        vertical-align: top;\n",
       "    }\n",
       "\n",
       "    .dataframe thead th {\n",
       "        text-align: right;\n",
       "    }\n",
       "</style>\n",
       "<table border=\"1\" class=\"dataframe\">\n",
       "  <thead>\n",
       "    <tr style=\"text-align: right;\">\n",
       "      <th></th>\n",
       "      <th>3</th>\n",
       "      <th>?</th>\n",
       "      <th>alfa-romero</th>\n",
       "      <th>gas</th>\n",
       "      <th>std</th>\n",
       "      <th>two</th>\n",
       "      <th>convertible</th>\n",
       "      <th>rwd</th>\n",
       "      <th>front</th>\n",
       "      <th>88.6</th>\n",
       "      <th>...</th>\n",
       "      <th>130</th>\n",
       "      <th>mpfi</th>\n",
       "      <th>3.47</th>\n",
       "      <th>2.68</th>\n",
       "      <th>9</th>\n",
       "      <th>111</th>\n",
       "      <th>5000</th>\n",
       "      <th>21</th>\n",
       "      <th>27</th>\n",
       "      <th>13495</th>\n",
       "    </tr>\n",
       "  </thead>\n",
       "  <tbody>\n",
       "    <tr>\n",
       "      <th>0</th>\n",
       "      <td>3</td>\n",
       "      <td>?</td>\n",
       "      <td>alfa-romero</td>\n",
       "      <td>gas</td>\n",
       "      <td>std</td>\n",
       "      <td>two</td>\n",
       "      <td>convertible</td>\n",
       "      <td>rwd</td>\n",
       "      <td>front</td>\n",
       "      <td>88.6</td>\n",
       "      <td>...</td>\n",
       "      <td>130</td>\n",
       "      <td>mpfi</td>\n",
       "      <td>3.47</td>\n",
       "      <td>2.68</td>\n",
       "      <td>9.0</td>\n",
       "      <td>111</td>\n",
       "      <td>5000</td>\n",
       "      <td>21</td>\n",
       "      <td>27</td>\n",
       "      <td>16500</td>\n",
       "    </tr>\n",
       "    <tr>\n",
       "      <th>1</th>\n",
       "      <td>1</td>\n",
       "      <td>?</td>\n",
       "      <td>alfa-romero</td>\n",
       "      <td>gas</td>\n",
       "      <td>std</td>\n",
       "      <td>two</td>\n",
       "      <td>hatchback</td>\n",
       "      <td>rwd</td>\n",
       "      <td>front</td>\n",
       "      <td>94.5</td>\n",
       "      <td>...</td>\n",
       "      <td>152</td>\n",
       "      <td>mpfi</td>\n",
       "      <td>2.68</td>\n",
       "      <td>3.47</td>\n",
       "      <td>9.0</td>\n",
       "      <td>154</td>\n",
       "      <td>5000</td>\n",
       "      <td>19</td>\n",
       "      <td>26</td>\n",
       "      <td>16500</td>\n",
       "    </tr>\n",
       "    <tr>\n",
       "      <th>2</th>\n",
       "      <td>2</td>\n",
       "      <td>164</td>\n",
       "      <td>audi</td>\n",
       "      <td>gas</td>\n",
       "      <td>std</td>\n",
       "      <td>four</td>\n",
       "      <td>sedan</td>\n",
       "      <td>fwd</td>\n",
       "      <td>front</td>\n",
       "      <td>99.8</td>\n",
       "      <td>...</td>\n",
       "      <td>109</td>\n",
       "      <td>mpfi</td>\n",
       "      <td>3.19</td>\n",
       "      <td>3.4</td>\n",
       "      <td>10.0</td>\n",
       "      <td>102</td>\n",
       "      <td>5500</td>\n",
       "      <td>24</td>\n",
       "      <td>30</td>\n",
       "      <td>13950</td>\n",
       "    </tr>\n",
       "    <tr>\n",
       "      <th>3</th>\n",
       "      <td>2</td>\n",
       "      <td>164</td>\n",
       "      <td>audi</td>\n",
       "      <td>gas</td>\n",
       "      <td>std</td>\n",
       "      <td>four</td>\n",
       "      <td>sedan</td>\n",
       "      <td>4wd</td>\n",
       "      <td>front</td>\n",
       "      <td>99.4</td>\n",
       "      <td>...</td>\n",
       "      <td>136</td>\n",
       "      <td>mpfi</td>\n",
       "      <td>3.19</td>\n",
       "      <td>3.4</td>\n",
       "      <td>8.0</td>\n",
       "      <td>115</td>\n",
       "      <td>5500</td>\n",
       "      <td>18</td>\n",
       "      <td>22</td>\n",
       "      <td>17450</td>\n",
       "    </tr>\n",
       "    <tr>\n",
       "      <th>4</th>\n",
       "      <td>2</td>\n",
       "      <td>?</td>\n",
       "      <td>audi</td>\n",
       "      <td>gas</td>\n",
       "      <td>std</td>\n",
       "      <td>two</td>\n",
       "      <td>sedan</td>\n",
       "      <td>fwd</td>\n",
       "      <td>front</td>\n",
       "      <td>99.8</td>\n",
       "      <td>...</td>\n",
       "      <td>136</td>\n",
       "      <td>mpfi</td>\n",
       "      <td>3.19</td>\n",
       "      <td>3.4</td>\n",
       "      <td>8.5</td>\n",
       "      <td>110</td>\n",
       "      <td>5500</td>\n",
       "      <td>19</td>\n",
       "      <td>25</td>\n",
       "      <td>15250</td>\n",
       "    </tr>\n",
       "    <tr>\n",
       "      <th>...</th>\n",
       "      <td>...</td>\n",
       "      <td>...</td>\n",
       "      <td>...</td>\n",
       "      <td>...</td>\n",
       "      <td>...</td>\n",
       "      <td>...</td>\n",
       "      <td>...</td>\n",
       "      <td>...</td>\n",
       "      <td>...</td>\n",
       "      <td>...</td>\n",
       "      <td>...</td>\n",
       "      <td>...</td>\n",
       "      <td>...</td>\n",
       "      <td>...</td>\n",
       "      <td>...</td>\n",
       "      <td>...</td>\n",
       "      <td>...</td>\n",
       "      <td>...</td>\n",
       "      <td>...</td>\n",
       "      <td>...</td>\n",
       "      <td>...</td>\n",
       "    </tr>\n",
       "    <tr>\n",
       "      <th>199</th>\n",
       "      <td>-1</td>\n",
       "      <td>95</td>\n",
       "      <td>volvo</td>\n",
       "      <td>gas</td>\n",
       "      <td>std</td>\n",
       "      <td>four</td>\n",
       "      <td>sedan</td>\n",
       "      <td>rwd</td>\n",
       "      <td>front</td>\n",
       "      <td>109.1</td>\n",
       "      <td>...</td>\n",
       "      <td>141</td>\n",
       "      <td>mpfi</td>\n",
       "      <td>3.78</td>\n",
       "      <td>3.15</td>\n",
       "      <td>9.5</td>\n",
       "      <td>114</td>\n",
       "      <td>5400</td>\n",
       "      <td>23</td>\n",
       "      <td>28</td>\n",
       "      <td>16845</td>\n",
       "    </tr>\n",
       "    <tr>\n",
       "      <th>200</th>\n",
       "      <td>-1</td>\n",
       "      <td>95</td>\n",
       "      <td>volvo</td>\n",
       "      <td>gas</td>\n",
       "      <td>turbo</td>\n",
       "      <td>four</td>\n",
       "      <td>sedan</td>\n",
       "      <td>rwd</td>\n",
       "      <td>front</td>\n",
       "      <td>109.1</td>\n",
       "      <td>...</td>\n",
       "      <td>141</td>\n",
       "      <td>mpfi</td>\n",
       "      <td>3.78</td>\n",
       "      <td>3.15</td>\n",
       "      <td>8.7</td>\n",
       "      <td>160</td>\n",
       "      <td>5300</td>\n",
       "      <td>19</td>\n",
       "      <td>25</td>\n",
       "      <td>19045</td>\n",
       "    </tr>\n",
       "    <tr>\n",
       "      <th>201</th>\n",
       "      <td>-1</td>\n",
       "      <td>95</td>\n",
       "      <td>volvo</td>\n",
       "      <td>gas</td>\n",
       "      <td>std</td>\n",
       "      <td>four</td>\n",
       "      <td>sedan</td>\n",
       "      <td>rwd</td>\n",
       "      <td>front</td>\n",
       "      <td>109.1</td>\n",
       "      <td>...</td>\n",
       "      <td>173</td>\n",
       "      <td>mpfi</td>\n",
       "      <td>3.58</td>\n",
       "      <td>2.87</td>\n",
       "      <td>8.8</td>\n",
       "      <td>134</td>\n",
       "      <td>5500</td>\n",
       "      <td>18</td>\n",
       "      <td>23</td>\n",
       "      <td>21485</td>\n",
       "    </tr>\n",
       "    <tr>\n",
       "      <th>202</th>\n",
       "      <td>-1</td>\n",
       "      <td>95</td>\n",
       "      <td>volvo</td>\n",
       "      <td>diesel</td>\n",
       "      <td>turbo</td>\n",
       "      <td>four</td>\n",
       "      <td>sedan</td>\n",
       "      <td>rwd</td>\n",
       "      <td>front</td>\n",
       "      <td>109.1</td>\n",
       "      <td>...</td>\n",
       "      <td>145</td>\n",
       "      <td>idi</td>\n",
       "      <td>3.01</td>\n",
       "      <td>3.4</td>\n",
       "      <td>23.0</td>\n",
       "      <td>106</td>\n",
       "      <td>4800</td>\n",
       "      <td>26</td>\n",
       "      <td>27</td>\n",
       "      <td>22470</td>\n",
       "    </tr>\n",
       "    <tr>\n",
       "      <th>203</th>\n",
       "      <td>-1</td>\n",
       "      <td>95</td>\n",
       "      <td>volvo</td>\n",
       "      <td>gas</td>\n",
       "      <td>turbo</td>\n",
       "      <td>four</td>\n",
       "      <td>sedan</td>\n",
       "      <td>rwd</td>\n",
       "      <td>front</td>\n",
       "      <td>109.1</td>\n",
       "      <td>...</td>\n",
       "      <td>141</td>\n",
       "      <td>mpfi</td>\n",
       "      <td>3.78</td>\n",
       "      <td>3.15</td>\n",
       "      <td>9.5</td>\n",
       "      <td>114</td>\n",
       "      <td>5400</td>\n",
       "      <td>19</td>\n",
       "      <td>25</td>\n",
       "      <td>22625</td>\n",
       "    </tr>\n",
       "  </tbody>\n",
       "</table>\n",
       "<p>204 rows × 26 columns</p>\n",
       "</div>"
      ],
      "text/plain": [
       "     3    ?  alfa-romero     gas    std   two  convertible  rwd  front   88.6  \\\n",
       "0    3    ?  alfa-romero     gas    std   two  convertible  rwd  front   88.6   \n",
       "1    1    ?  alfa-romero     gas    std   two    hatchback  rwd  front   94.5   \n",
       "2    2  164         audi     gas    std  four        sedan  fwd  front   99.8   \n",
       "3    2  164         audi     gas    std  four        sedan  4wd  front   99.4   \n",
       "4    2    ?         audi     gas    std   two        sedan  fwd  front   99.8   \n",
       "..  ..  ...          ...     ...    ...   ...          ...  ...    ...    ...   \n",
       "199 -1   95        volvo     gas    std  four        sedan  rwd  front  109.1   \n",
       "200 -1   95        volvo     gas  turbo  four        sedan  rwd  front  109.1   \n",
       "201 -1   95        volvo     gas    std  four        sedan  rwd  front  109.1   \n",
       "202 -1   95        volvo  diesel  turbo  four        sedan  rwd  front  109.1   \n",
       "203 -1   95        volvo     gas  turbo  four        sedan  rwd  front  109.1   \n",
       "\n",
       "     ...  130  mpfi  3.47  2.68     9  111  5000  21  27  13495  \n",
       "0    ...  130  mpfi  3.47  2.68   9.0  111  5000  21  27  16500  \n",
       "1    ...  152  mpfi  2.68  3.47   9.0  154  5000  19  26  16500  \n",
       "2    ...  109  mpfi  3.19   3.4  10.0  102  5500  24  30  13950  \n",
       "3    ...  136  mpfi  3.19   3.4   8.0  115  5500  18  22  17450  \n",
       "4    ...  136  mpfi  3.19   3.4   8.5  110  5500  19  25  15250  \n",
       "..   ...  ...   ...   ...   ...   ...  ...   ...  ..  ..    ...  \n",
       "199  ...  141  mpfi  3.78  3.15   9.5  114  5400  23  28  16845  \n",
       "200  ...  141  mpfi  3.78  3.15   8.7  160  5300  19  25  19045  \n",
       "201  ...  173  mpfi  3.58  2.87   8.8  134  5500  18  23  21485  \n",
       "202  ...  145   idi  3.01   3.4  23.0  106  4800  26  27  22470  \n",
       "203  ...  141  mpfi  3.78  3.15   9.5  114  5400  19  25  22625  \n",
       "\n",
       "[204 rows x 26 columns]"
      ]
     },
     "execution_count": 3,
     "metadata": {},
     "output_type": "execute_result"
    }
   ],
   "source": [
    "df = pd.read_csv(\"https://raw.githubusercontent.com/SiddantaK/Data-Acquisition-Management/main/M10_Data.csv\")\n",
    "df"
   ]
  },
  {
   "cell_type": "code",
   "execution_count": 4,
   "id": "8a09c512",
   "metadata": {},
   "outputs": [
    {
     "data": {
      "text/plain": [
       "Index(['3', '?', 'alfa-romero', 'gas', 'std', 'two', 'convertible', 'rwd',\n",
       "       'front', '88.6', '168.8', '64.1', '48.8', '2548', 'dohc', 'four', '130',\n",
       "       'mpfi', '3.47', '2.68', '9', '111', '5000', '21', '27', '13495'],\n",
       "      dtype='object')"
      ]
     },
     "execution_count": 4,
     "metadata": {},
     "output_type": "execute_result"
    }
   ],
   "source": [
    "df.columns"
   ]
  },
  {
   "cell_type": "code",
   "execution_count": 5,
   "id": "4ec1691f",
   "metadata": {},
   "outputs": [
    {
     "data": {
      "text/plain": [
       "Index(['symboling', 'normalized-losses', 'make', 'fuel-type', 'aspiration',\n",
       "       'num-of-doors', 'body-style', 'drive-wheels', 'engine-location',\n",
       "       'wheel-base', 'length', 'width', 'height', 'curb-weight', 'engine-type',\n",
       "       'num-of-cylinders', 'engine-size', 'fuel-system', 'bore', 'stroke',\n",
       "       'compression-ratio', 'horsepower', 'peak-rpm', 'city-mpg',\n",
       "       'highway-mpg', 'price'],\n",
       "      dtype='object')"
      ]
     },
     "execution_count": 5,
     "metadata": {},
     "output_type": "execute_result"
    }
   ],
   "source": [
    "renameColumn =  {'3':'symboling', '?':'normalized-losses','alfa-romero':'make','gas':'fuel-type','std':'aspiration',\n",
    "                'two':'num-of-doors','convertible':'body-style','rwd':'drive-wheels','front':'engine-location',\n",
    "                '88.6':'wheel-base','168.8':'length','64.1':'width','48.8':'height','2548':'curb-weight','dohc':'engine-type',\n",
    "                 'four':'num-of-cylinders','130':'engine-size','mpfi':'fuel-system','3.47':'bore','2.68':'stroke',\n",
    "                 '9':'compression-ratio','111':'horsepower','5000':'peak-rpm','21':'city-mpg','27':'highway-mpg',\n",
    "                 '13495':'price'\n",
    "                }\n",
    "df.rename(columns = renameColumn, inplace = True)\n",
    "df.columns"
   ]
  },
  {
   "cell_type": "code",
   "execution_count": 6,
   "id": "67ae5f71",
   "metadata": {},
   "outputs": [
    {
     "data": {
      "text/html": [
       "<div>\n",
       "<style scoped>\n",
       "    .dataframe tbody tr th:only-of-type {\n",
       "        vertical-align: middle;\n",
       "    }\n",
       "\n",
       "    .dataframe tbody tr th {\n",
       "        vertical-align: top;\n",
       "    }\n",
       "\n",
       "    .dataframe thead th {\n",
       "        text-align: right;\n",
       "    }\n",
       "</style>\n",
       "<table border=\"1\" class=\"dataframe\">\n",
       "  <thead>\n",
       "    <tr style=\"text-align: right;\">\n",
       "      <th></th>\n",
       "      <th>symboling</th>\n",
       "      <th>normalized-losses</th>\n",
       "      <th>make</th>\n",
       "      <th>fuel-type</th>\n",
       "      <th>aspiration</th>\n",
       "      <th>num-of-doors</th>\n",
       "      <th>body-style</th>\n",
       "      <th>drive-wheels</th>\n",
       "      <th>engine-location</th>\n",
       "      <th>wheel-base</th>\n",
       "      <th>...</th>\n",
       "      <th>engine-size</th>\n",
       "      <th>fuel-system</th>\n",
       "      <th>bore</th>\n",
       "      <th>stroke</th>\n",
       "      <th>compression-ratio</th>\n",
       "      <th>horsepower</th>\n",
       "      <th>peak-rpm</th>\n",
       "      <th>city-mpg</th>\n",
       "      <th>highway-mpg</th>\n",
       "      <th>price</th>\n",
       "    </tr>\n",
       "  </thead>\n",
       "  <tbody>\n",
       "    <tr>\n",
       "      <th>0</th>\n",
       "      <td>3</td>\n",
       "      <td>?</td>\n",
       "      <td>alfa-romero</td>\n",
       "      <td>gas</td>\n",
       "      <td>std</td>\n",
       "      <td>two</td>\n",
       "      <td>convertible</td>\n",
       "      <td>rwd</td>\n",
       "      <td>front</td>\n",
       "      <td>88.6</td>\n",
       "      <td>...</td>\n",
       "      <td>130</td>\n",
       "      <td>mpfi</td>\n",
       "      <td>3.47</td>\n",
       "      <td>2.68</td>\n",
       "      <td>9.0</td>\n",
       "      <td>111</td>\n",
       "      <td>5000</td>\n",
       "      <td>21</td>\n",
       "      <td>27</td>\n",
       "      <td>16500</td>\n",
       "    </tr>\n",
       "    <tr>\n",
       "      <th>1</th>\n",
       "      <td>1</td>\n",
       "      <td>?</td>\n",
       "      <td>alfa-romero</td>\n",
       "      <td>gas</td>\n",
       "      <td>std</td>\n",
       "      <td>two</td>\n",
       "      <td>hatchback</td>\n",
       "      <td>rwd</td>\n",
       "      <td>front</td>\n",
       "      <td>94.5</td>\n",
       "      <td>...</td>\n",
       "      <td>152</td>\n",
       "      <td>mpfi</td>\n",
       "      <td>2.68</td>\n",
       "      <td>3.47</td>\n",
       "      <td>9.0</td>\n",
       "      <td>154</td>\n",
       "      <td>5000</td>\n",
       "      <td>19</td>\n",
       "      <td>26</td>\n",
       "      <td>16500</td>\n",
       "    </tr>\n",
       "    <tr>\n",
       "      <th>2</th>\n",
       "      <td>2</td>\n",
       "      <td>164</td>\n",
       "      <td>audi</td>\n",
       "      <td>gas</td>\n",
       "      <td>std</td>\n",
       "      <td>four</td>\n",
       "      <td>sedan</td>\n",
       "      <td>fwd</td>\n",
       "      <td>front</td>\n",
       "      <td>99.8</td>\n",
       "      <td>...</td>\n",
       "      <td>109</td>\n",
       "      <td>mpfi</td>\n",
       "      <td>3.19</td>\n",
       "      <td>3.4</td>\n",
       "      <td>10.0</td>\n",
       "      <td>102</td>\n",
       "      <td>5500</td>\n",
       "      <td>24</td>\n",
       "      <td>30</td>\n",
       "      <td>13950</td>\n",
       "    </tr>\n",
       "    <tr>\n",
       "      <th>3</th>\n",
       "      <td>2</td>\n",
       "      <td>164</td>\n",
       "      <td>audi</td>\n",
       "      <td>gas</td>\n",
       "      <td>std</td>\n",
       "      <td>four</td>\n",
       "      <td>sedan</td>\n",
       "      <td>4wd</td>\n",
       "      <td>front</td>\n",
       "      <td>99.4</td>\n",
       "      <td>...</td>\n",
       "      <td>136</td>\n",
       "      <td>mpfi</td>\n",
       "      <td>3.19</td>\n",
       "      <td>3.4</td>\n",
       "      <td>8.0</td>\n",
       "      <td>115</td>\n",
       "      <td>5500</td>\n",
       "      <td>18</td>\n",
       "      <td>22</td>\n",
       "      <td>17450</td>\n",
       "    </tr>\n",
       "    <tr>\n",
       "      <th>4</th>\n",
       "      <td>2</td>\n",
       "      <td>?</td>\n",
       "      <td>audi</td>\n",
       "      <td>gas</td>\n",
       "      <td>std</td>\n",
       "      <td>two</td>\n",
       "      <td>sedan</td>\n",
       "      <td>fwd</td>\n",
       "      <td>front</td>\n",
       "      <td>99.8</td>\n",
       "      <td>...</td>\n",
       "      <td>136</td>\n",
       "      <td>mpfi</td>\n",
       "      <td>3.19</td>\n",
       "      <td>3.4</td>\n",
       "      <td>8.5</td>\n",
       "      <td>110</td>\n",
       "      <td>5500</td>\n",
       "      <td>19</td>\n",
       "      <td>25</td>\n",
       "      <td>15250</td>\n",
       "    </tr>\n",
       "    <tr>\n",
       "      <th>...</th>\n",
       "      <td>...</td>\n",
       "      <td>...</td>\n",
       "      <td>...</td>\n",
       "      <td>...</td>\n",
       "      <td>...</td>\n",
       "      <td>...</td>\n",
       "      <td>...</td>\n",
       "      <td>...</td>\n",
       "      <td>...</td>\n",
       "      <td>...</td>\n",
       "      <td>...</td>\n",
       "      <td>...</td>\n",
       "      <td>...</td>\n",
       "      <td>...</td>\n",
       "      <td>...</td>\n",
       "      <td>...</td>\n",
       "      <td>...</td>\n",
       "      <td>...</td>\n",
       "      <td>...</td>\n",
       "      <td>...</td>\n",
       "      <td>...</td>\n",
       "    </tr>\n",
       "    <tr>\n",
       "      <th>199</th>\n",
       "      <td>-1</td>\n",
       "      <td>95</td>\n",
       "      <td>volvo</td>\n",
       "      <td>gas</td>\n",
       "      <td>std</td>\n",
       "      <td>four</td>\n",
       "      <td>sedan</td>\n",
       "      <td>rwd</td>\n",
       "      <td>front</td>\n",
       "      <td>109.1</td>\n",
       "      <td>...</td>\n",
       "      <td>141</td>\n",
       "      <td>mpfi</td>\n",
       "      <td>3.78</td>\n",
       "      <td>3.15</td>\n",
       "      <td>9.5</td>\n",
       "      <td>114</td>\n",
       "      <td>5400</td>\n",
       "      <td>23</td>\n",
       "      <td>28</td>\n",
       "      <td>16845</td>\n",
       "    </tr>\n",
       "    <tr>\n",
       "      <th>200</th>\n",
       "      <td>-1</td>\n",
       "      <td>95</td>\n",
       "      <td>volvo</td>\n",
       "      <td>gas</td>\n",
       "      <td>turbo</td>\n",
       "      <td>four</td>\n",
       "      <td>sedan</td>\n",
       "      <td>rwd</td>\n",
       "      <td>front</td>\n",
       "      <td>109.1</td>\n",
       "      <td>...</td>\n",
       "      <td>141</td>\n",
       "      <td>mpfi</td>\n",
       "      <td>3.78</td>\n",
       "      <td>3.15</td>\n",
       "      <td>8.7</td>\n",
       "      <td>160</td>\n",
       "      <td>5300</td>\n",
       "      <td>19</td>\n",
       "      <td>25</td>\n",
       "      <td>19045</td>\n",
       "    </tr>\n",
       "    <tr>\n",
       "      <th>201</th>\n",
       "      <td>-1</td>\n",
       "      <td>95</td>\n",
       "      <td>volvo</td>\n",
       "      <td>gas</td>\n",
       "      <td>std</td>\n",
       "      <td>four</td>\n",
       "      <td>sedan</td>\n",
       "      <td>rwd</td>\n",
       "      <td>front</td>\n",
       "      <td>109.1</td>\n",
       "      <td>...</td>\n",
       "      <td>173</td>\n",
       "      <td>mpfi</td>\n",
       "      <td>3.58</td>\n",
       "      <td>2.87</td>\n",
       "      <td>8.8</td>\n",
       "      <td>134</td>\n",
       "      <td>5500</td>\n",
       "      <td>18</td>\n",
       "      <td>23</td>\n",
       "      <td>21485</td>\n",
       "    </tr>\n",
       "    <tr>\n",
       "      <th>202</th>\n",
       "      <td>-1</td>\n",
       "      <td>95</td>\n",
       "      <td>volvo</td>\n",
       "      <td>diesel</td>\n",
       "      <td>turbo</td>\n",
       "      <td>four</td>\n",
       "      <td>sedan</td>\n",
       "      <td>rwd</td>\n",
       "      <td>front</td>\n",
       "      <td>109.1</td>\n",
       "      <td>...</td>\n",
       "      <td>145</td>\n",
       "      <td>idi</td>\n",
       "      <td>3.01</td>\n",
       "      <td>3.4</td>\n",
       "      <td>23.0</td>\n",
       "      <td>106</td>\n",
       "      <td>4800</td>\n",
       "      <td>26</td>\n",
       "      <td>27</td>\n",
       "      <td>22470</td>\n",
       "    </tr>\n",
       "    <tr>\n",
       "      <th>203</th>\n",
       "      <td>-1</td>\n",
       "      <td>95</td>\n",
       "      <td>volvo</td>\n",
       "      <td>gas</td>\n",
       "      <td>turbo</td>\n",
       "      <td>four</td>\n",
       "      <td>sedan</td>\n",
       "      <td>rwd</td>\n",
       "      <td>front</td>\n",
       "      <td>109.1</td>\n",
       "      <td>...</td>\n",
       "      <td>141</td>\n",
       "      <td>mpfi</td>\n",
       "      <td>3.78</td>\n",
       "      <td>3.15</td>\n",
       "      <td>9.5</td>\n",
       "      <td>114</td>\n",
       "      <td>5400</td>\n",
       "      <td>19</td>\n",
       "      <td>25</td>\n",
       "      <td>22625</td>\n",
       "    </tr>\n",
       "  </tbody>\n",
       "</table>\n",
       "<p>204 rows × 26 columns</p>\n",
       "</div>"
      ],
      "text/plain": [
       "     symboling normalized-losses         make fuel-type aspiration  \\\n",
       "0            3                 ?  alfa-romero       gas        std   \n",
       "1            1                 ?  alfa-romero       gas        std   \n",
       "2            2               164         audi       gas        std   \n",
       "3            2               164         audi       gas        std   \n",
       "4            2                 ?         audi       gas        std   \n",
       "..         ...               ...          ...       ...        ...   \n",
       "199         -1                95        volvo       gas        std   \n",
       "200         -1                95        volvo       gas      turbo   \n",
       "201         -1                95        volvo       gas        std   \n",
       "202         -1                95        volvo    diesel      turbo   \n",
       "203         -1                95        volvo       gas      turbo   \n",
       "\n",
       "    num-of-doors   body-style drive-wheels engine-location  wheel-base  ...  \\\n",
       "0            two  convertible          rwd           front        88.6  ...   \n",
       "1            two    hatchback          rwd           front        94.5  ...   \n",
       "2           four        sedan          fwd           front        99.8  ...   \n",
       "3           four        sedan          4wd           front        99.4  ...   \n",
       "4            two        sedan          fwd           front        99.8  ...   \n",
       "..           ...          ...          ...             ...         ...  ...   \n",
       "199         four        sedan          rwd           front       109.1  ...   \n",
       "200         four        sedan          rwd           front       109.1  ...   \n",
       "201         four        sedan          rwd           front       109.1  ...   \n",
       "202         four        sedan          rwd           front       109.1  ...   \n",
       "203         four        sedan          rwd           front       109.1  ...   \n",
       "\n",
       "     engine-size  fuel-system  bore  stroke compression-ratio horsepower  \\\n",
       "0            130         mpfi  3.47    2.68               9.0        111   \n",
       "1            152         mpfi  2.68    3.47               9.0        154   \n",
       "2            109         mpfi  3.19     3.4              10.0        102   \n",
       "3            136         mpfi  3.19     3.4               8.0        115   \n",
       "4            136         mpfi  3.19     3.4               8.5        110   \n",
       "..           ...          ...   ...     ...               ...        ...   \n",
       "199          141         mpfi  3.78    3.15               9.5        114   \n",
       "200          141         mpfi  3.78    3.15               8.7        160   \n",
       "201          173         mpfi  3.58    2.87               8.8        134   \n",
       "202          145          idi  3.01     3.4              23.0        106   \n",
       "203          141         mpfi  3.78    3.15               9.5        114   \n",
       "\n",
       "     peak-rpm city-mpg highway-mpg  price  \n",
       "0        5000       21          27  16500  \n",
       "1        5000       19          26  16500  \n",
       "2        5500       24          30  13950  \n",
       "3        5500       18          22  17450  \n",
       "4        5500       19          25  15250  \n",
       "..        ...      ...         ...    ...  \n",
       "199      5400       23          28  16845  \n",
       "200      5300       19          25  19045  \n",
       "201      5500       18          23  21485  \n",
       "202      4800       26          27  22470  \n",
       "203      5400       19          25  22625  \n",
       "\n",
       "[204 rows x 26 columns]"
      ]
     },
     "execution_count": 6,
     "metadata": {},
     "output_type": "execute_result"
    }
   ],
   "source": [
    "df"
   ]
  },
  {
   "cell_type": "code",
   "execution_count": 7,
   "id": "d4286bfe",
   "metadata": {},
   "outputs": [
    {
     "name": "stdout",
     "output_type": "stream",
     "text": [
      "<class 'pandas.core.frame.DataFrame'>\n",
      "RangeIndex: 204 entries, 0 to 203\n",
      "Data columns (total 26 columns):\n",
      " #   Column             Non-Null Count  Dtype  \n",
      "---  ------             --------------  -----  \n",
      " 0   symboling          204 non-null    int64  \n",
      " 1   normalized-losses  204 non-null    object \n",
      " 2   make               204 non-null    object \n",
      " 3   fuel-type          204 non-null    object \n",
      " 4   aspiration         204 non-null    object \n",
      " 5   num-of-doors       204 non-null    object \n",
      " 6   body-style         204 non-null    object \n",
      " 7   drive-wheels       204 non-null    object \n",
      " 8   engine-location    204 non-null    object \n",
      " 9   wheel-base         204 non-null    float64\n",
      " 10  length             204 non-null    float64\n",
      " 11  width              204 non-null    float64\n",
      " 12  height             204 non-null    float64\n",
      " 13  curb-weight        204 non-null    int64  \n",
      " 14  engine-type        204 non-null    object \n",
      " 15  num-of-cylinders   204 non-null    object \n",
      " 16  engine-size        204 non-null    int64  \n",
      " 17  fuel-system        204 non-null    object \n",
      " 18  bore               204 non-null    object \n",
      " 19  stroke             204 non-null    object \n",
      " 20  compression-ratio  204 non-null    float64\n",
      " 21  horsepower         204 non-null    object \n",
      " 22  peak-rpm           204 non-null    object \n",
      " 23  city-mpg           204 non-null    int64  \n",
      " 24  highway-mpg        204 non-null    int64  \n",
      " 25  price              204 non-null    object \n",
      "dtypes: float64(5), int64(5), object(16)\n",
      "memory usage: 41.6+ KB\n"
     ]
    }
   ],
   "source": [
    "df.info()"
   ]
  },
  {
   "cell_type": "code",
   "execution_count": 8,
   "id": "9ed40ba6",
   "metadata": {
    "scrolled": true
   },
   "outputs": [
    {
     "data": {
      "text/plain": [
       "array(['?', '164', '158', '192', '188', '121', '98', '81', '118', '148',\n",
       "       '110', '145', '137', '101', '78', '106', '85', '107', '104', '113',\n",
       "       '150', '129', '115', '93', '142', '161', '153', '125', '128',\n",
       "       '122', '103', '168', '108', '194', '231', '119', '154', '74',\n",
       "       '186', '83', '102', '89', '87', '77', '91', '134', '65', '197',\n",
       "       '90', '94', '256', '95'], dtype=object)"
      ]
     },
     "execution_count": 8,
     "metadata": {},
     "output_type": "execute_result"
    }
   ],
   "source": [
    "df['normalized-losses'].unique() #checking unique values for normalized-losses"
   ]
  },
  {
   "cell_type": "markdown",
   "id": "b627b756",
   "metadata": {},
   "source": [
    "#### Results: For the normalized losses, since it contains invalid value '?', imputation should be performed in this."
   ]
  },
  {
   "cell_type": "code",
   "execution_count": 9,
   "id": "3667060e",
   "metadata": {},
   "outputs": [
    {
     "data": {
      "text/plain": [
       "array([130, 152, 109, 136, 131, 108, 164, 209,  61,  90,  98, 122, 156,\n",
       "        92,  79, 110, 111, 119, 258, 326,  91,  70,  80, 140, 134, 183,\n",
       "       234, 308, 304,  97, 103, 120, 181, 151, 194, 203, 132, 121, 146,\n",
       "       171, 161, 141, 173, 145])"
      ]
     },
     "execution_count": 9,
     "metadata": {},
     "output_type": "execute_result"
    }
   ],
   "source": [
    "df['engine-size'].unique()"
   ]
  },
  {
   "cell_type": "code",
   "execution_count": 10,
   "id": "437bcfcf",
   "metadata": {},
   "outputs": [
    {
     "data": {
      "text/plain": [
       "array(['mpfi', '2bbl', 'mfi', '1bbl', 'spfi', '4bbl', 'idi', 'spdi'],\n",
       "      dtype=object)"
      ]
     },
     "execution_count": 10,
     "metadata": {},
     "output_type": "execute_result"
    }
   ],
   "source": [
    "df['fuel-system'].unique()"
   ]
  },
  {
   "cell_type": "code",
   "execution_count": 11,
   "id": "28237c9e",
   "metadata": {},
   "outputs": [
    {
     "data": {
      "text/plain": [
       "8      ?\n",
       "43     ?\n",
       "44     ?\n",
       "128    ?\n",
       "Name: price, dtype: object"
      ]
     },
     "execution_count": 11,
     "metadata": {},
     "output_type": "execute_result"
    }
   ],
   "source": [
    "price = df[df['price']=='?']['price']\n",
    "price"
   ]
  },
  {
   "cell_type": "code",
   "execution_count": 12,
   "id": "cd011c7b",
   "metadata": {},
   "outputs": [
    {
     "data": {
      "text/plain": [
       "array(['two', 'four', '?'], dtype=object)"
      ]
     },
     "execution_count": 12,
     "metadata": {},
     "output_type": "execute_result"
    }
   ],
   "source": [
    "df['num-of-doors'].unique() #categorical"
   ]
  },
  {
   "cell_type": "code",
   "execution_count": 13,
   "id": "d7302c3f",
   "metadata": {},
   "outputs": [
    {
     "data": {
      "text/plain": [
       "array(['3.47', '2.68', '3.19', '3.13', '3.5', '3.31', '3.62', '2.91',\n",
       "       '3.03', '2.97', '3.34', '3.6', '2.92', '3.15', '3.43', '3.63',\n",
       "       '3.54', '3.08', '?', '3.39', '3.76', '3.58', '3.46', '3.8', '3.78',\n",
       "       '3.17', '3.35', '3.59', '2.99', '3.33', '3.7', '3.61', '3.94',\n",
       "       '3.74', '2.54', '3.05', '3.27', '3.24', '3.01'], dtype=object)"
      ]
     },
     "execution_count": 13,
     "metadata": {},
     "output_type": "execute_result"
    }
   ],
   "source": [
    "df['bore'].unique()"
   ]
  },
  {
   "cell_type": "code",
   "execution_count": 14,
   "id": "e37ddf0d",
   "metadata": {},
   "outputs": [
    {
     "data": {
      "text/plain": [
       "array(['2.68', '3.47', '3.4', '2.8', '3.19', '3.39', '3.03', '3.11',\n",
       "       '3.23', '3.46', '3.9', '3.41', '3.07', '3.58', '4.17', '2.76',\n",
       "       '3.15', '?', '3.16', '3.64', '3.1', '3.35', '3.12', '3.86', '3.29',\n",
       "       '3.27', '3.52', '2.19', '3.21', '2.9', '2.07', '2.36', '2.64',\n",
       "       '3.08', '3.5', '3.54', '2.87'], dtype=object)"
      ]
     },
     "execution_count": 14,
     "metadata": {},
     "output_type": "execute_result"
    }
   ],
   "source": [
    "df['stroke'].unique()"
   ]
  },
  {
   "cell_type": "code",
   "execution_count": 15,
   "id": "34c6db24",
   "metadata": {},
   "outputs": [
    {
     "data": {
      "text/plain": [
       "array(['5000', '5500', '5800', '4250', '5400', '5100', '4800', '6000',\n",
       "       '4750', '4650', '4200', '4350', '4500', '5200', '4150', '5600',\n",
       "       '5900', '5750', '?', '5250', '4900', '4400', '6600', '5300'],\n",
       "      dtype=object)"
      ]
     },
     "execution_count": 15,
     "metadata": {},
     "output_type": "execute_result"
    }
   ],
   "source": [
    "df['peak-rpm'].unique()"
   ]
  },
  {
   "cell_type": "markdown",
   "id": "6c167b28",
   "metadata": {},
   "source": [
    "### Since we have seen most of the column contains invalid value '?', its existence is checked every column. If the following sum is equal to the total number of rows(204, then it does not contain '?', otherwise it contains '?'.\n",
    "\n",
    "#### We can see that normalized-losses, num-of-doors, bore, stroke, horsepower, peak-rpm, and price contains invalid value. "
   ]
  },
  {
   "cell_type": "code",
   "execution_count": 61,
   "id": "a1ce538a",
   "metadata": {},
   "outputs": [
    {
     "data": {
      "text/html": [
       "<div>\n",
       "<style scoped>\n",
       "    .dataframe tbody tr th:only-of-type {\n",
       "        vertical-align: middle;\n",
       "    }\n",
       "\n",
       "    .dataframe tbody tr th {\n",
       "        vertical-align: top;\n",
       "    }\n",
       "\n",
       "    .dataframe thead th {\n",
       "        text-align: right;\n",
       "    }\n",
       "</style>\n",
       "<table border=\"1\" class=\"dataframe\">\n",
       "  <thead>\n",
       "    <tr style=\"text-align: right;\">\n",
       "      <th></th>\n",
       "      <th>symboling</th>\n",
       "      <th>normalized-losses</th>\n",
       "      <th>make</th>\n",
       "      <th>fuel-type</th>\n",
       "      <th>aspiration</th>\n",
       "      <th>num-of-doors</th>\n",
       "      <th>body-style</th>\n",
       "      <th>drive-wheels</th>\n",
       "      <th>engine-location</th>\n",
       "      <th>wheel-base</th>\n",
       "      <th>length</th>\n",
       "      <th>width</th>\n",
       "      <th>height</th>\n",
       "      <th>curb-weight</th>\n",
       "      <th>engine-type</th>\n",
       "      <th>num-of-cylinders</th>\n",
       "      <th>engine-size</th>\n",
       "      <th>fuel-system</th>\n",
       "      <th>bore</th>\n",
       "      <th>stroke</th>\n",
       "      <th>compression-ratio</th>\n",
       "      <th>horsepower</th>\n",
       "      <th>peak-rpm</th>\n",
       "      <th>city-mpg</th>\n",
       "      <th>highway-mpg</th>\n",
       "      <th>price</th>\n",
       "    </tr>\n",
       "  </thead>\n",
       "  <tbody>\n",
       "    <tr>\n",
       "      <th>0</th>\n",
       "      <td>NaN</td>\n",
       "      <td>NaN</td>\n",
       "      <td>NaN</td>\n",
       "      <td>NaN</td>\n",
       "      <td>NaN</td>\n",
       "      <td>NaN</td>\n",
       "      <td>NaN</td>\n",
       "      <td>NaN</td>\n",
       "      <td>NaN</td>\n",
       "      <td>NaN</td>\n",
       "      <td>NaN</td>\n",
       "      <td>NaN</td>\n",
       "      <td>NaN</td>\n",
       "      <td>NaN</td>\n",
       "      <td>NaN</td>\n",
       "      <td>NaN</td>\n",
       "      <td>NaN</td>\n",
       "      <td>NaN</td>\n",
       "      <td>NaN</td>\n",
       "      <td>NaN</td>\n",
       "      <td>NaN</td>\n",
       "      <td>NaN</td>\n",
       "      <td>NaN</td>\n",
       "      <td>NaN</td>\n",
       "      <td>NaN</td>\n",
       "      <td>NaN</td>\n",
       "    </tr>\n",
       "    <tr>\n",
       "      <th>1</th>\n",
       "      <td>NaN</td>\n",
       "      <td>NaN</td>\n",
       "      <td>NaN</td>\n",
       "      <td>NaN</td>\n",
       "      <td>NaN</td>\n",
       "      <td>NaN</td>\n",
       "      <td>NaN</td>\n",
       "      <td>NaN</td>\n",
       "      <td>NaN</td>\n",
       "      <td>NaN</td>\n",
       "      <td>NaN</td>\n",
       "      <td>NaN</td>\n",
       "      <td>NaN</td>\n",
       "      <td>NaN</td>\n",
       "      <td>NaN</td>\n",
       "      <td>NaN</td>\n",
       "      <td>NaN</td>\n",
       "      <td>NaN</td>\n",
       "      <td>NaN</td>\n",
       "      <td>NaN</td>\n",
       "      <td>NaN</td>\n",
       "      <td>NaN</td>\n",
       "      <td>NaN</td>\n",
       "      <td>NaN</td>\n",
       "      <td>NaN</td>\n",
       "      <td>NaN</td>\n",
       "    </tr>\n",
       "    <tr>\n",
       "      <th>2</th>\n",
       "      <td>NaN</td>\n",
       "      <td>NaN</td>\n",
       "      <td>NaN</td>\n",
       "      <td>NaN</td>\n",
       "      <td>NaN</td>\n",
       "      <td>NaN</td>\n",
       "      <td>NaN</td>\n",
       "      <td>NaN</td>\n",
       "      <td>NaN</td>\n",
       "      <td>NaN</td>\n",
       "      <td>NaN</td>\n",
       "      <td>NaN</td>\n",
       "      <td>NaN</td>\n",
       "      <td>NaN</td>\n",
       "      <td>NaN</td>\n",
       "      <td>NaN</td>\n",
       "      <td>NaN</td>\n",
       "      <td>NaN</td>\n",
       "      <td>NaN</td>\n",
       "      <td>NaN</td>\n",
       "      <td>NaN</td>\n",
       "      <td>NaN</td>\n",
       "      <td>NaN</td>\n",
       "      <td>NaN</td>\n",
       "      <td>NaN</td>\n",
       "      <td>NaN</td>\n",
       "    </tr>\n",
       "    <tr>\n",
       "      <th>3</th>\n",
       "      <td>NaN</td>\n",
       "      <td>NaN</td>\n",
       "      <td>NaN</td>\n",
       "      <td>NaN</td>\n",
       "      <td>NaN</td>\n",
       "      <td>NaN</td>\n",
       "      <td>NaN</td>\n",
       "      <td>NaN</td>\n",
       "      <td>NaN</td>\n",
       "      <td>NaN</td>\n",
       "      <td>NaN</td>\n",
       "      <td>NaN</td>\n",
       "      <td>NaN</td>\n",
       "      <td>NaN</td>\n",
       "      <td>NaN</td>\n",
       "      <td>NaN</td>\n",
       "      <td>NaN</td>\n",
       "      <td>NaN</td>\n",
       "      <td>NaN</td>\n",
       "      <td>NaN</td>\n",
       "      <td>NaN</td>\n",
       "      <td>NaN</td>\n",
       "      <td>NaN</td>\n",
       "      <td>NaN</td>\n",
       "      <td>NaN</td>\n",
       "      <td>NaN</td>\n",
       "    </tr>\n",
       "    <tr>\n",
       "      <th>4</th>\n",
       "      <td>NaN</td>\n",
       "      <td>NaN</td>\n",
       "      <td>NaN</td>\n",
       "      <td>NaN</td>\n",
       "      <td>NaN</td>\n",
       "      <td>NaN</td>\n",
       "      <td>NaN</td>\n",
       "      <td>NaN</td>\n",
       "      <td>NaN</td>\n",
       "      <td>NaN</td>\n",
       "      <td>NaN</td>\n",
       "      <td>NaN</td>\n",
       "      <td>NaN</td>\n",
       "      <td>NaN</td>\n",
       "      <td>NaN</td>\n",
       "      <td>NaN</td>\n",
       "      <td>NaN</td>\n",
       "      <td>NaN</td>\n",
       "      <td>NaN</td>\n",
       "      <td>NaN</td>\n",
       "      <td>NaN</td>\n",
       "      <td>NaN</td>\n",
       "      <td>NaN</td>\n",
       "      <td>NaN</td>\n",
       "      <td>NaN</td>\n",
       "      <td>NaN</td>\n",
       "    </tr>\n",
       "    <tr>\n",
       "      <th>...</th>\n",
       "      <td>...</td>\n",
       "      <td>...</td>\n",
       "      <td>...</td>\n",
       "      <td>...</td>\n",
       "      <td>...</td>\n",
       "      <td>...</td>\n",
       "      <td>...</td>\n",
       "      <td>...</td>\n",
       "      <td>...</td>\n",
       "      <td>...</td>\n",
       "      <td>...</td>\n",
       "      <td>...</td>\n",
       "      <td>...</td>\n",
       "      <td>...</td>\n",
       "      <td>...</td>\n",
       "      <td>...</td>\n",
       "      <td>...</td>\n",
       "      <td>...</td>\n",
       "      <td>...</td>\n",
       "      <td>...</td>\n",
       "      <td>...</td>\n",
       "      <td>...</td>\n",
       "      <td>...</td>\n",
       "      <td>...</td>\n",
       "      <td>...</td>\n",
       "      <td>...</td>\n",
       "    </tr>\n",
       "    <tr>\n",
       "      <th>199</th>\n",
       "      <td>NaN</td>\n",
       "      <td>NaN</td>\n",
       "      <td>NaN</td>\n",
       "      <td>NaN</td>\n",
       "      <td>NaN</td>\n",
       "      <td>NaN</td>\n",
       "      <td>NaN</td>\n",
       "      <td>NaN</td>\n",
       "      <td>NaN</td>\n",
       "      <td>NaN</td>\n",
       "      <td>NaN</td>\n",
       "      <td>NaN</td>\n",
       "      <td>NaN</td>\n",
       "      <td>NaN</td>\n",
       "      <td>NaN</td>\n",
       "      <td>NaN</td>\n",
       "      <td>NaN</td>\n",
       "      <td>NaN</td>\n",
       "      <td>NaN</td>\n",
       "      <td>NaN</td>\n",
       "      <td>NaN</td>\n",
       "      <td>NaN</td>\n",
       "      <td>NaN</td>\n",
       "      <td>NaN</td>\n",
       "      <td>NaN</td>\n",
       "      <td>NaN</td>\n",
       "    </tr>\n",
       "    <tr>\n",
       "      <th>200</th>\n",
       "      <td>NaN</td>\n",
       "      <td>NaN</td>\n",
       "      <td>NaN</td>\n",
       "      <td>NaN</td>\n",
       "      <td>NaN</td>\n",
       "      <td>NaN</td>\n",
       "      <td>NaN</td>\n",
       "      <td>NaN</td>\n",
       "      <td>NaN</td>\n",
       "      <td>NaN</td>\n",
       "      <td>NaN</td>\n",
       "      <td>NaN</td>\n",
       "      <td>NaN</td>\n",
       "      <td>NaN</td>\n",
       "      <td>NaN</td>\n",
       "      <td>NaN</td>\n",
       "      <td>NaN</td>\n",
       "      <td>NaN</td>\n",
       "      <td>NaN</td>\n",
       "      <td>NaN</td>\n",
       "      <td>NaN</td>\n",
       "      <td>NaN</td>\n",
       "      <td>NaN</td>\n",
       "      <td>NaN</td>\n",
       "      <td>NaN</td>\n",
       "      <td>NaN</td>\n",
       "    </tr>\n",
       "    <tr>\n",
       "      <th>201</th>\n",
       "      <td>NaN</td>\n",
       "      <td>NaN</td>\n",
       "      <td>NaN</td>\n",
       "      <td>NaN</td>\n",
       "      <td>NaN</td>\n",
       "      <td>NaN</td>\n",
       "      <td>NaN</td>\n",
       "      <td>NaN</td>\n",
       "      <td>NaN</td>\n",
       "      <td>NaN</td>\n",
       "      <td>NaN</td>\n",
       "      <td>NaN</td>\n",
       "      <td>NaN</td>\n",
       "      <td>NaN</td>\n",
       "      <td>NaN</td>\n",
       "      <td>NaN</td>\n",
       "      <td>NaN</td>\n",
       "      <td>NaN</td>\n",
       "      <td>NaN</td>\n",
       "      <td>NaN</td>\n",
       "      <td>NaN</td>\n",
       "      <td>NaN</td>\n",
       "      <td>NaN</td>\n",
       "      <td>NaN</td>\n",
       "      <td>NaN</td>\n",
       "      <td>NaN</td>\n",
       "    </tr>\n",
       "    <tr>\n",
       "      <th>202</th>\n",
       "      <td>NaN</td>\n",
       "      <td>NaN</td>\n",
       "      <td>NaN</td>\n",
       "      <td>NaN</td>\n",
       "      <td>NaN</td>\n",
       "      <td>NaN</td>\n",
       "      <td>NaN</td>\n",
       "      <td>NaN</td>\n",
       "      <td>NaN</td>\n",
       "      <td>NaN</td>\n",
       "      <td>NaN</td>\n",
       "      <td>NaN</td>\n",
       "      <td>NaN</td>\n",
       "      <td>NaN</td>\n",
       "      <td>NaN</td>\n",
       "      <td>NaN</td>\n",
       "      <td>NaN</td>\n",
       "      <td>NaN</td>\n",
       "      <td>NaN</td>\n",
       "      <td>NaN</td>\n",
       "      <td>NaN</td>\n",
       "      <td>NaN</td>\n",
       "      <td>NaN</td>\n",
       "      <td>NaN</td>\n",
       "      <td>NaN</td>\n",
       "      <td>NaN</td>\n",
       "    </tr>\n",
       "    <tr>\n",
       "      <th>203</th>\n",
       "      <td>NaN</td>\n",
       "      <td>NaN</td>\n",
       "      <td>NaN</td>\n",
       "      <td>NaN</td>\n",
       "      <td>NaN</td>\n",
       "      <td>NaN</td>\n",
       "      <td>NaN</td>\n",
       "      <td>NaN</td>\n",
       "      <td>NaN</td>\n",
       "      <td>NaN</td>\n",
       "      <td>NaN</td>\n",
       "      <td>NaN</td>\n",
       "      <td>NaN</td>\n",
       "      <td>NaN</td>\n",
       "      <td>NaN</td>\n",
       "      <td>NaN</td>\n",
       "      <td>NaN</td>\n",
       "      <td>NaN</td>\n",
       "      <td>NaN</td>\n",
       "      <td>NaN</td>\n",
       "      <td>NaN</td>\n",
       "      <td>NaN</td>\n",
       "      <td>NaN</td>\n",
       "      <td>NaN</td>\n",
       "      <td>NaN</td>\n",
       "      <td>NaN</td>\n",
       "    </tr>\n",
       "  </tbody>\n",
       "</table>\n",
       "<p>204 rows × 26 columns</p>\n",
       "</div>"
      ],
      "text/plain": [
       "     symboling  normalized-losses make fuel-type aspiration num-of-doors  \\\n",
       "0          NaN                NaN  NaN       NaN        NaN          NaN   \n",
       "1          NaN                NaN  NaN       NaN        NaN          NaN   \n",
       "2          NaN                NaN  NaN       NaN        NaN          NaN   \n",
       "3          NaN                NaN  NaN       NaN        NaN          NaN   \n",
       "4          NaN                NaN  NaN       NaN        NaN          NaN   \n",
       "..         ...                ...  ...       ...        ...          ...   \n",
       "199        NaN                NaN  NaN       NaN        NaN          NaN   \n",
       "200        NaN                NaN  NaN       NaN        NaN          NaN   \n",
       "201        NaN                NaN  NaN       NaN        NaN          NaN   \n",
       "202        NaN                NaN  NaN       NaN        NaN          NaN   \n",
       "203        NaN                NaN  NaN       NaN        NaN          NaN   \n",
       "\n",
       "    body-style drive-wheels engine-location  wheel-base  length  width  \\\n",
       "0          NaN          NaN             NaN         NaN     NaN    NaN   \n",
       "1          NaN          NaN             NaN         NaN     NaN    NaN   \n",
       "2          NaN          NaN             NaN         NaN     NaN    NaN   \n",
       "3          NaN          NaN             NaN         NaN     NaN    NaN   \n",
       "4          NaN          NaN             NaN         NaN     NaN    NaN   \n",
       "..         ...          ...             ...         ...     ...    ...   \n",
       "199        NaN          NaN             NaN         NaN     NaN    NaN   \n",
       "200        NaN          NaN             NaN         NaN     NaN    NaN   \n",
       "201        NaN          NaN             NaN         NaN     NaN    NaN   \n",
       "202        NaN          NaN             NaN         NaN     NaN    NaN   \n",
       "203        NaN          NaN             NaN         NaN     NaN    NaN   \n",
       "\n",
       "     height  curb-weight engine-type num-of-cylinders  engine-size  \\\n",
       "0       NaN          NaN         NaN              NaN          NaN   \n",
       "1       NaN          NaN         NaN              NaN          NaN   \n",
       "2       NaN          NaN         NaN              NaN          NaN   \n",
       "3       NaN          NaN         NaN              NaN          NaN   \n",
       "4       NaN          NaN         NaN              NaN          NaN   \n",
       "..      ...          ...         ...              ...          ...   \n",
       "199     NaN          NaN         NaN              NaN          NaN   \n",
       "200     NaN          NaN         NaN              NaN          NaN   \n",
       "201     NaN          NaN         NaN              NaN          NaN   \n",
       "202     NaN          NaN         NaN              NaN          NaN   \n",
       "203     NaN          NaN         NaN              NaN          NaN   \n",
       "\n",
       "    fuel-system  bore  stroke  compression-ratio  horsepower  peak-rpm  \\\n",
       "0           NaN   NaN     NaN                NaN         NaN       NaN   \n",
       "1           NaN   NaN     NaN                NaN         NaN       NaN   \n",
       "2           NaN   NaN     NaN                NaN         NaN       NaN   \n",
       "3           NaN   NaN     NaN                NaN         NaN       NaN   \n",
       "4           NaN   NaN     NaN                NaN         NaN       NaN   \n",
       "..          ...   ...     ...                ...         ...       ...   \n",
       "199         NaN   NaN     NaN                NaN         NaN       NaN   \n",
       "200         NaN   NaN     NaN                NaN         NaN       NaN   \n",
       "201         NaN   NaN     NaN                NaN         NaN       NaN   \n",
       "202         NaN   NaN     NaN                NaN         NaN       NaN   \n",
       "203         NaN   NaN     NaN                NaN         NaN       NaN   \n",
       "\n",
       "     city-mpg  highway-mpg  price  \n",
       "0         NaN          NaN    NaN  \n",
       "1         NaN          NaN    NaN  \n",
       "2         NaN          NaN    NaN  \n",
       "3         NaN          NaN    NaN  \n",
       "4         NaN          NaN    NaN  \n",
       "..        ...          ...    ...  \n",
       "199       NaN          NaN    NaN  \n",
       "200       NaN          NaN    NaN  \n",
       "201       NaN          NaN    NaN  \n",
       "202       NaN          NaN    NaN  \n",
       "203       NaN          NaN    NaN  \n",
       "\n",
       "[204 rows x 26 columns]"
      ]
     },
     "execution_count": 61,
     "metadata": {},
     "output_type": "execute_result"
    }
   ],
   "source": [
    "invalid = df[df=='?']\n",
    "invalid.isnull().sum()\n",
    "invalid"
   ]
  },
  {
   "cell_type": "markdown",
   "id": "5c8a69b9",
   "metadata": {},
   "source": [
    "## Exploratory Data Analysis (EDA) "
   ]
  },
  {
   "cell_type": "markdown",
   "id": "a4625e3a",
   "metadata": {},
   "source": [
    "### Step 1: Run descriptive statistics for each attribute ####\n",
    "\n",
    "####  The numeric variables are included in this dataset except for the categorical one. Although normalized-losses, bore, stroke, horsepower, peak-rpm, and price are also numeric variables, it contains invalid value, therefore it is taken as an object by the describe function."
   ]
  },
  {
   "cell_type": "code",
   "execution_count": 17,
   "id": "5ffe8485",
   "metadata": {},
   "outputs": [
    {
     "data": {
      "text/html": [
       "<div>\n",
       "<style scoped>\n",
       "    .dataframe tbody tr th:only-of-type {\n",
       "        vertical-align: middle;\n",
       "    }\n",
       "\n",
       "    .dataframe tbody tr th {\n",
       "        vertical-align: top;\n",
       "    }\n",
       "\n",
       "    .dataframe thead th {\n",
       "        text-align: right;\n",
       "    }\n",
       "</style>\n",
       "<table border=\"1\" class=\"dataframe\">\n",
       "  <thead>\n",
       "    <tr style=\"text-align: right;\">\n",
       "      <th></th>\n",
       "      <th>symboling</th>\n",
       "      <th>wheel-base</th>\n",
       "      <th>length</th>\n",
       "      <th>width</th>\n",
       "      <th>height</th>\n",
       "      <th>curb-weight</th>\n",
       "      <th>engine-size</th>\n",
       "      <th>compression-ratio</th>\n",
       "      <th>city-mpg</th>\n",
       "      <th>highway-mpg</th>\n",
       "    </tr>\n",
       "  </thead>\n",
       "  <tbody>\n",
       "    <tr>\n",
       "      <th>count</th>\n",
       "      <td>204.000000</td>\n",
       "      <td>204.000000</td>\n",
       "      <td>204.000000</td>\n",
       "      <td>204.000000</td>\n",
       "      <td>204.000000</td>\n",
       "      <td>204.000000</td>\n",
       "      <td>204.000000</td>\n",
       "      <td>204.000000</td>\n",
       "      <td>204.000000</td>\n",
       "      <td>204.000000</td>\n",
       "    </tr>\n",
       "    <tr>\n",
       "      <th>mean</th>\n",
       "      <td>0.823529</td>\n",
       "      <td>98.806373</td>\n",
       "      <td>174.075000</td>\n",
       "      <td>65.916667</td>\n",
       "      <td>53.749020</td>\n",
       "      <td>2555.602941</td>\n",
       "      <td>126.892157</td>\n",
       "      <td>10.148137</td>\n",
       "      <td>25.240196</td>\n",
       "      <td>30.769608</td>\n",
       "    </tr>\n",
       "    <tr>\n",
       "      <th>std</th>\n",
       "      <td>1.239035</td>\n",
       "      <td>5.994144</td>\n",
       "      <td>12.362123</td>\n",
       "      <td>2.146716</td>\n",
       "      <td>2.424901</td>\n",
       "      <td>521.960820</td>\n",
       "      <td>41.744569</td>\n",
       "      <td>3.981000</td>\n",
       "      <td>6.551513</td>\n",
       "      <td>6.898337</td>\n",
       "    </tr>\n",
       "    <tr>\n",
       "      <th>min</th>\n",
       "      <td>-2.000000</td>\n",
       "      <td>86.600000</td>\n",
       "      <td>141.100000</td>\n",
       "      <td>60.300000</td>\n",
       "      <td>47.800000</td>\n",
       "      <td>1488.000000</td>\n",
       "      <td>61.000000</td>\n",
       "      <td>7.000000</td>\n",
       "      <td>13.000000</td>\n",
       "      <td>16.000000</td>\n",
       "    </tr>\n",
       "    <tr>\n",
       "      <th>25%</th>\n",
       "      <td>0.000000</td>\n",
       "      <td>94.500000</td>\n",
       "      <td>166.300000</td>\n",
       "      <td>64.075000</td>\n",
       "      <td>52.000000</td>\n",
       "      <td>2145.000000</td>\n",
       "      <td>97.000000</td>\n",
       "      <td>8.575000</td>\n",
       "      <td>19.000000</td>\n",
       "      <td>25.000000</td>\n",
       "    </tr>\n",
       "    <tr>\n",
       "      <th>50%</th>\n",
       "      <td>1.000000</td>\n",
       "      <td>97.000000</td>\n",
       "      <td>173.200000</td>\n",
       "      <td>65.500000</td>\n",
       "      <td>54.100000</td>\n",
       "      <td>2414.000000</td>\n",
       "      <td>119.500000</td>\n",
       "      <td>9.000000</td>\n",
       "      <td>24.000000</td>\n",
       "      <td>30.000000</td>\n",
       "    </tr>\n",
       "    <tr>\n",
       "      <th>75%</th>\n",
       "      <td>2.000000</td>\n",
       "      <td>102.400000</td>\n",
       "      <td>183.200000</td>\n",
       "      <td>66.900000</td>\n",
       "      <td>55.500000</td>\n",
       "      <td>2939.250000</td>\n",
       "      <td>142.000000</td>\n",
       "      <td>9.400000</td>\n",
       "      <td>30.000000</td>\n",
       "      <td>34.500000</td>\n",
       "    </tr>\n",
       "    <tr>\n",
       "      <th>max</th>\n",
       "      <td>3.000000</td>\n",
       "      <td>120.900000</td>\n",
       "      <td>208.100000</td>\n",
       "      <td>72.300000</td>\n",
       "      <td>59.800000</td>\n",
       "      <td>4066.000000</td>\n",
       "      <td>326.000000</td>\n",
       "      <td>23.000000</td>\n",
       "      <td>49.000000</td>\n",
       "      <td>54.000000</td>\n",
       "    </tr>\n",
       "  </tbody>\n",
       "</table>\n",
       "</div>"
      ],
      "text/plain": [
       "        symboling  wheel-base      length       width      height  \\\n",
       "count  204.000000  204.000000  204.000000  204.000000  204.000000   \n",
       "mean     0.823529   98.806373  174.075000   65.916667   53.749020   \n",
       "std      1.239035    5.994144   12.362123    2.146716    2.424901   \n",
       "min     -2.000000   86.600000  141.100000   60.300000   47.800000   \n",
       "25%      0.000000   94.500000  166.300000   64.075000   52.000000   \n",
       "50%      1.000000   97.000000  173.200000   65.500000   54.100000   \n",
       "75%      2.000000  102.400000  183.200000   66.900000   55.500000   \n",
       "max      3.000000  120.900000  208.100000   72.300000   59.800000   \n",
       "\n",
       "       curb-weight  engine-size  compression-ratio    city-mpg  highway-mpg  \n",
       "count   204.000000   204.000000         204.000000  204.000000   204.000000  \n",
       "mean   2555.602941   126.892157          10.148137   25.240196    30.769608  \n",
       "std     521.960820    41.744569           3.981000    6.551513     6.898337  \n",
       "min    1488.000000    61.000000           7.000000   13.000000    16.000000  \n",
       "25%    2145.000000    97.000000           8.575000   19.000000    25.000000  \n",
       "50%    2414.000000   119.500000           9.000000   24.000000    30.000000  \n",
       "75%    2939.250000   142.000000           9.400000   30.000000    34.500000  \n",
       "max    4066.000000   326.000000          23.000000   49.000000    54.000000  "
      ]
     },
     "execution_count": 17,
     "metadata": {},
     "output_type": "execute_result"
    }
   ],
   "source": [
    "df.describe()"
   ]
  },
  {
   "cell_type": "markdown",
   "id": "36450f97",
   "metadata": {},
   "source": [
    "### To include other remaining numerical variables, invalid data should firstly be replaced by the null value"
   ]
  },
  {
   "cell_type": "code",
   "execution_count": 18,
   "id": "35a7c8bb",
   "metadata": {},
   "outputs": [
    {
     "data": {
      "text/html": [
       "<div>\n",
       "<style scoped>\n",
       "    .dataframe tbody tr th:only-of-type {\n",
       "        vertical-align: middle;\n",
       "    }\n",
       "\n",
       "    .dataframe tbody tr th {\n",
       "        vertical-align: top;\n",
       "    }\n",
       "\n",
       "    .dataframe thead th {\n",
       "        text-align: right;\n",
       "    }\n",
       "</style>\n",
       "<table border=\"1\" class=\"dataframe\">\n",
       "  <thead>\n",
       "    <tr style=\"text-align: right;\">\n",
       "      <th></th>\n",
       "      <th>symboling</th>\n",
       "      <th>normalized-losses</th>\n",
       "      <th>make</th>\n",
       "      <th>fuel-type</th>\n",
       "      <th>aspiration</th>\n",
       "      <th>num-of-doors</th>\n",
       "      <th>body-style</th>\n",
       "      <th>drive-wheels</th>\n",
       "      <th>engine-location</th>\n",
       "      <th>wheel-base</th>\n",
       "      <th>length</th>\n",
       "      <th>width</th>\n",
       "      <th>height</th>\n",
       "      <th>curb-weight</th>\n",
       "      <th>engine-type</th>\n",
       "      <th>num-of-cylinders</th>\n",
       "      <th>engine-size</th>\n",
       "      <th>fuel-system</th>\n",
       "      <th>bore</th>\n",
       "      <th>stroke</th>\n",
       "      <th>compression-ratio</th>\n",
       "      <th>horsepower</th>\n",
       "      <th>peak-rpm</th>\n",
       "      <th>city-mpg</th>\n",
       "      <th>highway-mpg</th>\n",
       "      <th>price</th>\n",
       "    </tr>\n",
       "  </thead>\n",
       "  <tbody>\n",
       "    <tr>\n",
       "      <th>0</th>\n",
       "      <td>3</td>\n",
       "      <td>NaN</td>\n",
       "      <td>alfa-romero</td>\n",
       "      <td>gas</td>\n",
       "      <td>std</td>\n",
       "      <td>two</td>\n",
       "      <td>convertible</td>\n",
       "      <td>rwd</td>\n",
       "      <td>front</td>\n",
       "      <td>88.6</td>\n",
       "      <td>168.8</td>\n",
       "      <td>64.1</td>\n",
       "      <td>48.8</td>\n",
       "      <td>2548</td>\n",
       "      <td>dohc</td>\n",
       "      <td>four</td>\n",
       "      <td>130</td>\n",
       "      <td>mpfi</td>\n",
       "      <td>3.47</td>\n",
       "      <td>2.68</td>\n",
       "      <td>9.0</td>\n",
       "      <td>111</td>\n",
       "      <td>5000</td>\n",
       "      <td>21</td>\n",
       "      <td>27</td>\n",
       "      <td>16500</td>\n",
       "    </tr>\n",
       "    <tr>\n",
       "      <th>1</th>\n",
       "      <td>1</td>\n",
       "      <td>NaN</td>\n",
       "      <td>alfa-romero</td>\n",
       "      <td>gas</td>\n",
       "      <td>std</td>\n",
       "      <td>two</td>\n",
       "      <td>hatchback</td>\n",
       "      <td>rwd</td>\n",
       "      <td>front</td>\n",
       "      <td>94.5</td>\n",
       "      <td>171.2</td>\n",
       "      <td>65.5</td>\n",
       "      <td>52.4</td>\n",
       "      <td>2823</td>\n",
       "      <td>ohcv</td>\n",
       "      <td>six</td>\n",
       "      <td>152</td>\n",
       "      <td>mpfi</td>\n",
       "      <td>2.68</td>\n",
       "      <td>3.47</td>\n",
       "      <td>9.0</td>\n",
       "      <td>154</td>\n",
       "      <td>5000</td>\n",
       "      <td>19</td>\n",
       "      <td>26</td>\n",
       "      <td>16500</td>\n",
       "    </tr>\n",
       "    <tr>\n",
       "      <th>2</th>\n",
       "      <td>2</td>\n",
       "      <td>164</td>\n",
       "      <td>audi</td>\n",
       "      <td>gas</td>\n",
       "      <td>std</td>\n",
       "      <td>four</td>\n",
       "      <td>sedan</td>\n",
       "      <td>fwd</td>\n",
       "      <td>front</td>\n",
       "      <td>99.8</td>\n",
       "      <td>176.6</td>\n",
       "      <td>66.2</td>\n",
       "      <td>54.3</td>\n",
       "      <td>2337</td>\n",
       "      <td>ohc</td>\n",
       "      <td>four</td>\n",
       "      <td>109</td>\n",
       "      <td>mpfi</td>\n",
       "      <td>3.19</td>\n",
       "      <td>3.4</td>\n",
       "      <td>10.0</td>\n",
       "      <td>102</td>\n",
       "      <td>5500</td>\n",
       "      <td>24</td>\n",
       "      <td>30</td>\n",
       "      <td>13950</td>\n",
       "    </tr>\n",
       "    <tr>\n",
       "      <th>3</th>\n",
       "      <td>2</td>\n",
       "      <td>164</td>\n",
       "      <td>audi</td>\n",
       "      <td>gas</td>\n",
       "      <td>std</td>\n",
       "      <td>four</td>\n",
       "      <td>sedan</td>\n",
       "      <td>4wd</td>\n",
       "      <td>front</td>\n",
       "      <td>99.4</td>\n",
       "      <td>176.6</td>\n",
       "      <td>66.4</td>\n",
       "      <td>54.3</td>\n",
       "      <td>2824</td>\n",
       "      <td>ohc</td>\n",
       "      <td>five</td>\n",
       "      <td>136</td>\n",
       "      <td>mpfi</td>\n",
       "      <td>3.19</td>\n",
       "      <td>3.4</td>\n",
       "      <td>8.0</td>\n",
       "      <td>115</td>\n",
       "      <td>5500</td>\n",
       "      <td>18</td>\n",
       "      <td>22</td>\n",
       "      <td>17450</td>\n",
       "    </tr>\n",
       "    <tr>\n",
       "      <th>4</th>\n",
       "      <td>2</td>\n",
       "      <td>NaN</td>\n",
       "      <td>audi</td>\n",
       "      <td>gas</td>\n",
       "      <td>std</td>\n",
       "      <td>two</td>\n",
       "      <td>sedan</td>\n",
       "      <td>fwd</td>\n",
       "      <td>front</td>\n",
       "      <td>99.8</td>\n",
       "      <td>177.3</td>\n",
       "      <td>66.3</td>\n",
       "      <td>53.1</td>\n",
       "      <td>2507</td>\n",
       "      <td>ohc</td>\n",
       "      <td>five</td>\n",
       "      <td>136</td>\n",
       "      <td>mpfi</td>\n",
       "      <td>3.19</td>\n",
       "      <td>3.4</td>\n",
       "      <td>8.5</td>\n",
       "      <td>110</td>\n",
       "      <td>5500</td>\n",
       "      <td>19</td>\n",
       "      <td>25</td>\n",
       "      <td>15250</td>\n",
       "    </tr>\n",
       "    <tr>\n",
       "      <th>...</th>\n",
       "      <td>...</td>\n",
       "      <td>...</td>\n",
       "      <td>...</td>\n",
       "      <td>...</td>\n",
       "      <td>...</td>\n",
       "      <td>...</td>\n",
       "      <td>...</td>\n",
       "      <td>...</td>\n",
       "      <td>...</td>\n",
       "      <td>...</td>\n",
       "      <td>...</td>\n",
       "      <td>...</td>\n",
       "      <td>...</td>\n",
       "      <td>...</td>\n",
       "      <td>...</td>\n",
       "      <td>...</td>\n",
       "      <td>...</td>\n",
       "      <td>...</td>\n",
       "      <td>...</td>\n",
       "      <td>...</td>\n",
       "      <td>...</td>\n",
       "      <td>...</td>\n",
       "      <td>...</td>\n",
       "      <td>...</td>\n",
       "      <td>...</td>\n",
       "      <td>...</td>\n",
       "    </tr>\n",
       "    <tr>\n",
       "      <th>199</th>\n",
       "      <td>-1</td>\n",
       "      <td>95</td>\n",
       "      <td>volvo</td>\n",
       "      <td>gas</td>\n",
       "      <td>std</td>\n",
       "      <td>four</td>\n",
       "      <td>sedan</td>\n",
       "      <td>rwd</td>\n",
       "      <td>front</td>\n",
       "      <td>109.1</td>\n",
       "      <td>188.8</td>\n",
       "      <td>68.9</td>\n",
       "      <td>55.5</td>\n",
       "      <td>2952</td>\n",
       "      <td>ohc</td>\n",
       "      <td>four</td>\n",
       "      <td>141</td>\n",
       "      <td>mpfi</td>\n",
       "      <td>3.78</td>\n",
       "      <td>3.15</td>\n",
       "      <td>9.5</td>\n",
       "      <td>114</td>\n",
       "      <td>5400</td>\n",
       "      <td>23</td>\n",
       "      <td>28</td>\n",
       "      <td>16845</td>\n",
       "    </tr>\n",
       "    <tr>\n",
       "      <th>200</th>\n",
       "      <td>-1</td>\n",
       "      <td>95</td>\n",
       "      <td>volvo</td>\n",
       "      <td>gas</td>\n",
       "      <td>turbo</td>\n",
       "      <td>four</td>\n",
       "      <td>sedan</td>\n",
       "      <td>rwd</td>\n",
       "      <td>front</td>\n",
       "      <td>109.1</td>\n",
       "      <td>188.8</td>\n",
       "      <td>68.8</td>\n",
       "      <td>55.5</td>\n",
       "      <td>3049</td>\n",
       "      <td>ohc</td>\n",
       "      <td>four</td>\n",
       "      <td>141</td>\n",
       "      <td>mpfi</td>\n",
       "      <td>3.78</td>\n",
       "      <td>3.15</td>\n",
       "      <td>8.7</td>\n",
       "      <td>160</td>\n",
       "      <td>5300</td>\n",
       "      <td>19</td>\n",
       "      <td>25</td>\n",
       "      <td>19045</td>\n",
       "    </tr>\n",
       "    <tr>\n",
       "      <th>201</th>\n",
       "      <td>-1</td>\n",
       "      <td>95</td>\n",
       "      <td>volvo</td>\n",
       "      <td>gas</td>\n",
       "      <td>std</td>\n",
       "      <td>four</td>\n",
       "      <td>sedan</td>\n",
       "      <td>rwd</td>\n",
       "      <td>front</td>\n",
       "      <td>109.1</td>\n",
       "      <td>188.8</td>\n",
       "      <td>68.9</td>\n",
       "      <td>55.5</td>\n",
       "      <td>3012</td>\n",
       "      <td>ohcv</td>\n",
       "      <td>six</td>\n",
       "      <td>173</td>\n",
       "      <td>mpfi</td>\n",
       "      <td>3.58</td>\n",
       "      <td>2.87</td>\n",
       "      <td>8.8</td>\n",
       "      <td>134</td>\n",
       "      <td>5500</td>\n",
       "      <td>18</td>\n",
       "      <td>23</td>\n",
       "      <td>21485</td>\n",
       "    </tr>\n",
       "    <tr>\n",
       "      <th>202</th>\n",
       "      <td>-1</td>\n",
       "      <td>95</td>\n",
       "      <td>volvo</td>\n",
       "      <td>diesel</td>\n",
       "      <td>turbo</td>\n",
       "      <td>four</td>\n",
       "      <td>sedan</td>\n",
       "      <td>rwd</td>\n",
       "      <td>front</td>\n",
       "      <td>109.1</td>\n",
       "      <td>188.8</td>\n",
       "      <td>68.9</td>\n",
       "      <td>55.5</td>\n",
       "      <td>3217</td>\n",
       "      <td>ohc</td>\n",
       "      <td>six</td>\n",
       "      <td>145</td>\n",
       "      <td>idi</td>\n",
       "      <td>3.01</td>\n",
       "      <td>3.4</td>\n",
       "      <td>23.0</td>\n",
       "      <td>106</td>\n",
       "      <td>4800</td>\n",
       "      <td>26</td>\n",
       "      <td>27</td>\n",
       "      <td>22470</td>\n",
       "    </tr>\n",
       "    <tr>\n",
       "      <th>203</th>\n",
       "      <td>-1</td>\n",
       "      <td>95</td>\n",
       "      <td>volvo</td>\n",
       "      <td>gas</td>\n",
       "      <td>turbo</td>\n",
       "      <td>four</td>\n",
       "      <td>sedan</td>\n",
       "      <td>rwd</td>\n",
       "      <td>front</td>\n",
       "      <td>109.1</td>\n",
       "      <td>188.8</td>\n",
       "      <td>68.9</td>\n",
       "      <td>55.5</td>\n",
       "      <td>3062</td>\n",
       "      <td>ohc</td>\n",
       "      <td>four</td>\n",
       "      <td>141</td>\n",
       "      <td>mpfi</td>\n",
       "      <td>3.78</td>\n",
       "      <td>3.15</td>\n",
       "      <td>9.5</td>\n",
       "      <td>114</td>\n",
       "      <td>5400</td>\n",
       "      <td>19</td>\n",
       "      <td>25</td>\n",
       "      <td>22625</td>\n",
       "    </tr>\n",
       "  </tbody>\n",
       "</table>\n",
       "<p>204 rows × 26 columns</p>\n",
       "</div>"
      ],
      "text/plain": [
       "     symboling normalized-losses         make fuel-type aspiration  \\\n",
       "0            3               NaN  alfa-romero       gas        std   \n",
       "1            1               NaN  alfa-romero       gas        std   \n",
       "2            2               164         audi       gas        std   \n",
       "3            2               164         audi       gas        std   \n",
       "4            2               NaN         audi       gas        std   \n",
       "..         ...               ...          ...       ...        ...   \n",
       "199         -1                95        volvo       gas        std   \n",
       "200         -1                95        volvo       gas      turbo   \n",
       "201         -1                95        volvo       gas        std   \n",
       "202         -1                95        volvo    diesel      turbo   \n",
       "203         -1                95        volvo       gas      turbo   \n",
       "\n",
       "    num-of-doors   body-style drive-wheels engine-location  wheel-base  \\\n",
       "0            two  convertible          rwd           front        88.6   \n",
       "1            two    hatchback          rwd           front        94.5   \n",
       "2           four        sedan          fwd           front        99.8   \n",
       "3           four        sedan          4wd           front        99.4   \n",
       "4            two        sedan          fwd           front        99.8   \n",
       "..           ...          ...          ...             ...         ...   \n",
       "199         four        sedan          rwd           front       109.1   \n",
       "200         four        sedan          rwd           front       109.1   \n",
       "201         four        sedan          rwd           front       109.1   \n",
       "202         four        sedan          rwd           front       109.1   \n",
       "203         four        sedan          rwd           front       109.1   \n",
       "\n",
       "     length  width  height  curb-weight engine-type num-of-cylinders  \\\n",
       "0     168.8   64.1    48.8         2548        dohc             four   \n",
       "1     171.2   65.5    52.4         2823        ohcv              six   \n",
       "2     176.6   66.2    54.3         2337         ohc             four   \n",
       "3     176.6   66.4    54.3         2824         ohc             five   \n",
       "4     177.3   66.3    53.1         2507         ohc             five   \n",
       "..      ...    ...     ...          ...         ...              ...   \n",
       "199   188.8   68.9    55.5         2952         ohc             four   \n",
       "200   188.8   68.8    55.5         3049         ohc             four   \n",
       "201   188.8   68.9    55.5         3012        ohcv              six   \n",
       "202   188.8   68.9    55.5         3217         ohc              six   \n",
       "203   188.8   68.9    55.5         3062         ohc             four   \n",
       "\n",
       "     engine-size fuel-system  bore stroke  compression-ratio horsepower  \\\n",
       "0            130        mpfi  3.47   2.68                9.0        111   \n",
       "1            152        mpfi  2.68   3.47                9.0        154   \n",
       "2            109        mpfi  3.19    3.4               10.0        102   \n",
       "3            136        mpfi  3.19    3.4                8.0        115   \n",
       "4            136        mpfi  3.19    3.4                8.5        110   \n",
       "..           ...         ...   ...    ...                ...        ...   \n",
       "199          141        mpfi  3.78   3.15                9.5        114   \n",
       "200          141        mpfi  3.78   3.15                8.7        160   \n",
       "201          173        mpfi  3.58   2.87                8.8        134   \n",
       "202          145         idi  3.01    3.4               23.0        106   \n",
       "203          141        mpfi  3.78   3.15                9.5        114   \n",
       "\n",
       "    peak-rpm  city-mpg  highway-mpg  price  \n",
       "0       5000        21           27  16500  \n",
       "1       5000        19           26  16500  \n",
       "2       5500        24           30  13950  \n",
       "3       5500        18           22  17450  \n",
       "4       5500        19           25  15250  \n",
       "..       ...       ...          ...    ...  \n",
       "199     5400        23           28  16845  \n",
       "200     5300        19           25  19045  \n",
       "201     5500        18           23  21485  \n",
       "202     4800        26           27  22470  \n",
       "203     5400        19           25  22625  \n",
       "\n",
       "[204 rows x 26 columns]"
      ]
     },
     "execution_count": 18,
     "metadata": {},
     "output_type": "execute_result"
    }
   ],
   "source": [
    "pd.set_option('display.max_columns', None)\n",
    "df[df=='?'] = np.nan\n",
    "df"
   ]
  },
  {
   "cell_type": "markdown",
   "id": "c091fe37",
   "metadata": {},
   "source": [
    "### Converting the data type object to numerical one."
   ]
  },
  {
   "cell_type": "code",
   "execution_count": 19,
   "id": "00cbbecf",
   "metadata": {},
   "outputs": [],
   "source": [
    "df['normalized-losses']= pd.to_numeric(df['normalized-losses'],errors='ignore' )\n",
    "df['bore'] = pd.to_numeric(df['bore'] )\n",
    "df['stroke'] = pd.to_numeric(df['stroke'] )\n",
    "df['horsepower'] = pd.to_numeric(df['horsepower'] )\n",
    "df['peak-rpm'] = pd.to_numeric(df['peak-rpm'] )\n",
    "df['price'] = pd.to_numeric(df['price'],errors='coerce')\n"
   ]
  },
  {
   "cell_type": "markdown",
   "id": "a8cad13d",
   "metadata": {},
   "source": [
    "### Here a data of newly converted columns "
   ]
  },
  {
   "cell_type": "code",
   "execution_count": 20,
   "id": "b033a1ac",
   "metadata": {},
   "outputs": [
    {
     "data": {
      "text/html": [
       "<div>\n",
       "<style scoped>\n",
       "    .dataframe tbody tr th:only-of-type {\n",
       "        vertical-align: middle;\n",
       "    }\n",
       "\n",
       "    .dataframe tbody tr th {\n",
       "        vertical-align: top;\n",
       "    }\n",
       "\n",
       "    .dataframe thead th {\n",
       "        text-align: right;\n",
       "    }\n",
       "</style>\n",
       "<table border=\"1\" class=\"dataframe\">\n",
       "  <thead>\n",
       "    <tr style=\"text-align: right;\">\n",
       "      <th></th>\n",
       "      <th>symboling</th>\n",
       "      <th>normalized-losses</th>\n",
       "      <th>wheel-base</th>\n",
       "      <th>length</th>\n",
       "      <th>width</th>\n",
       "      <th>height</th>\n",
       "      <th>curb-weight</th>\n",
       "      <th>engine-size</th>\n",
       "      <th>bore</th>\n",
       "      <th>stroke</th>\n",
       "      <th>compression-ratio</th>\n",
       "      <th>horsepower</th>\n",
       "      <th>peak-rpm</th>\n",
       "      <th>city-mpg</th>\n",
       "      <th>highway-mpg</th>\n",
       "      <th>price</th>\n",
       "    </tr>\n",
       "  </thead>\n",
       "  <tbody>\n",
       "    <tr>\n",
       "      <th>count</th>\n",
       "      <td>204.000000</td>\n",
       "      <td>164.000000</td>\n",
       "      <td>204.000000</td>\n",
       "      <td>204.000000</td>\n",
       "      <td>204.000000</td>\n",
       "      <td>204.000000</td>\n",
       "      <td>204.000000</td>\n",
       "      <td>204.000000</td>\n",
       "      <td>200.000000</td>\n",
       "      <td>200.000000</td>\n",
       "      <td>204.000000</td>\n",
       "      <td>202.000000</td>\n",
       "      <td>202.000000</td>\n",
       "      <td>204.000000</td>\n",
       "      <td>204.000000</td>\n",
       "      <td>200.000000</td>\n",
       "    </tr>\n",
       "    <tr>\n",
       "      <th>mean</th>\n",
       "      <td>0.823529</td>\n",
       "      <td>122.000000</td>\n",
       "      <td>98.806373</td>\n",
       "      <td>174.075000</td>\n",
       "      <td>65.916667</td>\n",
       "      <td>53.749020</td>\n",
       "      <td>2555.602941</td>\n",
       "      <td>126.892157</td>\n",
       "      <td>3.329050</td>\n",
       "      <td>3.258300</td>\n",
       "      <td>10.148137</td>\n",
       "      <td>104.222772</td>\n",
       "      <td>5125.990099</td>\n",
       "      <td>25.240196</td>\n",
       "      <td>30.769608</td>\n",
       "      <td>13205.690000</td>\n",
       "    </tr>\n",
       "    <tr>\n",
       "      <th>std</th>\n",
       "      <td>1.239035</td>\n",
       "      <td>35.442168</td>\n",
       "      <td>5.994144</td>\n",
       "      <td>12.362123</td>\n",
       "      <td>2.146716</td>\n",
       "      <td>2.424901</td>\n",
       "      <td>521.960820</td>\n",
       "      <td>41.744569</td>\n",
       "      <td>0.274044</td>\n",
       "      <td>0.314868</td>\n",
       "      <td>3.981000</td>\n",
       "      <td>39.810182</td>\n",
       "      <td>480.443680</td>\n",
       "      <td>6.551513</td>\n",
       "      <td>6.898337</td>\n",
       "      <td>7966.982558</td>\n",
       "    </tr>\n",
       "    <tr>\n",
       "      <th>min</th>\n",
       "      <td>-2.000000</td>\n",
       "      <td>65.000000</td>\n",
       "      <td>86.600000</td>\n",
       "      <td>141.100000</td>\n",
       "      <td>60.300000</td>\n",
       "      <td>47.800000</td>\n",
       "      <td>1488.000000</td>\n",
       "      <td>61.000000</td>\n",
       "      <td>2.540000</td>\n",
       "      <td>2.070000</td>\n",
       "      <td>7.000000</td>\n",
       "      <td>48.000000</td>\n",
       "      <td>4150.000000</td>\n",
       "      <td>13.000000</td>\n",
       "      <td>16.000000</td>\n",
       "      <td>5118.000000</td>\n",
       "    </tr>\n",
       "    <tr>\n",
       "      <th>25%</th>\n",
       "      <td>0.000000</td>\n",
       "      <td>94.000000</td>\n",
       "      <td>94.500000</td>\n",
       "      <td>166.300000</td>\n",
       "      <td>64.075000</td>\n",
       "      <td>52.000000</td>\n",
       "      <td>2145.000000</td>\n",
       "      <td>97.000000</td>\n",
       "      <td>3.150000</td>\n",
       "      <td>3.110000</td>\n",
       "      <td>8.575000</td>\n",
       "      <td>70.000000</td>\n",
       "      <td>4800.000000</td>\n",
       "      <td>19.000000</td>\n",
       "      <td>25.000000</td>\n",
       "      <td>7775.000000</td>\n",
       "    </tr>\n",
       "    <tr>\n",
       "      <th>50%</th>\n",
       "      <td>1.000000</td>\n",
       "      <td>115.000000</td>\n",
       "      <td>97.000000</td>\n",
       "      <td>173.200000</td>\n",
       "      <td>65.500000</td>\n",
       "      <td>54.100000</td>\n",
       "      <td>2414.000000</td>\n",
       "      <td>119.500000</td>\n",
       "      <td>3.310000</td>\n",
       "      <td>3.290000</td>\n",
       "      <td>9.000000</td>\n",
       "      <td>95.000000</td>\n",
       "      <td>5200.000000</td>\n",
       "      <td>24.000000</td>\n",
       "      <td>30.000000</td>\n",
       "      <td>10270.000000</td>\n",
       "    </tr>\n",
       "    <tr>\n",
       "      <th>75%</th>\n",
       "      <td>2.000000</td>\n",
       "      <td>150.000000</td>\n",
       "      <td>102.400000</td>\n",
       "      <td>183.200000</td>\n",
       "      <td>66.900000</td>\n",
       "      <td>55.500000</td>\n",
       "      <td>2939.250000</td>\n",
       "      <td>142.000000</td>\n",
       "      <td>3.590000</td>\n",
       "      <td>3.410000</td>\n",
       "      <td>9.400000</td>\n",
       "      <td>116.000000</td>\n",
       "      <td>5500.000000</td>\n",
       "      <td>30.000000</td>\n",
       "      <td>34.500000</td>\n",
       "      <td>16500.750000</td>\n",
       "    </tr>\n",
       "    <tr>\n",
       "      <th>max</th>\n",
       "      <td>3.000000</td>\n",
       "      <td>256.000000</td>\n",
       "      <td>120.900000</td>\n",
       "      <td>208.100000</td>\n",
       "      <td>72.300000</td>\n",
       "      <td>59.800000</td>\n",
       "      <td>4066.000000</td>\n",
       "      <td>326.000000</td>\n",
       "      <td>3.940000</td>\n",
       "      <td>4.170000</td>\n",
       "      <td>23.000000</td>\n",
       "      <td>288.000000</td>\n",
       "      <td>6600.000000</td>\n",
       "      <td>49.000000</td>\n",
       "      <td>54.000000</td>\n",
       "      <td>45400.000000</td>\n",
       "    </tr>\n",
       "  </tbody>\n",
       "</table>\n",
       "</div>"
      ],
      "text/plain": [
       "        symboling  normalized-losses  wheel-base      length       width  \\\n",
       "count  204.000000         164.000000  204.000000  204.000000  204.000000   \n",
       "mean     0.823529         122.000000   98.806373  174.075000   65.916667   \n",
       "std      1.239035          35.442168    5.994144   12.362123    2.146716   \n",
       "min     -2.000000          65.000000   86.600000  141.100000   60.300000   \n",
       "25%      0.000000          94.000000   94.500000  166.300000   64.075000   \n",
       "50%      1.000000         115.000000   97.000000  173.200000   65.500000   \n",
       "75%      2.000000         150.000000  102.400000  183.200000   66.900000   \n",
       "max      3.000000         256.000000  120.900000  208.100000   72.300000   \n",
       "\n",
       "           height  curb-weight  engine-size        bore      stroke  \\\n",
       "count  204.000000   204.000000   204.000000  200.000000  200.000000   \n",
       "mean    53.749020  2555.602941   126.892157    3.329050    3.258300   \n",
       "std      2.424901   521.960820    41.744569    0.274044    0.314868   \n",
       "min     47.800000  1488.000000    61.000000    2.540000    2.070000   \n",
       "25%     52.000000  2145.000000    97.000000    3.150000    3.110000   \n",
       "50%     54.100000  2414.000000   119.500000    3.310000    3.290000   \n",
       "75%     55.500000  2939.250000   142.000000    3.590000    3.410000   \n",
       "max     59.800000  4066.000000   326.000000    3.940000    4.170000   \n",
       "\n",
       "       compression-ratio  horsepower     peak-rpm    city-mpg  highway-mpg  \\\n",
       "count         204.000000  202.000000   202.000000  204.000000   204.000000   \n",
       "mean           10.148137  104.222772  5125.990099   25.240196    30.769608   \n",
       "std             3.981000   39.810182   480.443680    6.551513     6.898337   \n",
       "min             7.000000   48.000000  4150.000000   13.000000    16.000000   \n",
       "25%             8.575000   70.000000  4800.000000   19.000000    25.000000   \n",
       "50%             9.000000   95.000000  5200.000000   24.000000    30.000000   \n",
       "75%             9.400000  116.000000  5500.000000   30.000000    34.500000   \n",
       "max            23.000000  288.000000  6600.000000   49.000000    54.000000   \n",
       "\n",
       "              price  \n",
       "count    200.000000  \n",
       "mean   13205.690000  \n",
       "std     7966.982558  \n",
       "min     5118.000000  \n",
       "25%     7775.000000  \n",
       "50%    10270.000000  \n",
       "75%    16500.750000  \n",
       "max    45400.000000  "
      ]
     },
     "execution_count": 20,
     "metadata": {},
     "output_type": "execute_result"
    }
   ],
   "source": [
    "df.describe()"
   ]
  },
  {
   "cell_type": "markdown",
   "id": "4477e434",
   "metadata": {},
   "source": [
    "## Now we can deal with missing datas"
   ]
  },
  {
   "cell_type": "code",
   "execution_count": 21,
   "id": "6c8b7dab",
   "metadata": {},
   "outputs": [
    {
     "data": {
      "text/plain": [
       "symboling             0\n",
       "normalized-losses    40\n",
       "make                  0\n",
       "fuel-type             0\n",
       "aspiration            0\n",
       "num-of-doors          2\n",
       "body-style            0\n",
       "drive-wheels          0\n",
       "engine-location       0\n",
       "wheel-base            0\n",
       "length                0\n",
       "width                 0\n",
       "height                0\n",
       "curb-weight           0\n",
       "engine-type           0\n",
       "num-of-cylinders      0\n",
       "engine-size           0\n",
       "fuel-system           0\n",
       "bore                  4\n",
       "stroke                4\n",
       "compression-ratio     0\n",
       "horsepower            2\n",
       "peak-rpm              2\n",
       "city-mpg              0\n",
       "highway-mpg           0\n",
       "price                 4\n",
       "dtype: int64"
      ]
     },
     "execution_count": 21,
     "metadata": {},
     "output_type": "execute_result"
    }
   ],
   "source": [
    "df.isnull().sum()"
   ]
  },
  {
   "cell_type": "markdown",
   "id": "a66829d1",
   "metadata": {},
   "source": [
    "Results: After conversion of the invalid data into the null datam, it's more flexible to deal with null values. The columns containing null values are normalized-losses, num-of-doors, bore, stroke, horsepower, peak-rpm, and price. Among them normalized-losses contains maximum number of missing data."
   ]
  },
  {
   "cell_type": "markdown",
   "id": "5903852d",
   "metadata": {},
   "source": [
    "## Univariate Analysis"
   ]
  },
  {
   "cell_type": "code",
   "execution_count": 22,
   "id": "fe1cd6ff",
   "metadata": {},
   "outputs": [
    {
     "data": {
      "text/plain": [
       "<AxesSubplot:xlabel='normalized-losses'>"
      ]
     },
     "execution_count": 22,
     "metadata": {},
     "output_type": "execute_result"
    },
    {
     "data": {
      "image/png": "[encoded data removed]",
      "text/plain": [
       "<Figure size 1080x504 with 2 Axes>"
      ]
     },
     "metadata": {
      "needs_background": "light"
     },
     "output_type": "display_data"
    }
   ],
   "source": [
    "# Creating plot\n",
    "fig, axes = plt.subplots(1,2,figsize=(15,7))\n",
    "sns.histplot(df['normalized-losses'], kde=True, bins=6,thresh=None,ax= axes[0])\n",
    "sns.boxplot(data=df, x=\"normalized-losses\",ax=axes[1])"
   ]
  },
  {
   "cell_type": "markdown",
   "id": "0ab84b29",
   "metadata": {},
   "source": [
    "#### Conclusion: As we can see outliers in normalized-losses, its better to replace the missing values with the median than mean; since, outliers affects more on mean."
   ]
  },
  {
   "cell_type": "code",
   "execution_count": 23,
   "id": "5767401f",
   "metadata": {},
   "outputs": [],
   "source": [
    "med = df['normalized-losses'].median()\n",
    "df['normalized-losses'].replace(np.nan, med, inplace = True)"
   ]
  },
  {
   "cell_type": "code",
   "execution_count": 24,
   "id": "c73fb789",
   "metadata": {},
   "outputs": [
    {
     "data": {
      "text/plain": [
       "<AxesSubplot:xlabel='normalized-losses'>"
      ]
     },
     "execution_count": 24,
     "metadata": {},
     "output_type": "execute_result"
    },
    {
     "data": {
      "image/png": "[encoded data removed]",
      "text/plain": [
       "<Figure size 1080x504 with 2 Axes>"
      ]
     },
     "metadata": {
      "needs_background": "light"
     },
     "output_type": "display_data"
    }
   ],
   "source": [
    "# Creating plot\n",
    "fig, axes = plt.subplots(1,2,figsize=(15,7))\n",
    "sns.histplot(df['normalized-losses'], kde=True, bins=6,thresh=None,ax= axes[0])\n",
    "sns.boxplot(data=df, x=\"normalized-losses\",ax=axes[1])"
   ]
  },
  {
   "cell_type": "code",
   "execution_count": 25,
   "id": "e293892d",
   "metadata": {},
   "outputs": [
    {
     "data": {
      "image/png": "[encoded data removed]",
      "text/plain": [
       "<Figure size 1080x504 with 4 Axes>"
      ]
     },
     "metadata": {
      "needs_background": "light"
     },
     "output_type": "display_data"
    }
   ],
   "source": [
    "fig, axes = plt.subplots(2,2,figsize=(15,7))\n",
    "sns.histplot(df['bore'], kde=True, thresh=None,bins=6,ax= axes[0][0])\n",
    "sns.boxplot(data=df, x=\"bore\",ax=axes[0][1])\n",
    "\n",
    "sns.histplot(df['stroke'], kde=True, thresh=None,bins=6,ax= axes[1][0])\n",
    "sns.boxplot(data=df, x=\"stroke\",ax=axes[1][1])\n",
    "\n",
    "fig.tight_layout()\n",
    "plt.show()"
   ]
  },
  {
   "cell_type": "code",
   "execution_count": 26,
   "id": "05563e50",
   "metadata": {},
   "outputs": [
    {
     "data": {
      "image/png": "[encoded data removed]",
      "text/plain": [
       "<Figure size 648x648 with 4 Axes>"
      ]
     },
     "metadata": {
      "needs_background": "light"
     },
     "output_type": "display_data"
    }
   ],
   "source": [
    "fig, axes = plt.subplots(2,2,figsize=(9,9))\n",
    "sns.histplot(df['horsepower'], kde=True, thresh=None,bins=6,ax= axes[0][0])\n",
    "sns.boxplot(data=df, x=\"horsepower\",ax=axes[0][1])\n",
    "\n",
    "sns.histplot(df['peak-rpm'], kde=True, thresh=None,bins=6,ax= axes[1][0])\n",
    "sns.boxplot(data=df, x=\"peak-rpm\",ax=axes[1][1])\n",
    "\n",
    "fig.tight_layout()\n",
    "plt.show()"
   ]
  },
  {
   "cell_type": "code",
   "execution_count": 27,
   "id": "a71b1f07",
   "metadata": {},
   "outputs": [
    {
     "data": {
      "text/plain": [
       "<AxesSubplot:xlabel='price'>"
      ]
     },
     "execution_count": 27,
     "metadata": {},
     "output_type": "execute_result"
    },
    {
     "data": {
      "image/png": "[encoded data removed]",
      "text/plain": [
       "<Figure size 1080x504 with 2 Axes>"
      ]
     },
     "metadata": {
      "needs_background": "light"
     },
     "output_type": "display_data"
    }
   ],
   "source": [
    "fig, axes = plt.subplots(1,2,figsize=(15,7))\n",
    "sns.histplot(df['price'], kde=True, thresh=None,bins=6,ax= axes[0])\n",
    "sns.boxplot(data=df, x=\"price\",ax=axes[1])"
   ]
  },
  {
   "cell_type": "code",
   "execution_count": 28,
   "id": "75b2ccb6",
   "metadata": {},
   "outputs": [
    {
     "data": {
      "text/plain": [
       "<AxesSubplot:xlabel='symboling'>"
      ]
     },
     "execution_count": 28,
     "metadata": {},
     "output_type": "execute_result"
    },
    {
     "data": {
      "image/png": "[encoded data removed]",
      "text/plain": [
       "<Figure size 1080x504 with 2 Axes>"
      ]
     },
     "metadata": {
      "needs_background": "light"
     },
     "output_type": "display_data"
    }
   ],
   "source": [
    "fig, axes = plt.subplots(1,2,figsize=(15,7))\n",
    "sns.histplot(df['symboling'], kde=True, thresh=None,bins=6,ax= axes[0])\n",
    "sns.boxplot(data=df, x=\"symboling\",ax=axes[1])"
   ]
  },
  {
   "cell_type": "code",
   "execution_count": 29,
   "id": "f0494f82",
   "metadata": {},
   "outputs": [
    {
     "data": {
      "image/png": "[encoded data removed]",
      "text/plain": [
       "<Figure size 648x648 with 4 Axes>"
      ]
     },
     "metadata": {
      "needs_background": "light"
     },
     "output_type": "display_data"
    }
   ],
   "source": [
    "fig, axes = plt.subplots(2,2,figsize=(9,9))\n",
    "sns.histplot(df['wheel-base'], kde=True, thresh=None,bins=6,ax= axes[0][0])\n",
    "sns.boxplot(data=df, x=\"wheel-base\",ax=axes[0][1])\n",
    "\n",
    "sns.histplot(df['curb-weight'], kde=True, thresh=None,bins=6,ax= axes[1][0])\n",
    "sns.boxplot(data=df, x=\"curb-weight\",ax=axes[1][1])\n",
    "\n",
    "fig.tight_layout()\n",
    "plt.show()"
   ]
  },
  {
   "cell_type": "code",
   "execution_count": 30,
   "id": "fd6c8624",
   "metadata": {},
   "outputs": [
    {
     "data": {
      "image/png": "[encoded data removed]",
      "text/plain": [
       "<Figure size 648x648 with 6 Axes>"
      ]
     },
     "metadata": {
      "needs_background": "light"
     },
     "output_type": "display_data"
    }
   ],
   "source": [
    "fig, axes = plt.subplots(3,2,figsize=(9,9))\n",
    "sns.histplot(df['length'], kde=True, thresh=None,bins=6,ax= axes[0][0])\n",
    "sns.boxplot(data=df, x=\"length\",ax=axes[0][1])\n",
    "\n",
    "sns.histplot(df['width'], kde=True, thresh=None,bins=6,ax= axes[1][0])\n",
    "sns.boxplot(data=df, x=\"width\",ax=axes[1][1])\n",
    "\n",
    "sns.histplot(df['height'], kde=True, thresh=None,bins=6,ax= axes[2][0])\n",
    "sns.boxplot(data=df, x=\"height\",ax=axes[2][1])\n",
    "\n",
    "fig.tight_layout()\n",
    "plt.show()"
   ]
  },
  {
   "cell_type": "code",
   "execution_count": 31,
   "id": "227cff90",
   "metadata": {},
   "outputs": [
    {
     "data": {
      "image/png": "[encoded data removed]",
      "text/plain": [
       "<Figure size 648x648 with 4 Axes>"
      ]
     },
     "metadata": {
      "needs_background": "light"
     },
     "output_type": "display_data"
    }
   ],
   "source": [
    "fig, axes = plt.subplots(2,2,figsize=(9,9))\n",
    "sns.histplot(df['engine-size'], kde=True, thresh=None,bins=6,ax= axes[0][0])\n",
    "sns.boxplot(data=df, x=\"engine-size\",ax=axes[0][1])\n",
    "\n",
    "sns.histplot(df['compression-ratio'], kde=True, thresh=None,bins=6,ax= axes[1][0])\n",
    "sns.boxplot(data=df, x=\"compression-ratio\",ax=axes[1][1])\n",
    "\n",
    "fig.tight_layout()\n",
    "plt.show()"
   ]
  },
  {
   "cell_type": "code",
   "execution_count": 32,
   "id": "abdfa743",
   "metadata": {},
   "outputs": [
    {
     "data": {
      "image/png": "[encoded data removed]",
      "text/plain": [
       "<Figure size 648x648 with 4 Axes>"
      ]
     },
     "metadata": {
      "needs_background": "light"
     },
     "output_type": "display_data"
    }
   ],
   "source": [
    "fig, axes = plt.subplots(2,2,figsize=(9,9))\n",
    "sns.histplot(df['city-mpg'], kde=True, thresh=None,bins=6,ax= axes[0][0])\n",
    "sns.boxplot(data=df, x=\"city-mpg\",ax=axes[0][1])\n",
    "\n",
    "sns.histplot(df['highway-mpg'], kde=True, thresh=None,bins=6,ax= axes[1][0])\n",
    "sns.boxplot(data=df, x=\"highway-mpg\",ax=axes[1][1])\n",
    "\n",
    "fig.tight_layout()\n",
    "plt.show()"
   ]
  },
  {
   "cell_type": "markdown",
   "id": "cbac377e",
   "metadata": {},
   "source": [
    "### Categorical Data"
   ]
  },
  {
   "cell_type": "code",
   "execution_count": 33,
   "id": "8bbed5dd",
   "metadata": {},
   "outputs": [
    {
     "data": {
      "text/plain": [
       "<AxesSubplot:title={'center':'Numer of Vehicles by make'}>"
      ]
     },
     "execution_count": 33,
     "metadata": {},
     "output_type": "execute_result"
    },
    {
     "data": {
      "image/png": "[encoded data removed]",
      "text/plain": [
       "<Figure size 720x432 with 1 Axes>"
      ]
     },
     "metadata": {
      "needs_background": "light"
     },
     "output_type": "display_data"
    }
   ],
   "source": [
    "plt.figure(figsize=(10, 6))\n",
    "df['make'].value_counts().plot.bar(title = \"Numer of Vehicles by make\") #categorical"
   ]
  },
  {
   "cell_type": "code",
   "execution_count": 34,
   "id": "da229b35",
   "metadata": {},
   "outputs": [
    {
     "data": {
      "image/png": "[encoded data removed]",
      "text/plain": [
       "<Figure size 648x648 with 4 Axes>"
      ]
     },
     "metadata": {
      "needs_background": "light"
     },
     "output_type": "display_data"
    }
   ],
   "source": [
    "fig, (ax1, ax2) = plt.subplots(nrows=2,ncols=2, figsize=(9, 9))\n",
    "\n",
    "df['drive-wheels'].value_counts().plot.bar(ax=ax1[0],title = \"Numer of Vehicles by Drive Wheels\") #categorical\n",
    "\n",
    "df['num-of-doors'].value_counts().plot.bar(ax=ax1[1],title = \"Number of Doors\") #categorical\n",
    "\n",
    "\n",
    "df['body-style'].value_counts().plot.bar(ax=ax2[0],title = \"Numer of Vehicles by Body Style\") #categorical\n",
    "\n",
    "df['num-of-cylinders'].value_counts().plot.bar(title = \"Number of vehicles by Cylinders\") #categocial\n",
    "\n",
    "fig.tight_layout()\n",
    "plt.show()"
   ]
  },
  {
   "cell_type": "code",
   "execution_count": 35,
   "id": "4ec39854",
   "metadata": {},
   "outputs": [
    {
     "data": {
      "text/plain": [
       "<AxesSubplot:title={'center':'Numer of Vehicles by Fuel System'}>"
      ]
     },
     "execution_count": 35,
     "metadata": {},
     "output_type": "execute_result"
    },
    {
     "data": {
      "image/png": "[encoded data removed]",
      "text/plain": [
       "<Figure size 1080x432 with 2 Axes>"
      ]
     },
     "metadata": {
      "needs_background": "light"
     },
     "output_type": "display_data"
    }
   ],
   "source": [
    "fig, (ax1, ax2) = plt.subplots(nrows=1,ncols=2, figsize=(15, 6))\n",
    "df['fuel-type'].value_counts().plot.bar(ax=ax1,title = \"Numer of Vehicles by Fuel Type\") #categorical\n",
    "df['fuel-system'].value_counts().plot.bar(ax=ax2, title = \"Numer of Vehicles by Fuel System\") #categorica;"
   ]
  },
  {
   "cell_type": "code",
   "execution_count": 36,
   "id": "05e683da",
   "metadata": {},
   "outputs": [
    {
     "data": {
      "image/png": "[encoded data removed]",
      "text/plain": [
       "<Figure size 1080x432 with 2 Axes>"
      ]
     },
     "metadata": {
      "needs_background": "light"
     },
     "output_type": "display_data"
    }
   ],
   "source": [
    "fig, (ax1, ax2) = plt.subplots(nrows=1,ncols=2, figsize=(15, 6))\n",
    "df['engine-type'].value_counts().plot.bar(ax=ax1, title = \"Numer of Vehicles by Engine Type\") #categorical\n",
    "df['engine-location'].value_counts().plot.bar(ax=ax2,title = \"Number of vehicles by Engine Location\") #categorical\n",
    "plt.show()"
   ]
  },
  {
   "cell_type": "code",
   "execution_count": 37,
   "id": "73532674",
   "metadata": {},
   "outputs": [
    {
     "data": {
      "text/plain": [
       "<AxesSubplot:>"
      ]
     },
     "execution_count": 37,
     "metadata": {},
     "output_type": "execute_result"
    },
    {
     "data": {
      "image/png": "[encoded data removed]",
      "text/plain": [
       "<Figure size 1080x504 with 2 Axes>"
      ]
     },
     "metadata": {
      "needs_background": "light"
     },
     "output_type": "display_data"
    }
   ],
   "source": [
    "corr = df.corr()\n",
    "sns.set_context(\"notebook\", font_scale=1.0, rc={\"lines.linewidth\": 2.5})\n",
    "plt.figure(figsize=(15,7))\n",
    "sns.heatmap(corr, annot=True)"
   ]
  },
  {
   "cell_type": "markdown",
   "id": "73a25523",
   "metadata": {},
   "source": [
    "### Findings\n",
    "\n",
    "\n",
    "<li>1. Symboling and Normalized losses are correlated compare to others.</li>\n",
    "<li>2. Wheels base correlated with length, width, and curb-weight </li>\n",
    "<li>3. Price More correlated with engine size and curb-weight than others </li>"
   ]
  },
  {
   "cell_type": "markdown",
   "id": "5d6bd1b3",
   "metadata": {},
   "source": [
    "## Bivariate Analysis"
   ]
  },
  {
   "cell_type": "code",
   "execution_count": 38,
   "id": "7bc9242c",
   "metadata": {},
   "outputs": [
    {
     "data": {
      "image/png": "[encoded data removed]",
      "text/plain": [
       "<Figure size 360x360 with 1 Axes>"
      ]
     },
     "metadata": {
      "needs_background": "light"
     },
     "output_type": "display_data"
    }
   ],
   "source": [
    "sns.lmplot(x = 'price', y = 'engine-size',data = df);"
   ]
  },
  {
   "cell_type": "code",
   "execution_count": 39,
   "id": "191ab1c2",
   "metadata": {},
   "outputs": [
    {
     "data": {
      "image/png": "[encoded data removed]",
      "text/plain": [
       "<Figure size 360x360 with 1 Axes>"
      ]
     },
     "metadata": {
      "needs_background": "light"
     },
     "output_type": "display_data"
    }
   ],
   "source": [
    "sns.lmplot(x = 'normalized-losses', y = 'symboling',data = df);"
   ]
  },
  {
   "cell_type": "markdown",
   "id": "691ce6f5",
   "metadata": {},
   "source": [
    "## 3) Data Preparation & Feature Engineering"
   ]
  },
  {
   "cell_type": "markdown",
   "id": "111a351d",
   "metadata": {},
   "source": [
    "### 2. Consider the number-of-doors and price variables"
   ]
  },
  {
   "cell_type": "code",
   "execution_count": 40,
   "id": "279b292b",
   "metadata": {},
   "outputs": [
    {
     "name": "stdout",
     "output_type": "stream",
     "text": [
      "There are 2 missing data for number of doors\n",
      "There are 4 missing data for price\n"
     ]
    }
   ],
   "source": [
    "print(\"There are\",df['num-of-doors'].isnull().sum(),'missing data for number of doors')\n",
    "print(\"There are\",df['price'].isnull().sum(),'missing data for price')"
   ]
  },
  {
   "cell_type": "markdown",
   "id": "b4053eef",
   "metadata": {},
   "source": [
    "### Since there are very few missing data for the price and number of doors which is less than 2%, replacing the missing data with mean or median for price and mode for number of doors"
   ]
  },
  {
   "cell_type": "code",
   "execution_count": 41,
   "id": "18d13ddc",
   "metadata": {},
   "outputs": [
    {
     "name": "stdout",
     "output_type": "stream",
     "text": [
      "four\n",
      "0\n"
     ]
    }
   ],
   "source": [
    "doorMode = df['num-of-doors'].mode()[0]\n",
    "print(doorMode)\n",
    "df['num-of-doors'] = df['num-of-doors'].replace(np.nan,doorMode,inplace=False) \n",
    "df['price'].replace(np.nan,df['price'].median(),inplace=True)\n",
    "print(df['num-of-doors'].isnull().sum())"
   ]
  },
  {
   "cell_type": "code",
   "execution_count": 42,
   "id": "28aff510",
   "metadata": {},
   "outputs": [
    {
     "data": {
      "text/plain": [
       "<AxesSubplot:xlabel='price'>"
      ]
     },
     "execution_count": 42,
     "metadata": {},
     "output_type": "execute_result"
    },
    {
     "data": {
      "image/png": "[encoded data removed]",
      "text/plain": [
       "<Figure size 1080x504 with 2 Axes>"
      ]
     },
     "metadata": {
      "needs_background": "light"
     },
     "output_type": "display_data"
    }
   ],
   "source": [
    "fig, axes = plt.subplots(1,2,figsize=(15,7))\n",
    "sns.histplot(df['price'], kde=True, thresh=None,bins=6,ax= axes[0])\n",
    "sns.boxplot(data=df, x=\"price\",ax=axes[1])"
   ]
  },
  {
   "cell_type": "code",
   "execution_count": 43,
   "id": "0e8b4c4f",
   "metadata": {},
   "outputs": [
    {
     "data": {
      "text/plain": [
       "<AxesSubplot:title={'center':'Number of Doors'}>"
      ]
     },
     "execution_count": 43,
     "metadata": {},
     "output_type": "execute_result"
    },
    {
     "data": {
      "image/png": "[encoded data removed]",
      "text/plain": [
       "<Figure size 432x288 with 1 Axes>"
      ]
     },
     "metadata": {
      "needs_background": "light"
     },
     "output_type": "display_data"
    }
   ],
   "source": [
    "df['num-of-doors'].value_counts().plot.bar(title = \"Number of Doors\")"
   ]
  },
  {
   "cell_type": "markdown",
   "id": "aab5c0f0",
   "metadata": {},
   "source": [
    "### 3. Consider the engine-size and stroke variables\n",
    "\n",
    "#### Before implementing of scaling methods, checking of outliers is necessary."
   ]
  },
  {
   "cell_type": "code",
   "execution_count": 44,
   "id": "3623db97",
   "metadata": {},
   "outputs": [
    {
     "data": {
      "text/plain": [
       "<AxesSubplot:xlabel='engine-size'>"
      ]
     },
     "execution_count": 44,
     "metadata": {},
     "output_type": "execute_result"
    },
    {
     "data": {
      "image/png": "[encoded data removed]",
      "text/plain": [
       "<Figure size 864x288 with 2 Axes>"
      ]
     },
     "metadata": {
      "needs_background": "light"
     },
     "output_type": "display_data"
    }
   ],
   "source": [
    "fig, axes = plt.subplots(1,2,figsize=(12,4))\n",
    "sns.histplot(df['engine-size'], kde=True, thresh=None,bins=6,ax= axes[0])\n",
    "sns.boxplot(data=df, x=\"engine-size\",ax=axes[1])"
   ]
  },
  {
   "cell_type": "code",
   "execution_count": 45,
   "id": "49147730",
   "metadata": {},
   "outputs": [
    {
     "data": {
      "text/plain": [
       "<AxesSubplot:xlabel='stroke'>"
      ]
     },
     "execution_count": 45,
     "metadata": {},
     "output_type": "execute_result"
    },
    {
     "data": {
      "image/png": "[encoded data removed]",
      "text/plain": [
       "<Figure size 864x288 with 2 Axes>"
      ]
     },
     "metadata": {
      "needs_background": "light"
     },
     "output_type": "display_data"
    }
   ],
   "source": [
    "fig, axes = plt.subplots(1,2,figsize=(12,4))\n",
    "sns.histplot(df['stroke'], kde=True, thresh=None,bins=6,ax= axes[0])\n",
    "sns.boxplot(data=df, x=\"stroke\",ax=axes[1])"
   ]
  },
  {
   "cell_type": "markdown",
   "id": "437c16b5",
   "metadata": {},
   "source": [
    "### Both of the variable shows a non-normal distribution therefore standardization should not be used."
   ]
  },
  {
   "cell_type": "code",
   "execution_count": 46,
   "id": "563bb047",
   "metadata": {},
   "outputs": [],
   "source": [
    "engSize = df['engine-size'].to_numpy()\n",
    "scaler = MinMaxScaler()\n",
    "engTrans = scaler.fit_transform(engSize.reshape(-1,1))"
   ]
  },
  {
   "cell_type": "markdown",
   "id": "4ded8572",
   "metadata": {},
   "source": [
    "#### MinMaxScaler  rescales the range of features to scale the range in 0 to 1."
   ]
  },
  {
   "cell_type": "code",
   "execution_count": 47,
   "id": "a9b9135b",
   "metadata": {},
   "outputs": [
    {
     "data": {
      "text/plain": [
       "count    204.000000\n",
       "mean       0.248650\n",
       "std        0.157527\n",
       "min        0.000000\n",
       "25%        0.135849\n",
       "50%        0.220755\n",
       "75%        0.305660\n",
       "max        1.000000\n",
       "Name: engine-size, dtype: float64"
      ]
     },
     "execution_count": 47,
     "metadata": {},
     "output_type": "execute_result"
    }
   ],
   "source": [
    "df['engine-size'] = engTrans.flatten()\n",
    "df.describe()['engine-size']"
   ]
  },
  {
   "cell_type": "markdown",
   "id": "e6c23ac6",
   "metadata": {},
   "source": [
    "#### Replotting after scaling"
   ]
  },
  {
   "cell_type": "code",
   "execution_count": 48,
   "id": "261117bb",
   "metadata": {},
   "outputs": [
    {
     "data": {
      "text/plain": [
       "<AxesSubplot:xlabel='engine-size'>"
      ]
     },
     "execution_count": 48,
     "metadata": {},
     "output_type": "execute_result"
    },
    {
     "data": {
      "image/png": "[encoded data removed]",
      "text/plain": [
       "<Figure size 864x288 with 2 Axes>"
      ]
     },
     "metadata": {
      "needs_background": "light"
     },
     "output_type": "display_data"
    }
   ],
   "source": [
    "fig, axes = plt.subplots(1,2,figsize=(12,4))\n",
    "sns.histplot(df['engine-size'], kde=True, thresh=None,bins=6,ax= axes[0])\n",
    "sns.boxplot(data=df, x=\"engine-size\",ax=axes[1])"
   ]
  },
  {
   "cell_type": "markdown",
   "id": "8ec81941",
   "metadata": {},
   "source": [
    "#### Conclusion: The use of MinMaxScaler have preserved the shape of original distribution. It was selected for this variable because of the variable shows non-normal distribution. However, this scaler don't seem to reduced the importance of the outliers."
   ]
  },
  {
   "cell_type": "markdown",
   "id": "4af1cdb3",
   "metadata": {},
   "source": [
    "#### Since MinMaxScaler don't work on outliers, Robust Scaler is used for the stroke variable. Standardization of a dataset is a common requirement for many machine learning estimators. Typically this is done by removing the mean and scaling to unit variance. However, outliers can often influence the sample mean / variance in a negative way. In such cases, the median and the interquartile range often give better results."
   ]
  },
  {
   "cell_type": "code",
   "execution_count": 49,
   "id": "2ead080e",
   "metadata": {},
   "outputs": [],
   "source": [
    "stroke = df['stroke'].to_numpy()\n",
    "scaler = RobustScaler()\n",
    "strokeTrans = scaler.fit_transform(stroke.reshape(-1,1))"
   ]
  },
  {
   "cell_type": "code",
   "execution_count": 50,
   "id": "47002bde",
   "metadata": {
    "scrolled": true
   },
   "outputs": [
    {
     "data": {
      "text/plain": [
       "count    200.000000\n",
       "mean      -0.105667\n",
       "std        1.049560\n",
       "min       -4.066667\n",
       "25%       -0.600000\n",
       "50%        0.000000\n",
       "75%        0.400000\n",
       "max        2.933333\n",
       "Name: stroke, dtype: float64"
      ]
     },
     "execution_count": 50,
     "metadata": {},
     "output_type": "execute_result"
    }
   ],
   "source": [
    "df['stroke'] = strokeTrans.flatten()\n",
    "df.describe()['stroke']"
   ]
  },
  {
   "cell_type": "code",
   "execution_count": 51,
   "id": "68cbf153",
   "metadata": {},
   "outputs": [
    {
     "data": {
      "text/plain": [
       "<AxesSubplot:xlabel='stroke'>"
      ]
     },
     "execution_count": 51,
     "metadata": {},
     "output_type": "execute_result"
    },
    {
     "data": {
      "image/png": "[encoded data removed]",
      "text/plain": [
       "<Figure size 864x288 with 2 Axes>"
      ]
     },
     "metadata": {
      "needs_background": "light"
     },
     "output_type": "display_data"
    }
   ],
   "source": [
    "fig, axes = plt.subplots(1,2,figsize=(12,4))\n",
    "sns.histplot(df['stroke'], kde=True, thresh=None,bins=6,ax= axes[0])\n",
    "sns.boxplot(data=df, x=\"stroke\",ax=axes[1])"
   ]
  },
  {
   "cell_type": "markdown",
   "id": "ae1a5f75",
   "metadata": {},
   "source": [
    "#### Robust Scalar does not seem to be effective for this case because there is not any improvement in the outliers."
   ]
  },
  {
   "cell_type": "markdown",
   "id": "f39c33a3",
   "metadata": {},
   "source": [
    "## 4. Consider the symboling, make, and engine-type variables\n",
    "\n",
    "symboling: It is ordinal/categorical. Distribution from -3 to +3, +3 is risky, -3 is safe\n",
    "\n",
    "make: It is nominal/Categorical data. Vehicle brands\n",
    "\n",
    "engine-type: It is nominal/Categorical data. Engine type."
   ]
  },
  {
   "cell_type": "markdown",
   "id": "e5f5c8f6",
   "metadata": {},
   "source": [
    "### 4.2/4.3"
   ]
  },
  {
   "cell_type": "markdown",
   "id": "b06e149d",
   "metadata": {},
   "source": [
    "Pandas provides one-hot encoding function pandas.get_dummies for categorical data, we can use this function to encode three categorical variables"
   ]
  },
  {
   "cell_type": "code",
   "execution_count": 52,
   "id": "87f51655",
   "metadata": {},
   "outputs": [
    {
     "data": {
      "text/html": [
       "<div>\n",
       "<style scoped>\n",
       "    .dataframe tbody tr th:only-of-type {\n",
       "        vertical-align: middle;\n",
       "    }\n",
       "\n",
       "    .dataframe tbody tr th {\n",
       "        vertical-align: top;\n",
       "    }\n",
       "\n",
       "    .dataframe thead th {\n",
       "        text-align: right;\n",
       "    }\n",
       "</style>\n",
       "<table border=\"1\" class=\"dataframe\">\n",
       "  <thead>\n",
       "    <tr style=\"text-align: right;\">\n",
       "      <th></th>\n",
       "      <th>sym_-2</th>\n",
       "      <th>sym_-1</th>\n",
       "      <th>sym_0</th>\n",
       "      <th>sym_1</th>\n",
       "      <th>sym_2</th>\n",
       "      <th>sym_3</th>\n",
       "    </tr>\n",
       "  </thead>\n",
       "  <tbody>\n",
       "    <tr>\n",
       "      <th>0</th>\n",
       "      <td>0</td>\n",
       "      <td>0</td>\n",
       "      <td>0</td>\n",
       "      <td>0</td>\n",
       "      <td>0</td>\n",
       "      <td>1</td>\n",
       "    </tr>\n",
       "    <tr>\n",
       "      <th>1</th>\n",
       "      <td>0</td>\n",
       "      <td>0</td>\n",
       "      <td>0</td>\n",
       "      <td>1</td>\n",
       "      <td>0</td>\n",
       "      <td>0</td>\n",
       "    </tr>\n",
       "    <tr>\n",
       "      <th>2</th>\n",
       "      <td>0</td>\n",
       "      <td>0</td>\n",
       "      <td>0</td>\n",
       "      <td>0</td>\n",
       "      <td>1</td>\n",
       "      <td>0</td>\n",
       "    </tr>\n",
       "    <tr>\n",
       "      <th>3</th>\n",
       "      <td>0</td>\n",
       "      <td>0</td>\n",
       "      <td>0</td>\n",
       "      <td>0</td>\n",
       "      <td>1</td>\n",
       "      <td>0</td>\n",
       "    </tr>\n",
       "    <tr>\n",
       "      <th>4</th>\n",
       "      <td>0</td>\n",
       "      <td>0</td>\n",
       "      <td>0</td>\n",
       "      <td>0</td>\n",
       "      <td>1</td>\n",
       "      <td>0</td>\n",
       "    </tr>\n",
       "    <tr>\n",
       "      <th>...</th>\n",
       "      <td>...</td>\n",
       "      <td>...</td>\n",
       "      <td>...</td>\n",
       "      <td>...</td>\n",
       "      <td>...</td>\n",
       "      <td>...</td>\n",
       "    </tr>\n",
       "    <tr>\n",
       "      <th>199</th>\n",
       "      <td>0</td>\n",
       "      <td>1</td>\n",
       "      <td>0</td>\n",
       "      <td>0</td>\n",
       "      <td>0</td>\n",
       "      <td>0</td>\n",
       "    </tr>\n",
       "    <tr>\n",
       "      <th>200</th>\n",
       "      <td>0</td>\n",
       "      <td>1</td>\n",
       "      <td>0</td>\n",
       "      <td>0</td>\n",
       "      <td>0</td>\n",
       "      <td>0</td>\n",
       "    </tr>\n",
       "    <tr>\n",
       "      <th>201</th>\n",
       "      <td>0</td>\n",
       "      <td>1</td>\n",
       "      <td>0</td>\n",
       "      <td>0</td>\n",
       "      <td>0</td>\n",
       "      <td>0</td>\n",
       "    </tr>\n",
       "    <tr>\n",
       "      <th>202</th>\n",
       "      <td>0</td>\n",
       "      <td>1</td>\n",
       "      <td>0</td>\n",
       "      <td>0</td>\n",
       "      <td>0</td>\n",
       "      <td>0</td>\n",
       "    </tr>\n",
       "    <tr>\n",
       "      <th>203</th>\n",
       "      <td>0</td>\n",
       "      <td>1</td>\n",
       "      <td>0</td>\n",
       "      <td>0</td>\n",
       "      <td>0</td>\n",
       "      <td>0</td>\n",
       "    </tr>\n",
       "  </tbody>\n",
       "</table>\n",
       "<p>204 rows × 6 columns</p>\n",
       "</div>"
      ],
      "text/plain": [
       "     sym_-2  sym_-1  sym_0  sym_1  sym_2  sym_3\n",
       "0         0       0      0      0      0      1\n",
       "1         0       0      0      1      0      0\n",
       "2         0       0      0      0      1      0\n",
       "3         0       0      0      0      1      0\n",
       "4         0       0      0      0      1      0\n",
       "..      ...     ...    ...    ...    ...    ...\n",
       "199       0       1      0      0      0      0\n",
       "200       0       1      0      0      0      0\n",
       "201       0       1      0      0      0      0\n",
       "202       0       1      0      0      0      0\n",
       "203       0       1      0      0      0      0\n",
       "\n",
       "[204 rows x 6 columns]"
      ]
     },
     "execution_count": 52,
     "metadata": {},
     "output_type": "execute_result"
    }
   ],
   "source": [
    "Symboling = pd.get_dummies(df['symboling'],prefix=\"sym\")\n",
    "Symboling"
   ]
  },
  {
   "cell_type": "code",
   "execution_count": 53,
   "id": "f7a4267d",
   "metadata": {},
   "outputs": [
    {
     "data": {
      "text/html": [
       "<div>\n",
       "<style scoped>\n",
       "    .dataframe tbody tr th:only-of-type {\n",
       "        vertical-align: middle;\n",
       "    }\n",
       "\n",
       "    .dataframe tbody tr th {\n",
       "        vertical-align: top;\n",
       "    }\n",
       "\n",
       "    .dataframe thead th {\n",
       "        text-align: right;\n",
       "    }\n",
       "</style>\n",
       "<table border=\"1\" class=\"dataframe\">\n",
       "  <thead>\n",
       "    <tr style=\"text-align: right;\">\n",
       "      <th></th>\n",
       "      <th>make_alfa-romero</th>\n",
       "      <th>make_audi</th>\n",
       "      <th>make_bmw</th>\n",
       "      <th>make_chevrolet</th>\n",
       "      <th>make_dodge</th>\n",
       "      <th>make_honda</th>\n",
       "      <th>make_isuzu</th>\n",
       "      <th>make_jaguar</th>\n",
       "      <th>make_mazda</th>\n",
       "      <th>make_mercedes-benz</th>\n",
       "      <th>make_mercury</th>\n",
       "      <th>make_mitsubishi</th>\n",
       "      <th>make_nissan</th>\n",
       "      <th>make_peugot</th>\n",
       "      <th>make_plymouth</th>\n",
       "      <th>make_porsche</th>\n",
       "      <th>make_renault</th>\n",
       "      <th>make_saab</th>\n",
       "      <th>make_subaru</th>\n",
       "      <th>make_toyota</th>\n",
       "      <th>make_volkswagen</th>\n",
       "      <th>make_volvo</th>\n",
       "    </tr>\n",
       "  </thead>\n",
       "  <tbody>\n",
       "    <tr>\n",
       "      <th>0</th>\n",
       "      <td>1</td>\n",
       "      <td>0</td>\n",
       "      <td>0</td>\n",
       "      <td>0</td>\n",
       "      <td>0</td>\n",
       "      <td>0</td>\n",
       "      <td>0</td>\n",
       "      <td>0</td>\n",
       "      <td>0</td>\n",
       "      <td>0</td>\n",
       "      <td>0</td>\n",
       "      <td>0</td>\n",
       "      <td>0</td>\n",
       "      <td>0</td>\n",
       "      <td>0</td>\n",
       "      <td>0</td>\n",
       "      <td>0</td>\n",
       "      <td>0</td>\n",
       "      <td>0</td>\n",
       "      <td>0</td>\n",
       "      <td>0</td>\n",
       "      <td>0</td>\n",
       "    </tr>\n",
       "    <tr>\n",
       "      <th>1</th>\n",
       "      <td>1</td>\n",
       "      <td>0</td>\n",
       "      <td>0</td>\n",
       "      <td>0</td>\n",
       "      <td>0</td>\n",
       "      <td>0</td>\n",
       "      <td>0</td>\n",
       "      <td>0</td>\n",
       "      <td>0</td>\n",
       "      <td>0</td>\n",
       "      <td>0</td>\n",
       "      <td>0</td>\n",
       "      <td>0</td>\n",
       "      <td>0</td>\n",
       "      <td>0</td>\n",
       "      <td>0</td>\n",
       "      <td>0</td>\n",
       "      <td>0</td>\n",
       "      <td>0</td>\n",
       "      <td>0</td>\n",
       "      <td>0</td>\n",
       "      <td>0</td>\n",
       "    </tr>\n",
       "    <tr>\n",
       "      <th>2</th>\n",
       "      <td>0</td>\n",
       "      <td>1</td>\n",
       "      <td>0</td>\n",
       "      <td>0</td>\n",
       "      <td>0</td>\n",
       "      <td>0</td>\n",
       "      <td>0</td>\n",
       "      <td>0</td>\n",
       "      <td>0</td>\n",
       "      <td>0</td>\n",
       "      <td>0</td>\n",
       "      <td>0</td>\n",
       "      <td>0</td>\n",
       "      <td>0</td>\n",
       "      <td>0</td>\n",
       "      <td>0</td>\n",
       "      <td>0</td>\n",
       "      <td>0</td>\n",
       "      <td>0</td>\n",
       "      <td>0</td>\n",
       "      <td>0</td>\n",
       "      <td>0</td>\n",
       "    </tr>\n",
       "    <tr>\n",
       "      <th>3</th>\n",
       "      <td>0</td>\n",
       "      <td>1</td>\n",
       "      <td>0</td>\n",
       "      <td>0</td>\n",
       "      <td>0</td>\n",
       "      <td>0</td>\n",
       "      <td>0</td>\n",
       "      <td>0</td>\n",
       "      <td>0</td>\n",
       "      <td>0</td>\n",
       "      <td>0</td>\n",
       "      <td>0</td>\n",
       "      <td>0</td>\n",
       "      <td>0</td>\n",
       "      <td>0</td>\n",
       "      <td>0</td>\n",
       "      <td>0</td>\n",
       "      <td>0</td>\n",
       "      <td>0</td>\n",
       "      <td>0</td>\n",
       "      <td>0</td>\n",
       "      <td>0</td>\n",
       "    </tr>\n",
       "    <tr>\n",
       "      <th>4</th>\n",
       "      <td>0</td>\n",
       "      <td>1</td>\n",
       "      <td>0</td>\n",
       "      <td>0</td>\n",
       "      <td>0</td>\n",
       "      <td>0</td>\n",
       "      <td>0</td>\n",
       "      <td>0</td>\n",
       "      <td>0</td>\n",
       "      <td>0</td>\n",
       "      <td>0</td>\n",
       "      <td>0</td>\n",
       "      <td>0</td>\n",
       "      <td>0</td>\n",
       "      <td>0</td>\n",
       "      <td>0</td>\n",
       "      <td>0</td>\n",
       "      <td>0</td>\n",
       "      <td>0</td>\n",
       "      <td>0</td>\n",
       "      <td>0</td>\n",
       "      <td>0</td>\n",
       "    </tr>\n",
       "    <tr>\n",
       "      <th>...</th>\n",
       "      <td>...</td>\n",
       "      <td>...</td>\n",
       "      <td>...</td>\n",
       "      <td>...</td>\n",
       "      <td>...</td>\n",
       "      <td>...</td>\n",
       "      <td>...</td>\n",
       "      <td>...</td>\n",
       "      <td>...</td>\n",
       "      <td>...</td>\n",
       "      <td>...</td>\n",
       "      <td>...</td>\n",
       "      <td>...</td>\n",
       "      <td>...</td>\n",
       "      <td>...</td>\n",
       "      <td>...</td>\n",
       "      <td>...</td>\n",
       "      <td>...</td>\n",
       "      <td>...</td>\n",
       "      <td>...</td>\n",
       "      <td>...</td>\n",
       "      <td>...</td>\n",
       "    </tr>\n",
       "    <tr>\n",
       "      <th>199</th>\n",
       "      <td>0</td>\n",
       "      <td>0</td>\n",
       "      <td>0</td>\n",
       "      <td>0</td>\n",
       "      <td>0</td>\n",
       "      <td>0</td>\n",
       "      <td>0</td>\n",
       "      <td>0</td>\n",
       "      <td>0</td>\n",
       "      <td>0</td>\n",
       "      <td>0</td>\n",
       "      <td>0</td>\n",
       "      <td>0</td>\n",
       "      <td>0</td>\n",
       "      <td>0</td>\n",
       "      <td>0</td>\n",
       "      <td>0</td>\n",
       "      <td>0</td>\n",
       "      <td>0</td>\n",
       "      <td>0</td>\n",
       "      <td>0</td>\n",
       "      <td>1</td>\n",
       "    </tr>\n",
       "    <tr>\n",
       "      <th>200</th>\n",
       "      <td>0</td>\n",
       "      <td>0</td>\n",
       "      <td>0</td>\n",
       "      <td>0</td>\n",
       "      <td>0</td>\n",
       "      <td>0</td>\n",
       "      <td>0</td>\n",
       "      <td>0</td>\n",
       "      <td>0</td>\n",
       "      <td>0</td>\n",
       "      <td>0</td>\n",
       "      <td>0</td>\n",
       "      <td>0</td>\n",
       "      <td>0</td>\n",
       "      <td>0</td>\n",
       "      <td>0</td>\n",
       "      <td>0</td>\n",
       "      <td>0</td>\n",
       "      <td>0</td>\n",
       "      <td>0</td>\n",
       "      <td>0</td>\n",
       "      <td>1</td>\n",
       "    </tr>\n",
       "    <tr>\n",
       "      <th>201</th>\n",
       "      <td>0</td>\n",
       "      <td>0</td>\n",
       "      <td>0</td>\n",
       "      <td>0</td>\n",
       "      <td>0</td>\n",
       "      <td>0</td>\n",
       "      <td>0</td>\n",
       "      <td>0</td>\n",
       "      <td>0</td>\n",
       "      <td>0</td>\n",
       "      <td>0</td>\n",
       "      <td>0</td>\n",
       "      <td>0</td>\n",
       "      <td>0</td>\n",
       "      <td>0</td>\n",
       "      <td>0</td>\n",
       "      <td>0</td>\n",
       "      <td>0</td>\n",
       "      <td>0</td>\n",
       "      <td>0</td>\n",
       "      <td>0</td>\n",
       "      <td>1</td>\n",
       "    </tr>\n",
       "    <tr>\n",
       "      <th>202</th>\n",
       "      <td>0</td>\n",
       "      <td>0</td>\n",
       "      <td>0</td>\n",
       "      <td>0</td>\n",
       "      <td>0</td>\n",
       "      <td>0</td>\n",
       "      <td>0</td>\n",
       "      <td>0</td>\n",
       "      <td>0</td>\n",
       "      <td>0</td>\n",
       "      <td>0</td>\n",
       "      <td>0</td>\n",
       "      <td>0</td>\n",
       "      <td>0</td>\n",
       "      <td>0</td>\n",
       "      <td>0</td>\n",
       "      <td>0</td>\n",
       "      <td>0</td>\n",
       "      <td>0</td>\n",
       "      <td>0</td>\n",
       "      <td>0</td>\n",
       "      <td>1</td>\n",
       "    </tr>\n",
       "    <tr>\n",
       "      <th>203</th>\n",
       "      <td>0</td>\n",
       "      <td>0</td>\n",
       "      <td>0</td>\n",
       "      <td>0</td>\n",
       "      <td>0</td>\n",
       "      <td>0</td>\n",
       "      <td>0</td>\n",
       "      <td>0</td>\n",
       "      <td>0</td>\n",
       "      <td>0</td>\n",
       "      <td>0</td>\n",
       "      <td>0</td>\n",
       "      <td>0</td>\n",
       "      <td>0</td>\n",
       "      <td>0</td>\n",
       "      <td>0</td>\n",
       "      <td>0</td>\n",
       "      <td>0</td>\n",
       "      <td>0</td>\n",
       "      <td>0</td>\n",
       "      <td>0</td>\n",
       "      <td>1</td>\n",
       "    </tr>\n",
       "  </tbody>\n",
       "</table>\n",
       "<p>204 rows × 22 columns</p>\n",
       "</div>"
      ],
      "text/plain": [
       "     make_alfa-romero  make_audi  make_bmw  make_chevrolet  make_dodge  \\\n",
       "0                   1          0         0               0           0   \n",
       "1                   1          0         0               0           0   \n",
       "2                   0          1         0               0           0   \n",
       "3                   0          1         0               0           0   \n",
       "4                   0          1         0               0           0   \n",
       "..                ...        ...       ...             ...         ...   \n",
       "199                 0          0         0               0           0   \n",
       "200                 0          0         0               0           0   \n",
       "201                 0          0         0               0           0   \n",
       "202                 0          0         0               0           0   \n",
       "203                 0          0         0               0           0   \n",
       "\n",
       "     make_honda  make_isuzu  make_jaguar  make_mazda  make_mercedes-benz  \\\n",
       "0             0           0            0           0                   0   \n",
       "1             0           0            0           0                   0   \n",
       "2             0           0            0           0                   0   \n",
       "3             0           0            0           0                   0   \n",
       "4             0           0            0           0                   0   \n",
       "..          ...         ...          ...         ...                 ...   \n",
       "199           0           0            0           0                   0   \n",
       "200           0           0            0           0                   0   \n",
       "201           0           0            0           0                   0   \n",
       "202           0           0            0           0                   0   \n",
       "203           0           0            0           0                   0   \n",
       "\n",
       "     make_mercury  make_mitsubishi  make_nissan  make_peugot  make_plymouth  \\\n",
       "0               0                0            0            0              0   \n",
       "1               0                0            0            0              0   \n",
       "2               0                0            0            0              0   \n",
       "3               0                0            0            0              0   \n",
       "4               0                0            0            0              0   \n",
       "..            ...              ...          ...          ...            ...   \n",
       "199             0                0            0            0              0   \n",
       "200             0                0            0            0              0   \n",
       "201             0                0            0            0              0   \n",
       "202             0                0            0            0              0   \n",
       "203             0                0            0            0              0   \n",
       "\n",
       "     make_porsche  make_renault  make_saab  make_subaru  make_toyota  \\\n",
       "0               0             0          0            0            0   \n",
       "1               0             0          0            0            0   \n",
       "2               0             0          0            0            0   \n",
       "3               0             0          0            0            0   \n",
       "4               0             0          0            0            0   \n",
       "..            ...           ...        ...          ...          ...   \n",
       "199             0             0          0            0            0   \n",
       "200             0             0          0            0            0   \n",
       "201             0             0          0            0            0   \n",
       "202             0             0          0            0            0   \n",
       "203             0             0          0            0            0   \n",
       "\n",
       "     make_volkswagen  make_volvo  \n",
       "0                  0           0  \n",
       "1                  0           0  \n",
       "2                  0           0  \n",
       "3                  0           0  \n",
       "4                  0           0  \n",
       "..               ...         ...  \n",
       "199                0           1  \n",
       "200                0           1  \n",
       "201                0           1  \n",
       "202                0           1  \n",
       "203                0           1  \n",
       "\n",
       "[204 rows x 22 columns]"
      ]
     },
     "execution_count": 53,
     "metadata": {},
     "output_type": "execute_result"
    }
   ],
   "source": [
    "Make = pd.get_dummies(df['make'],prefix=\"make\")\n",
    "Make"
   ]
  },
  {
   "cell_type": "code",
   "execution_count": 54,
   "id": "b2f588e8",
   "metadata": {},
   "outputs": [
    {
     "data": {
      "text/html": [
       "<div>\n",
       "<style scoped>\n",
       "    .dataframe tbody tr th:only-of-type {\n",
       "        vertical-align: middle;\n",
       "    }\n",
       "\n",
       "    .dataframe tbody tr th {\n",
       "        vertical-align: top;\n",
       "    }\n",
       "\n",
       "    .dataframe thead th {\n",
       "        text-align: right;\n",
       "    }\n",
       "</style>\n",
       "<table border=\"1\" class=\"dataframe\">\n",
       "  <thead>\n",
       "    <tr style=\"text-align: right;\">\n",
       "      <th></th>\n",
       "      <th>ET_dohc</th>\n",
       "      <th>ET_dohcv</th>\n",
       "      <th>ET_l</th>\n",
       "      <th>ET_ohc</th>\n",
       "      <th>ET_ohcf</th>\n",
       "      <th>ET_ohcv</th>\n",
       "      <th>ET_rotor</th>\n",
       "    </tr>\n",
       "  </thead>\n",
       "  <tbody>\n",
       "    <tr>\n",
       "      <th>0</th>\n",
       "      <td>1</td>\n",
       "      <td>0</td>\n",
       "      <td>0</td>\n",
       "      <td>0</td>\n",
       "      <td>0</td>\n",
       "      <td>0</td>\n",
       "      <td>0</td>\n",
       "    </tr>\n",
       "    <tr>\n",
       "      <th>1</th>\n",
       "      <td>0</td>\n",
       "      <td>0</td>\n",
       "      <td>0</td>\n",
       "      <td>0</td>\n",
       "      <td>0</td>\n",
       "      <td>1</td>\n",
       "      <td>0</td>\n",
       "    </tr>\n",
       "    <tr>\n",
       "      <th>2</th>\n",
       "      <td>0</td>\n",
       "      <td>0</td>\n",
       "      <td>0</td>\n",
       "      <td>1</td>\n",
       "      <td>0</td>\n",
       "      <td>0</td>\n",
       "      <td>0</td>\n",
       "    </tr>\n",
       "    <tr>\n",
       "      <th>3</th>\n",
       "      <td>0</td>\n",
       "      <td>0</td>\n",
       "      <td>0</td>\n",
       "      <td>1</td>\n",
       "      <td>0</td>\n",
       "      <td>0</td>\n",
       "      <td>0</td>\n",
       "    </tr>\n",
       "    <tr>\n",
       "      <th>4</th>\n",
       "      <td>0</td>\n",
       "      <td>0</td>\n",
       "      <td>0</td>\n",
       "      <td>1</td>\n",
       "      <td>0</td>\n",
       "      <td>0</td>\n",
       "      <td>0</td>\n",
       "    </tr>\n",
       "    <tr>\n",
       "      <th>...</th>\n",
       "      <td>...</td>\n",
       "      <td>...</td>\n",
       "      <td>...</td>\n",
       "      <td>...</td>\n",
       "      <td>...</td>\n",
       "      <td>...</td>\n",
       "      <td>...</td>\n",
       "    </tr>\n",
       "    <tr>\n",
       "      <th>199</th>\n",
       "      <td>0</td>\n",
       "      <td>0</td>\n",
       "      <td>0</td>\n",
       "      <td>1</td>\n",
       "      <td>0</td>\n",
       "      <td>0</td>\n",
       "      <td>0</td>\n",
       "    </tr>\n",
       "    <tr>\n",
       "      <th>200</th>\n",
       "      <td>0</td>\n",
       "      <td>0</td>\n",
       "      <td>0</td>\n",
       "      <td>1</td>\n",
       "      <td>0</td>\n",
       "      <td>0</td>\n",
       "      <td>0</td>\n",
       "    </tr>\n",
       "    <tr>\n",
       "      <th>201</th>\n",
       "      <td>0</td>\n",
       "      <td>0</td>\n",
       "      <td>0</td>\n",
       "      <td>0</td>\n",
       "      <td>0</td>\n",
       "      <td>1</td>\n",
       "      <td>0</td>\n",
       "    </tr>\n",
       "    <tr>\n",
       "      <th>202</th>\n",
       "      <td>0</td>\n",
       "      <td>0</td>\n",
       "      <td>0</td>\n",
       "      <td>1</td>\n",
       "      <td>0</td>\n",
       "      <td>0</td>\n",
       "      <td>0</td>\n",
       "    </tr>\n",
       "    <tr>\n",
       "      <th>203</th>\n",
       "      <td>0</td>\n",
       "      <td>0</td>\n",
       "      <td>0</td>\n",
       "      <td>1</td>\n",
       "      <td>0</td>\n",
       "      <td>0</td>\n",
       "      <td>0</td>\n",
       "    </tr>\n",
       "  </tbody>\n",
       "</table>\n",
       "<p>204 rows × 7 columns</p>\n",
       "</div>"
      ],
      "text/plain": [
       "     ET_dohc  ET_dohcv  ET_l  ET_ohc  ET_ohcf  ET_ohcv  ET_rotor\n",
       "0          1         0     0       0        0        0         0\n",
       "1          0         0     0       0        0        1         0\n",
       "2          0         0     0       1        0        0         0\n",
       "3          0         0     0       1        0        0         0\n",
       "4          0         0     0       1        0        0         0\n",
       "..       ...       ...   ...     ...      ...      ...       ...\n",
       "199        0         0     0       1        0        0         0\n",
       "200        0         0     0       1        0        0         0\n",
       "201        0         0     0       0        0        1         0\n",
       "202        0         0     0       1        0        0         0\n",
       "203        0         0     0       1        0        0         0\n",
       "\n",
       "[204 rows x 7 columns]"
      ]
     },
     "execution_count": 54,
     "metadata": {},
     "output_type": "execute_result"
    }
   ],
   "source": [
    "Engine_type = pd.get_dummies(df['engine-type'],prefix=\"ET\")\n",
    "Engine_type"
   ]
  },
  {
   "cell_type": "markdown",
   "id": "a597febb",
   "metadata": {},
   "source": [
    "## 5"
   ]
  },
  {
   "cell_type": "markdown",
   "id": "0072cb88",
   "metadata": {},
   "source": [
    "Principal component analysis (PCA) is an unsupervised algorithm that creates linear combinations of the original features. The new features are orthogonal, which means that they are uncorrelated. Furthermore, they are ranked in order of their “explained variance.” The first principal component (PC1) explains the most variance in your dataset, PC2 explains the second-most variance, and so on.(https://elitedatascience.com/dimensionality-reduction-algorithms)  "
   ]
  },
  {
   "cell_type": "markdown",
   "id": "7b4030c5",
   "metadata": {},
   "source": [
    "First we should normalize our dataset. Get specified columns and sum the NAN values"
   ]
  },
  {
   "cell_type": "code",
   "execution_count": 62,
   "id": "d62ead9c",
   "metadata": {},
   "outputs": [
    {
     "data": {
      "text/html": [
       "<div>\n",
       "<style scoped>\n",
       "    .dataframe tbody tr th:only-of-type {\n",
       "        vertical-align: middle;\n",
       "    }\n",
       "\n",
       "    .dataframe tbody tr th {\n",
       "        vertical-align: top;\n",
       "    }\n",
       "\n",
       "    .dataframe thead th {\n",
       "        text-align: right;\n",
       "    }\n",
       "</style>\n",
       "<table border=\"1\" class=\"dataframe\">\n",
       "  <thead>\n",
       "    <tr style=\"text-align: right;\">\n",
       "      <th></th>\n",
       "      <th>wheel-base</th>\n",
       "      <th>length</th>\n",
       "      <th>width</th>\n",
       "      <th>height</th>\n",
       "      <th>curb-weight</th>\n",
       "      <th>engine-size</th>\n",
       "      <th>compression-ratio</th>\n",
       "      <th>horsepower</th>\n",
       "      <th>peak-rpm</th>\n",
       "      <th>city-mpg</th>\n",
       "    </tr>\n",
       "  </thead>\n",
       "  <tbody>\n",
       "    <tr>\n",
       "      <th>0</th>\n",
       "      <td>88.6</td>\n",
       "      <td>168.8</td>\n",
       "      <td>64.1</td>\n",
       "      <td>48.8</td>\n",
       "      <td>2548</td>\n",
       "      <td>0.260377</td>\n",
       "      <td>9.0</td>\n",
       "      <td>111.0</td>\n",
       "      <td>5000.0</td>\n",
       "      <td>21</td>\n",
       "    </tr>\n",
       "    <tr>\n",
       "      <th>1</th>\n",
       "      <td>94.5</td>\n",
       "      <td>171.2</td>\n",
       "      <td>65.5</td>\n",
       "      <td>52.4</td>\n",
       "      <td>2823</td>\n",
       "      <td>0.343396</td>\n",
       "      <td>9.0</td>\n",
       "      <td>154.0</td>\n",
       "      <td>5000.0</td>\n",
       "      <td>19</td>\n",
       "    </tr>\n",
       "    <tr>\n",
       "      <th>2</th>\n",
       "      <td>99.8</td>\n",
       "      <td>176.6</td>\n",
       "      <td>66.2</td>\n",
       "      <td>54.3</td>\n",
       "      <td>2337</td>\n",
       "      <td>0.181132</td>\n",
       "      <td>10.0</td>\n",
       "      <td>102.0</td>\n",
       "      <td>5500.0</td>\n",
       "      <td>24</td>\n",
       "    </tr>\n",
       "    <tr>\n",
       "      <th>3</th>\n",
       "      <td>99.4</td>\n",
       "      <td>176.6</td>\n",
       "      <td>66.4</td>\n",
       "      <td>54.3</td>\n",
       "      <td>2824</td>\n",
       "      <td>0.283019</td>\n",
       "      <td>8.0</td>\n",
       "      <td>115.0</td>\n",
       "      <td>5500.0</td>\n",
       "      <td>18</td>\n",
       "    </tr>\n",
       "    <tr>\n",
       "      <th>4</th>\n",
       "      <td>99.8</td>\n",
       "      <td>177.3</td>\n",
       "      <td>66.3</td>\n",
       "      <td>53.1</td>\n",
       "      <td>2507</td>\n",
       "      <td>0.283019</td>\n",
       "      <td>8.5</td>\n",
       "      <td>110.0</td>\n",
       "      <td>5500.0</td>\n",
       "      <td>19</td>\n",
       "    </tr>\n",
       "    <tr>\n",
       "      <th>...</th>\n",
       "      <td>...</td>\n",
       "      <td>...</td>\n",
       "      <td>...</td>\n",
       "      <td>...</td>\n",
       "      <td>...</td>\n",
       "      <td>...</td>\n",
       "      <td>...</td>\n",
       "      <td>...</td>\n",
       "      <td>...</td>\n",
       "      <td>...</td>\n",
       "    </tr>\n",
       "    <tr>\n",
       "      <th>199</th>\n",
       "      <td>109.1</td>\n",
       "      <td>188.8</td>\n",
       "      <td>68.9</td>\n",
       "      <td>55.5</td>\n",
       "      <td>2952</td>\n",
       "      <td>0.301887</td>\n",
       "      <td>9.5</td>\n",
       "      <td>114.0</td>\n",
       "      <td>5400.0</td>\n",
       "      <td>23</td>\n",
       "    </tr>\n",
       "    <tr>\n",
       "      <th>200</th>\n",
       "      <td>109.1</td>\n",
       "      <td>188.8</td>\n",
       "      <td>68.8</td>\n",
       "      <td>55.5</td>\n",
       "      <td>3049</td>\n",
       "      <td>0.301887</td>\n",
       "      <td>8.7</td>\n",
       "      <td>160.0</td>\n",
       "      <td>5300.0</td>\n",
       "      <td>19</td>\n",
       "    </tr>\n",
       "    <tr>\n",
       "      <th>201</th>\n",
       "      <td>109.1</td>\n",
       "      <td>188.8</td>\n",
       "      <td>68.9</td>\n",
       "      <td>55.5</td>\n",
       "      <td>3012</td>\n",
       "      <td>0.422642</td>\n",
       "      <td>8.8</td>\n",
       "      <td>134.0</td>\n",
       "      <td>5500.0</td>\n",
       "      <td>18</td>\n",
       "    </tr>\n",
       "    <tr>\n",
       "      <th>202</th>\n",
       "      <td>109.1</td>\n",
       "      <td>188.8</td>\n",
       "      <td>68.9</td>\n",
       "      <td>55.5</td>\n",
       "      <td>3217</td>\n",
       "      <td>0.316981</td>\n",
       "      <td>23.0</td>\n",
       "      <td>106.0</td>\n",
       "      <td>4800.0</td>\n",
       "      <td>26</td>\n",
       "    </tr>\n",
       "    <tr>\n",
       "      <th>203</th>\n",
       "      <td>109.1</td>\n",
       "      <td>188.8</td>\n",
       "      <td>68.9</td>\n",
       "      <td>55.5</td>\n",
       "      <td>3062</td>\n",
       "      <td>0.301887</td>\n",
       "      <td>9.5</td>\n",
       "      <td>114.0</td>\n",
       "      <td>5400.0</td>\n",
       "      <td>19</td>\n",
       "    </tr>\n",
       "  </tbody>\n",
       "</table>\n",
       "<p>204 rows × 10 columns</p>\n",
       "</div>"
      ],
      "text/plain": [
       "     wheel-base  length  width  height  curb-weight  engine-size  \\\n",
       "0          88.6   168.8   64.1    48.8         2548     0.260377   \n",
       "1          94.5   171.2   65.5    52.4         2823     0.343396   \n",
       "2          99.8   176.6   66.2    54.3         2337     0.181132   \n",
       "3          99.4   176.6   66.4    54.3         2824     0.283019   \n",
       "4          99.8   177.3   66.3    53.1         2507     0.283019   \n",
       "..          ...     ...    ...     ...          ...          ...   \n",
       "199       109.1   188.8   68.9    55.5         2952     0.301887   \n",
       "200       109.1   188.8   68.8    55.5         3049     0.301887   \n",
       "201       109.1   188.8   68.9    55.5         3012     0.422642   \n",
       "202       109.1   188.8   68.9    55.5         3217     0.316981   \n",
       "203       109.1   188.8   68.9    55.5         3062     0.301887   \n",
       "\n",
       "     compression-ratio  horsepower  peak-rpm  city-mpg  \n",
       "0                  9.0       111.0    5000.0        21  \n",
       "1                  9.0       154.0    5000.0        19  \n",
       "2                 10.0       102.0    5500.0        24  \n",
       "3                  8.0       115.0    5500.0        18  \n",
       "4                  8.5       110.0    5500.0        19  \n",
       "..                 ...         ...       ...       ...  \n",
       "199                9.5       114.0    5400.0        23  \n",
       "200                8.7       160.0    5300.0        19  \n",
       "201                8.8       134.0    5500.0        18  \n",
       "202               23.0       106.0    4800.0        26  \n",
       "203                9.5       114.0    5400.0        19  \n",
       "\n",
       "[204 rows x 10 columns]"
      ]
     },
     "execution_count": 62,
     "metadata": {},
     "output_type": "execute_result"
    }
   ],
   "source": [
    "AGM = df[['wheel-base', 'length', 'width', 'height', 'curb-weight', 'engine-size', 'compression-ratio', 'horsepower', 'peak-rpm','city-mpg']]\n",
    "AGM"
   ]
  },
  {
   "cell_type": "code",
   "execution_count": 56,
   "id": "0603a35c",
   "metadata": {},
   "outputs": [
    {
     "data": {
      "text/plain": [
       "wheel-base           0\n",
       "length               0\n",
       "width                0\n",
       "height               0\n",
       "curb-weight          0\n",
       "engine-size          0\n",
       "compression-ratio    0\n",
       "horsepower           2\n",
       "peak-rpm             2\n",
       "city-mpg             0\n",
       "dtype: int64"
      ]
     },
     "execution_count": 56,
     "metadata": {},
     "output_type": "execute_result"
    }
   ],
   "source": [
    "AGM.isna().sum()"
   ]
  },
  {
   "cell_type": "markdown",
   "id": "af12500d",
   "metadata": {},
   "source": [
    "We can see peak-rpm and horsepower have NAN values"
   ]
  },
  {
   "cell_type": "code",
   "execution_count": 63,
   "id": "f2923869",
   "metadata": {},
   "outputs": [
    {
     "ename": "TypeError",
     "evalue": "only list-like or dict-like objects are allowed to be passed to DataFrame.isin(), you passed a 'float'",
     "output_type": "error",
     "traceback": [
      "\u001b[0;31m---------------------------------------------------------------------------\u001b[0m",
      "\u001b[0;31mTypeError\u001b[0m                                 Traceback (most recent call last)",
      "\u001b[1;32m/Users/linpinxue/Library/CloudStorage/OneDrive-个人/YU_course/AI/Data Acquisition and Management/AIM-5001/week10/m10_updated.ipynb Cell 88\u001b[0m in \u001b[0;36m<cell line: 1>\u001b[0;34m()\u001b[0m\n\u001b[0;32m----> <a href='vscode-notebook-cell:/Users/linpinxue/Library/CloudStorage/OneDrive-%E4%B8%AA%E4%BA%BA/YU_course/AI/Data%20Acquisition%20and%20Management/AIM-5001/week10/m10_updated.ipynb#Y153sZmlsZQ%3D%3D?line=0'>1</a>\u001b[0m AGM[AGM\u001b[39m.\u001b[39;49misin(np\u001b[39m.\u001b[39;49mnan)]\n",
      "File \u001b[0;32m/opt/anaconda3/lib/python3.9/site-packages/pandas/core/frame.py:10740\u001b[0m, in \u001b[0;36mDataFrame.isin\u001b[0;34m(self, values)\u001b[0m\n\u001b[1;32m  10738\u001b[0m \u001b[39melse\u001b[39;00m:\n\u001b[1;32m  10739\u001b[0m     \u001b[39mif\u001b[39;00m \u001b[39mnot\u001b[39;00m is_list_like(values):\n\u001b[0;32m> 10740\u001b[0m         \u001b[39mraise\u001b[39;00m \u001b[39mTypeError\u001b[39;00m(\n\u001b[1;32m  10741\u001b[0m             \u001b[39m\"\u001b[39m\u001b[39monly list-like or dict-like objects are allowed \u001b[39m\u001b[39m\"\u001b[39m\n\u001b[1;32m  10742\u001b[0m             \u001b[39m\"\u001b[39m\u001b[39mto be passed to DataFrame.isin(), \u001b[39m\u001b[39m\"\u001b[39m\n\u001b[1;32m  10743\u001b[0m             \u001b[39mf\u001b[39m\u001b[39m\"\u001b[39m\u001b[39myou passed a \u001b[39m\u001b[39m'\u001b[39m\u001b[39m{\u001b[39;00m\u001b[39mtype\u001b[39m(values)\u001b[39m.\u001b[39m\u001b[39m__name__\u001b[39m\u001b[39m}\u001b[39;00m\u001b[39m'\u001b[39m\u001b[39m\"\u001b[39m\n\u001b[1;32m  10744\u001b[0m         )\n\u001b[1;32m  10745\u001b[0m     \u001b[39mreturn\u001b[39;00m \u001b[39mself\u001b[39m\u001b[39m.\u001b[39m_constructor(\n\u001b[1;32m  10746\u001b[0m         algorithms\u001b[39m.\u001b[39misin(\u001b[39mself\u001b[39m\u001b[39m.\u001b[39mvalues\u001b[39m.\u001b[39mravel(), values)\u001b[39m.\u001b[39mreshape(\u001b[39mself\u001b[39m\u001b[39m.\u001b[39mshape),\n\u001b[1;32m  10747\u001b[0m         \u001b[39mself\u001b[39m\u001b[39m.\u001b[39mindex,\n\u001b[1;32m  10748\u001b[0m         \u001b[39mself\u001b[39m\u001b[39m.\u001b[39mcolumns,\n\u001b[1;32m  10749\u001b[0m     )\n",
      "\u001b[0;31mTypeError\u001b[0m: only list-like or dict-like objects are allowed to be passed to DataFrame.isin(), you passed a 'float'"
     ]
    }
   ],
   "source": [
    "AGM[AGM.isin(np.nan)]"
   ]
  },
  {
   "cell_type": "markdown",
   "id": "3ddc4113",
   "metadata": {},
   "source": [
    "Remove these two items"
   ]
  },
  {
   "cell_type": "code",
   "execution_count": 58,
   "id": "b9cc5509",
   "metadata": {},
   "outputs": [],
   "source": [
    "AGM = AGM.drop([129, 130])"
   ]
  },
  {
   "cell_type": "code",
   "execution_count": 195,
   "id": "ba3f58a6",
   "metadata": {},
   "outputs": [
    {
     "data": {
      "text/html": [
       "<div>\n",
       "<style scoped>\n",
       "    .dataframe tbody tr th:only-of-type {\n",
       "        vertical-align: middle;\n",
       "    }\n",
       "\n",
       "    .dataframe tbody tr th {\n",
       "        vertical-align: top;\n",
       "    }\n",
       "\n",
       "    .dataframe thead th {\n",
       "        text-align: right;\n",
       "    }\n",
       "</style>\n",
       "<table border=\"1\" class=\"dataframe\">\n",
       "  <thead>\n",
       "    <tr style=\"text-align: right;\">\n",
       "      <th></th>\n",
       "      <th>wheel-base</th>\n",
       "      <th>length</th>\n",
       "      <th>width</th>\n",
       "      <th>height</th>\n",
       "      <th>curb-weight</th>\n",
       "      <th>engine-size</th>\n",
       "      <th>compression-ratio</th>\n",
       "      <th>horsepower</th>\n",
       "      <th>peak-rpm</th>\n",
       "      <th>city-mpg</th>\n",
       "    </tr>\n",
       "  </thead>\n",
       "  <tbody>\n",
       "  </tbody>\n",
       "</table>\n",
       "</div>"
      ],
      "text/plain": [
       "Empty DataFrame\n",
       "Columns: [wheel-base, length, width, height, curb-weight, engine-size, compression-ratio, horsepower, peak-rpm, city-mpg]\n",
       "Index: []"
      ]
     },
     "execution_count": 195,
     "metadata": {},
     "output_type": "execute_result"
    }
   ],
   "source": [
    "AGM[AGM.isna().T.any()]"
   ]
  },
  {
   "cell_type": "markdown",
   "id": "d10d3a64",
   "metadata": {},
   "source": [
    "normalize AGM"
   ]
  },
  {
   "cell_type": "code",
   "execution_count": 196,
   "id": "29c2c434",
   "metadata": {},
   "outputs": [],
   "source": [
    "sc = StandardScaler()\n",
    "AGM_sc = sc.fit_transform(AGM)"
   ]
  },
  {
   "cell_type": "code",
   "execution_count": 197,
   "id": "89a4e00a",
   "metadata": {},
   "outputs": [
    {
     "data": {
      "text/plain": [
       "array([[-1.70471389, -0.42202893, -0.84161972, ...,  0.1706615 ,\n",
       "        -0.2628885 , -0.64936762],\n",
       "       [-0.72184997, -0.22816913, -0.19078555, ...,  1.25347072,\n",
       "        -0.2628885 , -0.95406508],\n",
       "       [ 0.16106169,  0.20801539,  0.13463154, ..., -0.05597298,\n",
       "         0.78040182, -0.19232142],\n",
       "       ...,\n",
       "       [ 1.71032178,  1.19346933,  1.38981173, ...,  0.74983853,\n",
       "         0.78040182, -1.10641382],\n",
       "       [ 1.71032178,  1.19346933,  1.38981173, ...,  0.04475345,\n",
       "        -0.68020463,  0.11237605],\n",
       "       [ 1.71032178,  1.19346933,  1.38981173, ...,  0.24620633,\n",
       "         0.57174375, -0.95406508]])"
      ]
     },
     "execution_count": 197,
     "metadata": {},
     "output_type": "execute_result"
    }
   ],
   "source": [
    "AGM_sc"
   ]
  },
  {
   "cell_type": "code",
   "execution_count": 198,
   "id": "56a74c95",
   "metadata": {},
   "outputs": [
    {
     "data": {
      "image/png": "[encoded data removed]",
      "text/plain": [
       "<Figure size 864x432 with 1 Axes>"
      ]
     },
     "metadata": {
      "needs_background": "light"
     },
     "output_type": "display_data"
    }
   ],
   "source": [
    "# cpoy from https://www.mikulskibartosz.name/pca-how-to-choose-the-number-of-components/, author:Bartosz Mikulski\n",
    "# by use these codes, we can find if we want to get 95% of variance explained, we need 5 principal components.\n",
    "pca = PCA().fit(AGM_sc)\n",
    "\n",
    "import matplotlib.pyplot as plt\n",
    "plt.rcParams[\"figure.figsize\"] = (12,6)\n",
    "\n",
    "fig, ax = plt.subplots()\n",
    "xi = np.arange(1, 11, step=1)\n",
    "y = np.cumsum(pca.explained_variance_ratio_)\n",
    "\n",
    "plt.ylim(0.0,1.1)\n",
    "plt.plot(xi, y, marker='o', linestyle='--', color='b')\n",
    "\n",
    "plt.xlabel('Number of Components')\n",
    "plt.xticks(np.arange(0, 11, step=1)) #change from 0-based array index to 1-based human-readable label\n",
    "plt.ylabel('Cumulative variance (%)')\n",
    "plt.title('The number of components needed to explain variance')\n",
    "\n",
    "plt.axhline(y=0.95, color='r', linestyle='-')\n",
    "plt.text(0.5, 0.85, '95% cut-off threshold', color = 'red', fontsize=16)\n",
    "\n",
    "ax.grid(axis='x')\n",
    "plt.show()"
   ]
  },
  {
   "cell_type": "code",
   "execution_count": 199,
   "id": "38b3d800",
   "metadata": {},
   "outputs": [],
   "source": [
    "from sklearn.decomposition import PCA"
   ]
  },
  {
   "cell_type": "markdown",
   "id": "5d89f69a",
   "metadata": {},
   "source": [
    "Set the dimension to 5, and then use PCA transformation on the standardized AGM."
   ]
  },
  {
   "cell_type": "code",
   "execution_count": 135,
   "id": "593d9b1e",
   "metadata": {},
   "outputs": [
    {
     "data": {
      "text/plain": [
       "(202, 5)"
      ]
     },
     "execution_count": 135,
     "metadata": {},
     "output_type": "execute_result"
    }
   ],
   "source": [
    "pca = PCA(n_components = 5)\n",
    "AGM_pca = pca.fit_transform(AGM_sc)"
   ]
  },
  {
   "cell_type": "code",
   "execution_count": 200,
   "id": "4ac83544",
   "metadata": {},
   "outputs": [
    {
     "data": {
      "text/plain": [
       "array([[-1.12461226, -1.67606145,  1.61512651, -0.62092117, -0.10425632],\n",
       "       [ 0.65221242, -1.3494449 ,  0.83765685, -0.51438178,  0.73225882],\n",
       "       [-0.14874174, -0.20650131, -0.73489584,  0.61330421, -0.19287324],\n",
       "       ...,\n",
       "       [ 3.0115914 , -0.46192195, -1.02189699,  0.55475003, -0.32417372],\n",
       "       [ 2.64329249,  2.76768185,  1.02044033,  1.87146182, -0.21876731],\n",
       "       [ 2.59296898,  0.06361181, -1.17711425,  0.61680062, -0.75872251]])"
      ]
     },
     "execution_count": 200,
     "metadata": {},
     "output_type": "execute_result"
    }
   ],
   "source": [
    "AGM_pca"
   ]
  }
 ],
 "metadata": {
  "kernelspec": {
   "display_name": "base",
   "language": "python",
   "name": "python3"
  },
  "language_info": {
   "codemirror_mode": {
    "name": "ipython",
    "version": 3
   },
   "file_extension": ".py",
   "mimetype": "text/x-python",
   "name": "python",
   "nbconvert_exporter": "python",
   "pygments_lexer": "ipython3",
   "version": "3.9.12"
  },
  "vscode": {
   "interpreter": {
    "hash": "40d3a090f54c6569ab1632332b64b2c03c39dcf918b08424e98f38b5ae0af88f"
   }
  }
 },
 "nbformat": 4,
 "nbformat_minor": 5
}
