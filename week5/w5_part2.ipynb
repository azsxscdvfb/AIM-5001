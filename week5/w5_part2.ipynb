{
 "cells": [
  {
   "cell_type": "code",
   "execution_count": null,
   "metadata": {},
   "outputs": [],
   "source": [
    "import re\n",
    "import pandas as pd"
   ]
  },
  {
   "cell_type": "markdown",
   "metadata": {},
   "source": [
    "## Read and Store Data\n",
    "Use f to read txt file.  \n",
    "Store all content in list[0] include newline symbol \"\\n\"."
   ]
  },
  {
   "cell_type": "code",
   "execution_count": 140,
   "metadata": {},
   "outputs": [],
   "source": [
    "f = open(r\"Project1.txt\",\"r\")\n",
    "file = f.read()\n",
    "list = [file]"
   ]
  },
  {
   "cell_type": "markdown",
   "metadata": {},
   "source": [
    "## Get the Upper Line\n",
    "### RE\n",
    "~~~\n",
    "\\s+\\d+\\s\\|\\s(?P<Player_name>.+)\\|\n",
    "(?P<total_points>[0-9]+[.][0-9])\\s+\\|\n",
    "(?P<R1_R>\\w)\\s+(?P<R1_O>\\d{1,})?\\|\n",
    "(?P<R2_R>\\w)\\s+(?P<R2_O>\\d{1,})?\\|\n",
    "(?P<R3_R>\\w)\\s+(?P<R3_O>\\d{1,})?\\|\n",
    "(?P<R4_R>\\w)\\s+(?P<R4_O>\\d{1,})?\\|\n",
    "(?P<R5_R>\\w)\\s+(?P<R5_O>\\d{1,})?\\|\n",
    "(?P<R6_R>\\w)\\s+(?P<R6_O>\\d{1,})?\\|\n",
    "(?P<R7_R>\\w)\\s+(?P<R7_O>\\d{1,})?\\|\n",
    "~~~\n",
    "### EXAMPLE\n",
    "~~~\n",
    "   28 | SOFIA ADINA STANESCU-BELLU      |3.5  |W  24|D   4|W  22|D  19|L  20|L   8|D  36|  \n",
    "   62 | ASHWIN BALAJI                   |1.0  |W  55|U    |U    |U    |U    |U    |U    |\n",
    "~~~\n",
    "  \n",
    "### description\n",
    "We can see in first example the name include a \"-\". So we use \".+\" to match name, it will stop at \"|\".  \n",
    "In some cases, players did not participate in the competition, so they didn't have an opponent, use \"\\s+(?P<R1_O>\\d{1,})?\" to match opponent number， it can match spaces or opponent number. \n",
    "\n",
    "### Output\n",
    "We will get a list which include dicts \n",
    "~~~\n",
    "[{},{}.....{}]\n",
    "~~~"
   ]
  },
  {
   "cell_type": "code",
   "execution_count": null,
   "metadata": {},
   "outputs": [],
   "source": [
    "line1 = re.compile(\"\\s+\\d+\\s\\|\\s(?P<Player_name>.+)\\|(?P<total_points>[0-9]+[.][0-9])\\s+\\|(?P<R1_R>\\w)\\s+(?P<R1_O>\\d{1,})?\\|(?P<R2_R>\\w)\\s+(?P<R2_O>\\d{1,})?\\|(?P<R3_R>\\w)\\s+(?P<R3_O>\\d{1,})?\\|(?P<R4_R>\\w)\\s+(?P<R4_O>\\d{1,})?\\|(?P<R5_R>\\w)\\s+(?P<R5_O>\\d{1,})?\\|(?P<R6_R>\\w)\\s+(?P<R6_O>\\d{1,})?\\|(?P<R7_R>\\w)\\s+(?P<R7_O>\\d{1,})?\\|\")\n",
    "line1_result = [m.groupdict() for m in line1.finditer(list[0])]\n",
    "print(\"How many players are matched =\", len(line1_result))\n",
    "line1_result"
   ]
  },
  {
   "cell_type": "markdown",
   "metadata": {},
   "source": [
    "### what does PXX means？\n",
    "What does Pxx (eg. P3 or P15) in the rating mean?  A P in the rating means \"provisional\".  The USCF gives you a provisional rating until you have played 25 rated games.  In layman's terms what this means is that the rating can rise or fall dramatically, until the person has played 25 rated games.  In some cases, players who have very high provisional ratings get the rating because they have played other provisional-rated players.  Also, a person who has played fewer than 4 rated games is still considered to be unrated, and as such, should be paired as an unrated.  This comes into play only in Quads tournaments, where pairings are based on one's rating.\n",
    "\n",
    "reference:http://weibelchess.blogspot.com/2012/10/some-terminology-for-new-players.html"
   ]
  },
  {
   "cell_type": "markdown",
   "metadata": {},
   "source": [
    "## Get the Lowe Line\n",
    "### RE\n",
    "~~~\n",
    "\\s+(?P<state>[A-Z]+)\\s\\|\\s\\d+\\s\\/\\sR\\:\\s  \n",
    "(?P<pre_rating>\\d+)(P\\d+)?(\\s+)?->\\d+(P\\d+)?\n",
    "~~~\n",
    "### EXAMPLE\n",
    "~~~\n",
    "ON | 15771592 / R:  955P11-> 979P18  |     |B    |W    |B    |W    |B    |W    |B    |  \n",
    "MI | 15490981 / R:  377P3 ->1076P10  |     |B    |W    |B    |W    |B    |W    |W    |\n",
    "MI | 14579262 / R:  967   -> 984     |     |W    |B    |B    |W    |B    |     |     |\n",
    "~~~\n",
    "### DESCRIPTION\n",
    "Use \"(?P<state>[A-Z]{2})\" to match the state.  \n",
    "Use \"(?P<pre_rating>\\d+)\" to match the pre rating.  \n",
    "Whether there are spaces before and after the arrow needs to be judged"
   ]
  },
  {
   "cell_type": "code",
   "execution_count": 156,
   "metadata": {},
   "outputs": [
    {
     "name": "stdout",
     "output_type": "stream",
     "text": [
      "How many players are matched = 64\n"
     ]
    },
    {
     "data": {
      "text/plain": [
       "[{'state': 'ON', 'pre_rating': '1794'},\n",
       " {'state': 'MI', 'pre_rating': '1553'},\n",
       " {'state': 'MI', 'pre_rating': '1384'},\n",
       " {'state': 'MI', 'pre_rating': '1716'},\n",
       " {'state': 'MI', 'pre_rating': '1655'},\n",
       " {'state': 'OH', 'pre_rating': '1686'},\n",
       " {'state': 'MI', 'pre_rating': '1649'},\n",
       " {'state': 'MI', 'pre_rating': '1641'},\n",
       " {'state': 'ON', 'pre_rating': '1411'},\n",
       " {'state': 'MI', 'pre_rating': '1365'},\n",
       " {'state': 'MI', 'pre_rating': '1712'},\n",
       " {'state': 'MI', 'pre_rating': '1663'},\n",
       " {'state': 'MI', 'pre_rating': '1666'},\n",
       " {'state': 'MI', 'pre_rating': '1610'},\n",
       " {'state': 'MI', 'pre_rating': '1220'},\n",
       " {'state': 'MI', 'pre_rating': '1604'},\n",
       " {'state': 'MI', 'pre_rating': '1629'},\n",
       " {'state': 'MI', 'pre_rating': '1600'},\n",
       " {'state': 'MI', 'pre_rating': '1564'},\n",
       " {'state': 'MI', 'pre_rating': '1595'},\n",
       " {'state': 'ON', 'pre_rating': '1563'},\n",
       " {'state': 'MI', 'pre_rating': '1555'},\n",
       " {'state': 'ON', 'pre_rating': '1363'},\n",
       " {'state': 'MI', 'pre_rating': '1229'},\n",
       " {'state': 'MI', 'pre_rating': '1745'},\n",
       " {'state': 'ON', 'pre_rating': '1579'},\n",
       " {'state': 'MI', 'pre_rating': '1552'},\n",
       " {'state': 'MI', 'pre_rating': '1507'},\n",
       " {'state': 'MI', 'pre_rating': '1602'},\n",
       " {'state': 'ON', 'pre_rating': '1522'},\n",
       " {'state': 'MI', 'pre_rating': '1494'},\n",
       " {'state': 'ON', 'pre_rating': '1441'},\n",
       " {'state': 'MI', 'pre_rating': '1449'},\n",
       " {'state': 'MI', 'pre_rating': '1399'},\n",
       " {'state': 'MI', 'pre_rating': '1438'},\n",
       " {'state': 'MI', 'pre_rating': '1355'},\n",
       " {'state': 'MI', 'pre_rating': '980'},\n",
       " {'state': 'MI', 'pre_rating': '1423'},\n",
       " {'state': 'MI', 'pre_rating': '1436'},\n",
       " {'state': 'MI', 'pre_rating': '1348'},\n",
       " {'state': 'MI', 'pre_rating': '1403'},\n",
       " {'state': 'MI', 'pre_rating': '1332'},\n",
       " {'state': 'MI', 'pre_rating': '1283'},\n",
       " {'state': 'MI', 'pre_rating': '1199'},\n",
       " {'state': 'MI', 'pre_rating': '1242'},\n",
       " {'state': 'MI', 'pre_rating': '377'},\n",
       " {'state': 'MI', 'pre_rating': '1362'},\n",
       " {'state': 'MI', 'pre_rating': '1382'},\n",
       " {'state': 'MI', 'pre_rating': '1291'},\n",
       " {'state': 'MI', 'pre_rating': '1056'},\n",
       " {'state': 'MI', 'pre_rating': '1011'},\n",
       " {'state': 'MI', 'pre_rating': '935'},\n",
       " {'state': 'MI', 'pre_rating': '1393'},\n",
       " {'state': 'MI', 'pre_rating': '1270'},\n",
       " {'state': 'MI', 'pre_rating': '1186'},\n",
       " {'state': 'MI', 'pre_rating': '1153'},\n",
       " {'state': 'MI', 'pre_rating': '1092'},\n",
       " {'state': 'MI', 'pre_rating': '917'},\n",
       " {'state': 'MI', 'pre_rating': '853'},\n",
       " {'state': 'MI', 'pre_rating': '967'},\n",
       " {'state': 'ON', 'pre_rating': '955'},\n",
       " {'state': 'MI', 'pre_rating': '1530'},\n",
       " {'state': 'MI', 'pre_rating': '1175'},\n",
       " {'state': 'MI', 'pre_rating': '1163'}]"
      ]
     },
     "execution_count": 156,
     "metadata": {},
     "output_type": "execute_result"
    }
   ],
   "source": [
    "line2 = re.compile(\"\\s+(?P<state>[A-Z]{2})\\s\\|\\s\\d+\\s\\/\\sR\\:\\s+(?P<pre_rating>\\d+)(P\\d+)?\\s*->\\s*\\d+(P\\d+)?\")\n",
    "line2_result = [m.groupdict() for m in line2.finditer(list[0])]\n",
    "print(\"How many players are matched =\",len(line2_result))\n",
    "line2_result"
   ]
  },
  {
   "cell_type": "markdown",
   "metadata": {},
   "source": [
    "### DESCRIPTION\n",
    "Convert the list which include dicts to a dataframe object\n",
    "Then merge the two dataframes horizontally"
   ]
  },
  {
   "cell_type": "code",
   "execution_count": null,
   "metadata": {},
   "outputs": [],
   "source": [
    "df_result1 = pd.DataFrame(line1_result)\n",
    "df_result2 = pd.DataFrame(line2_result)\n",
    "df_mix = pd.concat([df_result1,df_result2,pd.DataFrame(columns=['pre_ave_opponents_rating'])],axis = 1)\n",
    "print(df_mix)"
   ]
  },
  {
   "cell_type": "markdown",
   "metadata": {},
   "source": [
    "### Calculate the average pre-tournament rating\n",
    "Use the data in dataframe to calculate the average pre-tournament rating"
   ]
  },
  {
   "cell_type": "code",
   "execution_count": null,
   "metadata": {},
   "outputs": [],
   "source": [
    "round_opponent_column_index = [3,5,7,9,11,13,15]                        #the column index of every round_result in df_mix.\n",
    "for i in range(df_mix.shape[0]):                                        #df_mix.shape[0] will return the len of df_mix, it is 64\n",
    "    sum_pre_opponents_rating = 0                                        # use it to store sum ratings\n",
    "    count = 0                                                           # use it to store how many opponents, because some people didn't take part in full 7 rounds\n",
    "    for p in round_opponent_column_index:                               # find every opponents' rating\n",
    "        if (df_mix.iloc[i,p] != None):\n",
    "            sum_pre_opponents_rating += int(df_mix.iloc[int(df_mix.iloc[i,p])-1,17])\n",
    "            count += 1\n",
    "    pre_ave_opponents_rating = int(sum_pre_opponents_rating / count)    #calculate average rating\n",
    "    df_mix.at[i,'pre_ave_opponents_rating'] = pre_ave_opponents_rating  # store it in df_mix\n",
    "print(df_mix['pre_ave_opponents_rating'])"
   ]
  },
  {
   "cell_type": "markdown",
   "metadata": {},
   "source": [
    "### Store the data as csv file"
   ]
  },
  {
   "cell_type": "code",
   "execution_count": null,
   "metadata": {},
   "outputs": [],
   "source": [
    "df_mix.to_csv(\"result.csv\")"
   ]
  }
 ],
 "metadata": {
  "kernelspec": {
   "display_name": "Python 3.9.12 ('base')",
   "language": "python",
   "name": "python3"
  },
  "language_info": {
   "codemirror_mode": {
    "name": "ipython",
    "version": 3
   },
   "file_extension": ".py",
   "mimetype": "text/x-python",
   "name": "python",
   "nbconvert_exporter": "python",
   "pygments_lexer": "ipython3",
   "version": "3.9.12"
  },
  "orig_nbformat": 4,
  "vscode": {
   "interpreter": {
    "hash": "40d3a090f54c6569ab1632332b64b2c03c39dcf918b08424e98f38b5ae0af88f"
   }
  }
 },
 "nbformat": 4,
 "nbformat_minor": 2
}
