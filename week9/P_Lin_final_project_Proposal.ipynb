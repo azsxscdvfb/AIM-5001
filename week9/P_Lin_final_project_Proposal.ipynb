{
 "cells": [
  {
   "cell_type": "markdown",
   "id": "b14184e5",
   "metadata": {},
   "source": [
    "# Date:10/30/2022\n",
    "# Author: Siddanta K C, Aayush Bhetuwal, Pinxue Lin \n",
    "# AIM-5001 FINAL PROJECT"
   ]
  },
  {
   "cell_type": "markdown",
   "metadata": {},
   "source": [
    "# Introduction"
   ]
  },
  {
   "cell_type": "markdown",
   "metadata": {},
   "source": [
    "Since COVID-19 has not completely disappeared and people are still affected by new mutated variant, we still need to coexist with it for a long time in the future. Although the probability of serious illness and death after vaccination is greatly reduced, some studies still point out that there is a high probability of a sequelae (an aftereffect of a disease, condition, or injury) after COVID-19 infection as well as there is high risk to the elderly population, and there are obvious symptoms of pneumonia, cough, pharyngitis, other pulmonary problems and painful symptoms after recovering from the infection. These factors remind people that even though COVID-19 has been controlled through vaccination and world-wide COVID-19 spread prevention initiatives, its threat/spread has not been completely eliminated as it is still mutating into new variants, so our research focuses on the study of COVID spread, total number of tests conducted, people infected (positive cases), people hospitalized and death, we choose to predict the epidemic time by the virus concentrations measured in NYC wastewater and how the virus concentration in wastewater is related to the increase and decrease in the number of COVID cases and the time lag between the two tests. "
   ]
  },
  {
   "cell_type": "markdown",
   "metadata": {},
   "source": [
    "# Research Questions"
   ]
  },
  {
   "cell_type": "markdown",
   "metadata": {},
   "source": [
    "We assume that the virus concentrations measured in NYC wastewater should have a certain relationship with the number of people tested. What is the time relationship between them? The result from the samples collected from wastewater and the COVID test results during the time period. In addition, we can research the time relationship between the number of positive cases recorded and the number of hospitalizations and deaths. Applying this analysis in practice we can guide hospitals to predict in advance the number of patients infected from COVID-19 be admitted to the hospital and aware hospitals and people to prepare in advance, strengthen the efforts in preventing/controlling the spread of COVID-19. Consequently, even predicting the pandemic of COVID-19 in advance and make necessary arrangements. "
   ]
  },
  {
   "cell_type": "markdown",
   "metadata": {},
   "source": [
    "# Data to be Used"
   ]
  },
  {
   "cell_type": "markdown",
   "metadata": {},
   "source": [
    "Both of our data are sourced from NYC open data website. One of them is a downloadable “.csv” file, and the other one is the API provided by the website to obtain “json” text and process it from our code in a Jupyter notebook. For both set of data we will read the files and store them into separate data-frames and derive the relationship between the attributes of the data and research the time relationship between the data. \n",
    "COVID-19 Outcomes by Testing Cohorts: Cases, Hospitalizations, and Deaths\n",
    "https://data.cityofnewyork.us/Health/COVID-19-Outcomes-by-Testing-Cohorts-Cases-Hospita/cwmx-mvra\n",
    "SARS-CoV-2 concentrations measured in NYC Wastewater\n",
    "https://data.cityofnewyork.us/Health/SARS-CoV-2-concentrations-measured-in-NYC-Wastewat/f7dc-2q9f"
   ]
  },
  {
   "cell_type": "markdown",
   "metadata": {},
   "source": [
    "# Approach"
   ]
  },
  {
   "cell_type": "markdown",
   "metadata": {},
   "source": [
    "We plan to store our data in postgreSQL. First, we’ll use the ER diagram to draw the structure of the database, then process the obtained data, and import the obtained data-frame object into the database. We plan to use Exploratory Data Analysis (EDA) and Descriptive Statistical Analysis to research problems and try to use Predictive Analysis. Using EDA we can quickly find potential correspondences/relationship between data. Descriptive Statistical Analysis allows us to summarize some general rules through the analysis of data characteristics in different time periods/frames, while predictive analysis allows us to predict future conditions. We will mainly use line chart to reflect the trend of different data and use histogram to show the change rate of data. We plan to complete data acquisition, data cleaning and data storage in the 10th week. Carry out some analysis in week 11. Generate new data according to new requirements, continue analysis and report in week 12. Complete the report in week 13. Pinxue Lin is responsible for obtaining data processing data and writing them into the database. Aayush Bhetuwal and Siddanta K C are responsible for the design of database and conducting data analysis work.  \n",
    "During this project, we want to apply plotly dash to our project, it  is a package in python which can interactively display plots through web pages. We can use this web page to dynamically display data, such as regional display of virus levels measured in different areas of New York City, or display data at a time selected by the user."
   ]
  }
 ],
 "metadata": {
  "kernelspec": {
   "display_name": "Python 3.9.12 ('base')",
   "language": "python",
   "name": "python3"
  },
  "language_info": {
   "codemirror_mode": {
    "name": "ipython",
    "version": 3
   },
   "file_extension": ".py",
   "mimetype": "text/x-python",
   "name": "python",
   "nbconvert_exporter": "python",
   "pygments_lexer": "ipython3",
   "version": "3.9.12 (main, Jun  1 2022, 06:34:44) \n[Clang 12.0.0 ]"
  },
  "orig_nbformat": 4,
  "vscode": {
   "interpreter": {
    "hash": "40d3a090f54c6569ab1632332b64b2c03c39dcf918b08424e98f38b5ae0af88f"
   }
  }
 },
 "nbformat": 4,
 "nbformat_minor": 2
}
